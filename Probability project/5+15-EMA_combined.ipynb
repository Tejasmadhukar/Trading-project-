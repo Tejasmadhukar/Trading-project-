{
 "cells": [
  {
   "cell_type": "markdown",
   "id": "e0dadea9",
   "metadata": {},
   "source": [
    "<h1>5+15 EMA combined backtest</h1>\n",
    "<hr>"
   ]
  },
  {
   "cell_type": "code",
   "execution_count": 26,
   "id": "1c76bb1f",
   "metadata": {},
   "outputs": [],
   "source": [
    "import numpy as np\n",
    "import pandas as pd\n",
    "import seaborn as sns\n",
    "import plotly.graph_objects as go\n",
    "import talib as ta\n",
    "import yfinance as yf\n",
    "import datetime"
   ]
  },
  {
   "cell_type": "code",
   "execution_count": 73,
   "id": "b781bffc",
   "metadata": {},
   "outputs": [
    {
     "name": "stdout",
     "output_type": "stream",
     "text": [
      "[*********************100%***********************]  1 of 1 completed\n"
     ]
    }
   ],
   "source": [
    "data1 = yf.download(tickers='ICICIBANK.NS', period='60d', interval='5m')\n",
    "data1.to_csv(\"test.csv\")"
   ]
  },
  {
   "cell_type": "code",
   "execution_count": 74,
   "id": "f95d143a",
   "metadata": {},
   "outputs": [
    {
     "name": "stdout",
     "output_type": "stream",
     "text": [
      "[*********************100%***********************]  1 of 1 completed\n"
     ]
    }
   ],
   "source": [
    "data2 = yf.download(tickers='ICICIBANK.NS', period='60d', interval='15m')\n",
    "data2.to_csv(\"test1.csv\")"
   ]
  },
  {
   "cell_type": "code",
   "execution_count": 75,
   "id": "47893f3f",
   "metadata": {},
   "outputs": [],
   "source": [
    "data1 = pd.read_csv('/Users/tejasmadhukar/Documents/Vscode/Data_s/Probability project/test.csv')\n",
    "data1['Datetime'] = pd.to_datetime(data1['Datetime'])\n",
    "data1['5EMA'] = ta.EMA(data1['Close'],5)\n",
    "\n",
    "data2 = pd.read_csv('/Users/tejasmadhukar/Documents/Vscode/Data_s/Probability project/test1.csv')\n",
    "data2['Datetime'] = pd.to_datetime(data2['Datetime'])\n",
    "data2['5EMA'] = ta.EMA(data2['Close'],5)"
   ]
  },
  {
   "cell_type": "code",
   "execution_count": 76,
   "id": "74ebacdc",
   "metadata": {},
   "outputs": [],
   "source": [
    "data1 = data1[data1['Datetime'].dt.month==11]\n",
    "data2 = data2[data2['Datetime'].dt.month==11]"
   ]
  },
  {
   "cell_type": "code",
   "execution_count": 77,
   "id": "21676922",
   "metadata": {},
   "outputs": [],
   "source": [
    "def enter_buy(data,j,sl,entry,target,arr,ana,count,slb_m):\n",
    "    k = j+2\n",
    "    while(k<len(data['Close'])):\n",
    "        \n",
    "        if data['Datetime'].dt.date.values[k] not in slb_m:\n",
    "            slb_m[data['Datetime'].dt.date.values[k]] = 0\n",
    "            \n",
    "        if(data['Datetime'].dt.day.values[k]>data['Datetime'].dt.day.values[j]):\n",
    "            return \n",
    "        if(data['Close'].values[k]<sl):\n",
    "            change = (sl-entry)/entry\n",
    "            arr.append(change)\n",
    "            slb_m[data['Datetime'].dt.date.values[k]] += 1\n",
    "            ana[count] = \"-ve sl:{0} , entry:{1} , exit:{2} , target:{3} , entry-time{4} , exit-time:{5}\".format(sl,entry,sl,target,data['Datetime'].dt.time.values[j+1],data['Datetime'].dt.time.values[k])\n",
    "            return k \n",
    "        if(data['Close'].values[k]>target):\n",
    "            change = (target-entry)/entry\n",
    "            arr.append(change)\n",
    "            ana[count] = \"+ve sl:{0} , entry:{1} , exit:{2} , target:{3} , entry-time{4} , exit-time:{5}\".format(sl,entry,target,target,data['Datetime'].dt.time.values[j+1],data['Datetime'].dt.time.values[k])\n",
    "            return k\n",
    "        if(data['5EMA'].values[k]-data['High'].values[k]>0.4):\n",
    "            change = (data['Close'].values[k]-entry)/entry\n",
    "            arr.append(change)\n",
    "            ch_b = change>0\n",
    "            if(change<0):\n",
    "                slb_m[data['Datetime'].dt.date.values[k]] += 1\n",
    "            ana[count] = \"{6} sl:{0} , entry:{1} , exit:{2} , target:{3} , entry-time{4} , exit-time:{5}\".format(sl,entry,data['Close'].values[k],target,data['Datetime'].dt.time.values[j+1],data['Datetime'].dt.time.values[k],ch_b)\n",
    "            return k-2\n",
    "        k += 1"
   ]
  },
  {
   "cell_type": "code",
   "execution_count": 78,
   "id": "2c9c3b05",
   "metadata": {},
   "outputs": [],
   "source": [
    "def trade_buy(data,i,arr,ana,count,slb_m):\n",
    "    sl = 0.0\n",
    "    sl_h = 0.0\n",
    "    entry = 0.0\n",
    "    target = 0.0\n",
    "    j = i+1\n",
    "    while(j<len(data['Close'])-1):\n",
    "        if(data['High'].values[j]>data['5EMA'].values[j] and data['Low'].values[j]<data['5EMA'].values[j]):\n",
    "            sl = data['Low'].values[j-1]\n",
    "            entry = data['Open'].values[j+1] + ((data['Close'].values[j+1]-data['Open'].values[j+1])/2)\n",
    "            target = entry + (3*(entry-sl))\n",
    "            if(entry<sl):\n",
    "                return j \n",
    "            return enter_buy(data,j,sl,entry,target,arr,ana,count,slb_m)\n",
    "        j += 1"
   ]
  },
  {
   "cell_type": "code",
   "execution_count": 79,
   "id": "0ca3ba9a",
   "metadata": {},
   "outputs": [],
   "source": [
    "def enter_sell(data,j,sl,entry,target,arr,ana,count,sls_m):\n",
    "    k = j+2\n",
    "    while(k<len(data['Close'])):\n",
    "        \n",
    "        if data['Datetime'].dt.date.values[k] not in sls_m:\n",
    "            sls_m[data['Datetime'].dt.date.values[k]] = 0\n",
    "            \n",
    "        if(data['Datetime'].dt.day.values[k]>data['Datetime'].dt.day.values[j]):\n",
    "            return \n",
    "        \n",
    "        if(data['Close'].values[k]>sl):\n",
    "            change = (entry-sl)/entry\n",
    "            arr.append(change)\n",
    "            sls_m[data['Datetime'].dt.date.values[k]] += 1\n",
    "            ana[count] = \"-ve sl:{0} , entry:{1} , exit:{2} , target:{3} , entry-time{4} , exit-time:{5}\".format(sl,entry,sl,target,data['Datetime'].dt.time.values[j+1],data['Datetime'].dt.time.values[k])\n",
    "            return k \n",
    "        if(data['Close'].values[k]<target):\n",
    "            change = (entry-target)/entry\n",
    "            arr.append(change)\n",
    "            ana[count] = \"+ve sl:{0} , entry:{1} , exit:{2} , target:{3} , entry-time{4} , exit-time:{5}\".format(sl,entry,target,target,data['Datetime'].dt.time.values[j+1],data['Datetime'].dt.time.values[k])\n",
    "            return k\n",
    "        if(data['Low'].values[k]-data['5EMA'].values[k]>0.4):\n",
    "            change = (entry-data['Close'].values[k])/entry\n",
    "            arr.append(change)\n",
    "            ch_b = change>0\n",
    "            if(change<0):\n",
    "                sls_m[data['Datetime'].dt.date.values[k]] += 1\n",
    "            ana[count] = \"{6} sl:{0} , entry:{1} , exit:{2} , target:{3} , entry-time{4} , exit-time:{5}\".format(sl,entry,data['Close'].values[k],target,data['Datetime'].dt.time.values[j+1],data['Datetime'].dt.time.values[k],ch_b)\n",
    "            return k-2\n",
    "        k += 1"
   ]
  },
  {
   "cell_type": "code",
   "execution_count": 80,
   "id": "3370f158",
   "metadata": {},
   "outputs": [],
   "source": [
    "def trade_sell(data,i,arr,ana,count,sls_m):\n",
    "    sl = 0.0\n",
    "    sl_h = 0.0\n",
    "    entry = 0.0\n",
    "    target = 0.0\n",
    "    j = i+1\n",
    "    while(j<len(data['Close'])-1):\n",
    "        if(data['High'].values[j]>data['5EMA'].values[j] and data['Low'].values[j]<data['5EMA'].values[j]):\n",
    "            sl = data['High'].values[j-1]\n",
    "            entry = data['Open'].values[j+1] + ((data['Close'].values[j+1]-data['Open'].values[j+1])/2)\n",
    "            target = entry - (3*(sl-entry))\n",
    "            if(entry>sl):\n",
    "                return j \n",
    "            return enter_sell(data,j,sl,entry,target,arr,ana,count,sls_m)\n",
    "        j += 1"
   ]
  },
  {
   "cell_type": "code",
   "execution_count": 81,
   "id": "24aed635",
   "metadata": {},
   "outputs": [],
   "source": [
    "def EMA(arr,data1,data2,ana,sls_m,slb_m):\n",
    "    i1 = 0\n",
    "    i2 = 0\n",
    "    count = 0\n",
    "    while(i1<len(data1['Close'])-1 or i2<len(data2['Close'])-1):\n",
    "        \n",
    "        if data1['Datetime'].dt.date.values[i1] not in sls_m:\n",
    "            sls_m[data1['Datetime'].dt.date.values[i1]] = 0\n",
    "            \n",
    "        if(sls_m[data1['Datetime'].dt.date.values[i1]]>1):\n",
    "            i1 += 1\n",
    "            continue \n",
    "            \n",
    "        if(data1['Low'].values[i1]>data1['5EMA'].values[i1]):\n",
    "            count += 1\n",
    "            a = trade_sell(data1,i1,arr,ana,count,sls_m)\n",
    "            try:\n",
    "                b = a-i1+1\n",
    "                i1 += b\n",
    "                continue\n",
    "            except:\n",
    "                c = 1+1\n",
    "        \n",
    "        i1 += 1\n",
    "        \n",
    "        if(i2 == len(data2['Close'])):\n",
    "            continue\n",
    "        \n",
    "        if data2['Datetime'].dt.date.values[i2] not in slb_m:\n",
    "            slb_m[data2['Datetime'].dt.date.values[i2]] = 0\n",
    "            \n",
    "        if(slb_m[data2['Datetime'].dt.date.values[i2]]>1):\n",
    "            i2 += 1\n",
    "            continue\n",
    "        \n",
    "        if(data2['High'].values[i2]<data2['5EMA'].values[i2]):\n",
    "            count += 1\n",
    "            x = trade_buy(data2,i2,arr,ana,count,slb_m)\n",
    "            try:\n",
    "                y = x-i2+1\n",
    "                i2 += y\n",
    "                continue\n",
    "            except:\n",
    "                z = 1+1\n",
    "        \n",
    "        i2 += 1\n",
    "                \n",
    "        "
   ]
  },
  {
   "cell_type": "code",
   "execution_count": 82,
   "id": "abb8f3bf",
   "metadata": {},
   "outputs": [],
   "source": [
    "arr = []\n",
    "ana = {}\n",
    "sls_m = {}\n",
    "slb_m = {}\n",
    "\n",
    "EMA(arr,data1,data2,ana,sls_m,slb_m)"
   ]
  },
  {
   "cell_type": "code",
   "execution_count": 83,
   "id": "5d430524",
   "metadata": {},
   "outputs": [
    {
     "name": "stdout",
     "output_type": "stream",
     "text": [
      "10000\n",
      "10219.491764765884\n",
      "219.491764765884\n",
      "2.19491764765884\n"
     ]
    }
   ],
   "source": [
    "amount  = 10000\n",
    "ini = amount\n",
    "for i in arr:\n",
    "    amount = (1+i)*amount\n",
    "print(ini)\n",
    "print(amount)\n",
    "print(amount-ini)\n",
    "print(((amount-ini)/ini)*100)"
   ]
  },
  {
   "cell_type": "code",
   "execution_count": 84,
   "id": "eb09f7e4",
   "metadata": {},
   "outputs": [
    {
     "data": {
      "text/plain": [
       "{1: '+ve sl:914.1500244140624 , entry:912.5750122070312 , exit:907.8499755859378 , target:907.8499755859378 , entry-time09:30:00 , exit-time:12:10:00',\n",
       " 3: '+ve sl:901.7000122070312 , entry:903.125 , exit:907.3999633789062 , target:907.3999633789062 , entry-time13:45:00 , exit-time:15:00:00',\n",
       " 4: '-ve sl:905.6500244140624 , entry:906.5249938964844 , exit:905.6500244140624 , target:909.1499023437503 , entry-time11:30:00 , exit-time:12:15:00',\n",
       " 7: 'False sl:908.9500122070312 , entry:906.6499938964844 , exit:908.9500122070312 , target:899.7499389648438 , entry-time15:00:00 , exit-time:15:10:00',\n",
       " 10: 'False sl:897.0499877929688 , entry:906.2749938964844 , exit:905.8499755859376 , target:933.9500122070312 , entry-time09:45:00 , exit-time:14:15:00',\n",
       " 12: '-ve sl:912.0 , entry:911.1499938964844 , exit:912.0 , target:908.5999755859375 , entry-time09:55:00 , exit-time:10:05:00',\n",
       " 13: '+ve sl:913.5999755859376 , entry:911.7999877929688 , exit:906.4000244140622 , target:906.4000244140622 , entry-time10:20:00 , exit-time:11:00:00',\n",
       " 14: '-ve sl:906.3499755859376 , entry:906.9750061035156 , exit:906.3499755859376 , target:908.8500976562497 , entry-time11:30:00 , exit-time:12:45:00',\n",
       " 17: '+ve sl:900.5 , entry:901.875 , exit:906.0 , target:906.0 , entry-time14:45:00 , exit-time:15:15:00',\n",
       " 19: '-ve sl:907.0 , entry:908.2000122070312 , exit:907.0 , target:911.800048828125 , entry-time13:00:00 , exit-time:13:15:00',\n",
       " 23: '-ve sl:910.25 , entry:911.8999938964844 , exit:910.25 , target:916.8499755859375 , entry-time11:00:00 , exit-time:11:30:00',\n",
       " 24: '+ve sl:906.9000244140624 , entry:908.0499877929688 , exit:911.4998779296878 , target:911.4998779296878 , entry-time12:30:00 , exit-time:14:00:00',\n",
       " 27: '-ve sl:906.8499755859376 , entry:908.2250061035156 , exit:906.8499755859376 , target:912.3500976562497 , entry-time11:15:00 , exit-time:12:00:00',\n",
       " 28: '+ve sl:904.75 , entry:906.125 , exit:910.25 , target:910.25 , entry-time13:00:00 , exit-time:15:15:00',\n",
       " 29: '-ve sl:906.4000244140624 , entry:905.6499938964844 , exit:906.4000244140624 , target:903.3999023437503 , entry-time10:00:00 , exit-time:10:05:00',\n",
       " 30: 'False sl:909.4500122070312 , entry:908.875 , exit:909.2999877929688 , target:907.1499633789062 , entry-time10:25:00 , exit-time:10:30:00',\n",
       " 31: '-ve sl:908.25 , entry:910.3999938964844 , exit:908.25 , target:916.8499755859375 , entry-time12:00:00 , exit-time:12:15:00',\n",
       " 32: 'True sl:913.4000244140624 , entry:909.9750061035156 , exit:905.9500122070312 , target:899.6999511718753 , entry-time09:40:00 , exit-time:15:10:00',\n",
       " 34: '-ve sl:911.4000244140624 , entry:910.4750061035156 , exit:911.4000244140624 , target:907.6999511718753 , entry-time09:50:00 , exit-time:09:55:00',\n",
       " 35: '-ve sl:905.4000244140624 , entry:909.7250061035156 , exit:905.4000244140624 , target:922.6999511718753 , entry-time13:15:00 , exit-time:14:15:00',\n",
       " 36: '+ve sl:916.3499755859376 , entry:915.0500183105469 , exit:911.1501464843747 , target:911.1501464843747 , entry-time10:20:00 , exit-time:10:55:00',\n",
       " 37: '-ve sl:894.0 , entry:895.5249938964844 , exit:894.0 , target:900.0999755859375 , entry-time11:00:00 , exit-time:12:00:00',\n",
       " 40: '-ve sl:905.2000122070312 , entry:906.7999877929688 , exit:905.2000122070312 , target:911.5999145507812 , entry-time12:15:00 , exit-time:13:45:00',\n",
       " 41: '-ve sl:907.75 , entry:907.5 , exit:907.75 , target:906.75 , entry-time14:15:00 , exit-time:14:20:00',\n",
       " 43: '-ve sl:910.2999877929688 , entry:911.5 , exit:910.2999877929688 , target:915.1000366210938 , entry-time12:45:00 , exit-time:13:00:00',\n",
       " 44: '-ve sl:912.3499755859376 , entry:914.7999877929688 , exit:912.3499755859376 , target:922.1500244140622 , entry-time10:30:00 , exit-time:11:00:00',\n",
       " 45: '+ve sl:911.5 , entry:912.8250122070312 , exit:916.800048828125 , target:916.800048828125 , entry-time12:00:00 , exit-time:15:00:00',\n",
       " 46: '-ve sl:912.0 , entry:909.8999938964844 , exit:912.0 , target:903.5999755859375 , entry-time14:00:00 , exit-time:14:20:00',\n",
       " 47: 'False sl:912.8499755859376 , entry:908.5750122070312 , exit:911.0 , target:895.7501220703122 , entry-time14:40:00 , exit-time:15:05:00',\n",
       " 49: '-ve sl:910.8499755859376 , entry:909.4249877929688 , exit:910.8499755859376 , target:905.1500244140622 , entry-time11:45:00 , exit-time:15:20:00',\n",
       " 50: '-ve sl:924.9500122070312 , entry:922.875 , exit:924.9500122070312 , target:916.6499633789062 , entry-time09:40:00 , exit-time:09:45:00',\n",
       " 51: '+ve sl:928.0 , entry:924.7250061035156 , exit:914.9000244140625 , target:914.9000244140625 , entry-time10:00:00 , exit-time:11:10:00',\n",
       " 55: '+ve sl:908.5999755859376 , entry:908.0500183105469 , exit:906.4001464843747 , target:906.4001464843747 , entry-time15:05:00 , exit-time:15:10:00',\n",
       " 64: '-ve sl:896.4000244140625 , entry:895.375 , exit:896.4000244140625 , target:892.2999267578125 , entry-time12:00:00 , exit-time:14:15:00',\n",
       " 67: 'False sl:907.5 , entry:906.3250122070312 , exit:907.3499755859376 , target:902.800048828125 , entry-time09:55:00 , exit-time:10:00:00',\n",
       " 68: 'True sl:909.0999755859376 , entry:907.4249877929688 , exit:906.9500122070312 , target:902.4000244140622 , entry-time10:20:00 , exit-time:14:10:00',\n",
       " 70: '-ve sl:908.7000122070312 , entry:907.75 , exit:908.7000122070312 , target:904.8999633789062 , entry-time14:40:00 , exit-time:14:45:00',\n",
       " 71: '+ve sl:917.9500122070312 , entry:916.8250122070312 , exit:913.4500122070312 , target:913.4500122070312 , entry-time10:20:00 , exit-time:11:35:00',\n",
       " 77: '+ve sl:941.8499755859376 , entry:943.2999877929688 , exit:947.6500244140622 , target:947.6500244140622 , entry-time11:30:00 , exit-time:14:30:00',\n",
       " 79: '-ve sl:919.7999877929688 , entry:918.3249816894531 , exit:919.7999877929688 , target:913.8999633789062 , entry-time09:50:00 , exit-time:11:45:00',\n",
       " 80: '-ve sl:920.9000244140624 , entry:919.4750061035156 , exit:920.9000244140624 , target:915.1999511718753 , entry-time12:05:00 , exit-time:12:35:00',\n",
       " 81: '-ve sl:917.0499877929688 , entry:914.2249755859376 , exit:917.0499877929688 , target:905.7499389648442 , entry-time10:40:00 , exit-time:15:00:00',\n",
       " 82: '-ve sl:922.0 , entry:919.625 , exit:922.0 , target:912.5 , entry-time09:20:00 , exit-time:11:00:00',\n",
       " 84: '+ve sl:924.7000122070312 , entry:923.3250122070312 , exit:919.2000122070312 , target:919.2000122070312 , entry-time11:35:00 , exit-time:12:20:00',\n",
       " 85: '-ve sl:922.7999877929688 , entry:922.1750183105469 , exit:922.7999877929688 , target:920.3001098632812 , entry-time13:00:00 , exit-time:14:50:00',\n",
       " 87: '-ve sl:925.7000122070312 , entry:923.9250183105469 , exit:925.7000122070312 , target:918.6000366210938 , entry-time10:45:00 , exit-time:14:20:00',\n",
       " 88: '-ve sl:926.8499755859376 , entry:926.25 , exit:926.8499755859376 , target:924.4500732421872 , entry-time09:35:00 , exit-time:12:50:00',\n",
       " 89: '-ve sl:928.9500122070312 , entry:928.375 , exit:928.9500122070312 , target:926.6499633789062 , entry-time13:20:00 , exit-time:13:50:00',\n",
       " 90: '-ve sl:931.5999755859376 , entry:929.4749755859376 , exit:931.5999755859376 , target:923.0999755859376 , entry-time09:45:00 , exit-time:10:40:00',\n",
       " 91: '+ve sl:932.8499755859376 , entry:932.75 , exit:932.4500732421872 , target:932.4500732421872 , entry-time11:10:00 , exit-time:11:15:00',\n",
       " 93: '-ve sl:933.9000244140624 , entry:933.7749938964844 , exit:933.9000244140624 , target:933.3999023437503 , entry-time12:15:00 , exit-time:12:20:00',\n",
       " 94: '+ve sl:942.9000244140624 , entry:940.4249877929688 , exit:932.9998779296878 , target:932.9998779296878 , entry-time09:40:00 , exit-time:11:10:00',\n",
       " 96: '+ve sl:931.75 , entry:931.2250061035156 , exit:929.6500244140625 , target:929.6500244140625 , entry-time14:05:00 , exit-time:14:15:00',\n",
       " 98: '-ve sl:934.0 , entry:932.6000061035156 , exit:934.0 , target:928.4000244140625 , entry-time09:40:00 , exit-time:10:15:00',\n",
       " 99: '-ve sl:935.75 , entry:934.375 , exit:935.75 , target:930.25 , entry-time10:35:00 , exit-time:11:00:00',\n",
       " 101: '-ve sl:948.6500244140624 , entry:947.5250244140624 , exit:948.6500244140624 , target:944.1500244140624 , entry-time10:10:00 , exit-time:11:00:00',\n",
       " 104: '-ve sl:948.5999755859376 , entry:947.5750122070312 , exit:948.5999755859376 , target:944.5001220703122 , entry-time12:25:00 , exit-time:12:40:00',\n",
       " 105: 'True sl:954.4500122070312 , entry:950.9750061035156 , exit:944.5999755859376 , target:940.5499877929688 , entry-time09:35:00 , exit-time:11:40:00',\n",
       " 106: 'False sl:946.3499755859376 , entry:944.2749938964844 , exit:945.7000122070312 , target:938.0500488281247 , entry-time11:55:00 , exit-time:14:15:00',\n",
       " 107: '-ve sl:946.6500244140624 , entry:945.9500122070312 , exit:946.6500244140624 , target:943.8499755859378 , entry-time14:25:00 , exit-time:14:30:00'}"
      ]
     },
     "execution_count": 84,
     "metadata": {},
     "output_type": "execute_result"
    }
   ],
   "source": [
    "ana"
   ]
  },
  {
   "cell_type": "code",
   "execution_count": null,
   "id": "79b4c49c",
   "metadata": {},
   "outputs": [],
   "source": []
  },
  {
   "cell_type": "code",
   "execution_count": null,
   "id": "0e3b75da",
   "metadata": {},
   "outputs": [],
   "source": []
  }
 ],
 "metadata": {
  "kernelspec": {
   "display_name": "Python 3 (ipykernel)",
   "language": "python",
   "name": "python3"
  },
  "language_info": {
   "codemirror_mode": {
    "name": "ipython",
    "version": 3
   },
   "file_extension": ".py",
   "mimetype": "text/x-python",
   "name": "python",
   "nbconvert_exporter": "python",
   "pygments_lexer": "ipython3",
   "version": "3.9.13"
  }
 },
 "nbformat": 4,
 "nbformat_minor": 5
}
