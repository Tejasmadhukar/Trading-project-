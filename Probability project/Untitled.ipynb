{
 "cells": [
  {
   "cell_type": "markdown",
   "id": "53e50693",
   "metadata": {},
   "source": [
    "<h1> Only alert for bullish market using 15 min </h1>\n",
    "<hr>"
   ]
  },
  {
   "cell_type": "code",
   "execution_count": 1,
   "id": "28446f2c",
   "metadata": {},
   "outputs": [],
   "source": [
    "import numpy as np\n",
    "import pandas as pd\n",
    "import yfinance as yf\n",
    "import talib as ta\n",
    "import time\n",
    "from pushover import Pushover"
   ]
  },
  {
   "cell_type": "code",
   "execution_count": 2,
   "id": "b886c973",
   "metadata": {},
   "outputs": [],
   "source": [
    "po = Pushover(\"an3he6x85bwsh97t87goxwu462yru6\")\n",
    "po.user(\"uuev1ffw9cepf5iquv3wu8hk29xo3m\")"
   ]
  },
  {
   "cell_type": "code",
   "execution_count": 3,
   "id": "dde77e30",
   "metadata": {},
   "outputs": [],
   "source": [
    "def Alert():\n",
    "    while(True):\n",
    "        data = yf.download(tickers='^NSEI', period='2d', interval='15m')\n",
    "        data['5EMA'] = ta.EMA(data['Close'],5)\n",
    "        print(data.tail())\n",
    "        if(data['High'].values[-2]<data['5EMA'].values[-2]):\n",
    "            msg = po.msg(\"Watch market\")\n",
    "            msg.set(\"title\", \"Buying Indicator\")\n",
    "            po.send(msg)\n",
    "            return \n",
    "        time.sleep(300)"
   ]
  },
  {
   "cell_type": "code",
   "execution_count": 4,
   "id": "e2bebc1b",
   "metadata": {},
   "outputs": [
    {
     "name": "stdout",
     "output_type": "stream",
     "text": [
      "[*********************100%***********************]  1 of 1 completed\n",
      "                             Open          High           Low         Close  \\\n",
      "Datetime                                                                      \n",
      "2023-02-06 10:15:00  17774.099609  17777.449219  17715.500000  17716.900391   \n",
      "2023-02-06 10:30:00  17716.849609  17735.150391  17705.449219  17723.199219   \n",
      "2023-02-06 10:45:00  17723.550781  17732.949219  17698.900391  17719.900391   \n",
      "2023-02-06 11:00:00  17718.800781  17725.650391  17711.099609  17725.349609   \n",
      "2023-02-06 11:03:11  17725.550781  17725.550781  17725.550781  17725.550781   \n",
      "\n",
      "                        Adj Close  Volume          5EMA  \n",
      "Datetime                                                 \n",
      "2023-02-06 10:15:00  17716.900391       0  17759.783258  \n",
      "2023-02-06 10:30:00  17723.199219       0  17747.588578  \n",
      "2023-02-06 10:45:00  17719.900391       0  17738.359182  \n",
      "2023-02-06 11:00:00  17725.349609       0  17734.022658  \n",
      "2023-02-06 11:03:11  17725.550781       0  17731.198699  \n"
     ]
    }
   ],
   "source": [
    "Alert()"
   ]
  },
  {
   "cell_type": "code",
   "execution_count": null,
   "id": "28dfa75f",
   "metadata": {},
   "outputs": [],
   "source": []
  }
 ],
 "metadata": {
  "kernelspec": {
   "display_name": "Python 3 (ipykernel)",
   "language": "python",
   "name": "python3"
  },
  "language_info": {
   "codemirror_mode": {
    "name": "ipython",
    "version": 3
   },
   "file_extension": ".py",
   "mimetype": "text/x-python",
   "name": "python",
   "nbconvert_exporter": "python",
   "pygments_lexer": "ipython3",
   "version": "3.9.13"
  }
 },
 "nbformat": 4,
 "nbformat_minor": 5
}
