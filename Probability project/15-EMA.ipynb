{
 "cells": [
  {
   "attachments": {},
   "cell_type": "markdown",
   "id": "fbafd956",
   "metadata": {},
   "source": [
    "# Very Effective when used with 5EMA"
   ]
  },
  {
   "cell_type": "markdown",
   "id": "1b2cdab4",
   "metadata": {},
   "source": [
    "## Backtest for the buying stratergy \n",
    "<hr>"
   ]
  },
  {
   "cell_type": "code",
   "execution_count": 1,
   "id": "71114874",
   "metadata": {},
   "outputs": [],
   "source": [
    "import numpy as np\n",
    "import pandas as pd\n",
    "import seaborn as sns\n",
    "import plotly.graph_objects as go\n",
    "import talib as ta\n",
    "import yfinance as yf\n",
    "import datetime"
   ]
  },
  {
   "cell_type": "code",
   "execution_count": 40,
   "id": "823db7cb",
   "metadata": {
    "scrolled": false
   },
   "outputs": [
    {
     "name": "stdout",
     "output_type": "stream",
     "text": [
      "[*********************100%***********************]  1 of 1 completed\n"
     ]
    }
   ],
   "source": [
    "data = yf.download(tickers='ICICIBANK.NS', period='60d', interval='15m')\n",
    "data.to_csv(\"test1.csv\")"
   ]
  },
  {
   "cell_type": "code",
   "execution_count": 41,
   "id": "5de680a8",
   "metadata": {},
   "outputs": [],
   "source": [
    "data = pd.read_csv('/Users/tejasmadhukar/Documents/Vscode/Data_s/Probability project/test1.csv')\n",
    "# data = pd.read_csv('/Users/tejasmadhukar/Documents/Vscode/Data_s/Probability project/Data/NIFTY 50_5min.csv')\n",
    "# data = data[data['Datetime'].dt.year==2021]\n",
    "data['Datetime'] = pd.to_datetime(data['Datetime'])\n",
    "data['5EMA'] = ta.EMA(data['Close'],5)"
   ]
  },
  {
   "cell_type": "code",
   "execution_count": 42,
   "id": "68c3b005",
   "metadata": {
    "scrolled": true
   },
   "outputs": [
    {
     "data": {
      "text/html": [
       "<div>\n",
       "<style scoped>\n",
       "    .dataframe tbody tr th:only-of-type {\n",
       "        vertical-align: middle;\n",
       "    }\n",
       "\n",
       "    .dataframe tbody tr th {\n",
       "        vertical-align: top;\n",
       "    }\n",
       "\n",
       "    .dataframe thead th {\n",
       "        text-align: right;\n",
       "    }\n",
       "</style>\n",
       "<table border=\"1\" class=\"dataframe\">\n",
       "  <thead>\n",
       "    <tr style=\"text-align: right;\">\n",
       "      <th></th>\n",
       "      <th>Datetime</th>\n",
       "      <th>Open</th>\n",
       "      <th>High</th>\n",
       "      <th>Low</th>\n",
       "      <th>Close</th>\n",
       "      <th>Adj Close</th>\n",
       "      <th>Volume</th>\n",
       "      <th>5EMA</th>\n",
       "    </tr>\n",
       "  </thead>\n",
       "  <tbody>\n",
       "    <tr>\n",
       "      <th>1354</th>\n",
       "      <td>2023-01-02 09:15:00</td>\n",
       "      <td>896.799988</td>\n",
       "      <td>897.900024</td>\n",
       "      <td>894.099976</td>\n",
       "      <td>895.650024</td>\n",
       "      <td>895.650024</td>\n",
       "      <td>210251</td>\n",
       "      <td>893.667937</td>\n",
       "    </tr>\n",
       "    <tr>\n",
       "      <th>1355</th>\n",
       "      <td>2023-01-02 09:30:00</td>\n",
       "      <td>895.700012</td>\n",
       "      <td>903.349976</td>\n",
       "      <td>895.299988</td>\n",
       "      <td>903.349976</td>\n",
       "      <td>903.349976</td>\n",
       "      <td>453679</td>\n",
       "      <td>896.895283</td>\n",
       "    </tr>\n",
       "    <tr>\n",
       "      <th>1356</th>\n",
       "      <td>2023-01-02 09:45:00</td>\n",
       "      <td>903.400024</td>\n",
       "      <td>903.950012</td>\n",
       "      <td>902.000000</td>\n",
       "      <td>902.900024</td>\n",
       "      <td>902.900024</td>\n",
       "      <td>172059</td>\n",
       "      <td>898.896863</td>\n",
       "    </tr>\n",
       "    <tr>\n",
       "      <th>1357</th>\n",
       "      <td>2023-01-02 10:00:00</td>\n",
       "      <td>902.650024</td>\n",
       "      <td>905.000000</td>\n",
       "      <td>902.549988</td>\n",
       "      <td>903.299988</td>\n",
       "      <td>903.299988</td>\n",
       "      <td>163028</td>\n",
       "      <td>900.364572</td>\n",
       "    </tr>\n",
       "    <tr>\n",
       "      <th>1358</th>\n",
       "      <td>2023-01-02 10:15:00</td>\n",
       "      <td>903.250000</td>\n",
       "      <td>904.000000</td>\n",
       "      <td>902.599976</td>\n",
       "      <td>902.700012</td>\n",
       "      <td>902.700012</td>\n",
       "      <td>154544</td>\n",
       "      <td>901.143052</td>\n",
       "    </tr>\n",
       "    <tr>\n",
       "      <th>...</th>\n",
       "      <td>...</td>\n",
       "      <td>...</td>\n",
       "      <td>...</td>\n",
       "      <td>...</td>\n",
       "      <td>...</td>\n",
       "      <td>...</td>\n",
       "      <td>...</td>\n",
       "      <td>...</td>\n",
       "    </tr>\n",
       "    <tr>\n",
       "      <th>1475</th>\n",
       "      <td>2023-01-06 14:30:00</td>\n",
       "      <td>865.700012</td>\n",
       "      <td>866.000000</td>\n",
       "      <td>865.000000</td>\n",
       "      <td>865.450012</td>\n",
       "      <td>865.450012</td>\n",
       "      <td>451270</td>\n",
       "      <td>864.670670</td>\n",
       "    </tr>\n",
       "    <tr>\n",
       "      <th>1476</th>\n",
       "      <td>2023-01-06 14:45:00</td>\n",
       "      <td>865.450012</td>\n",
       "      <td>868.349976</td>\n",
       "      <td>865.299988</td>\n",
       "      <td>867.650024</td>\n",
       "      <td>867.650024</td>\n",
       "      <td>683490</td>\n",
       "      <td>865.663788</td>\n",
       "    </tr>\n",
       "    <tr>\n",
       "      <th>1477</th>\n",
       "      <td>2023-01-06 15:00:00</td>\n",
       "      <td>868.049988</td>\n",
       "      <td>872.000000</td>\n",
       "      <td>867.750000</td>\n",
       "      <td>871.250000</td>\n",
       "      <td>871.250000</td>\n",
       "      <td>914212</td>\n",
       "      <td>867.525859</td>\n",
       "    </tr>\n",
       "    <tr>\n",
       "      <th>1478</th>\n",
       "      <td>2023-01-06 15:15:00</td>\n",
       "      <td>871.349976</td>\n",
       "      <td>871.950012</td>\n",
       "      <td>868.799988</td>\n",
       "      <td>870.500000</td>\n",
       "      <td>870.500000</td>\n",
       "      <td>854708</td>\n",
       "      <td>868.517239</td>\n",
       "    </tr>\n",
       "    <tr>\n",
       "      <th>1479</th>\n",
       "      <td>2023-01-06 15:30:00</td>\n",
       "      <td>870.099976</td>\n",
       "      <td>870.099976</td>\n",
       "      <td>870.099976</td>\n",
       "      <td>870.099976</td>\n",
       "      <td>870.099976</td>\n",
       "      <td>0</td>\n",
       "      <td>869.044818</td>\n",
       "    </tr>\n",
       "  </tbody>\n",
       "</table>\n",
       "<p>126 rows × 8 columns</p>\n",
       "</div>"
      ],
      "text/plain": [
       "                Datetime        Open        High         Low       Close  \\\n",
       "1354 2023-01-02 09:15:00  896.799988  897.900024  894.099976  895.650024   \n",
       "1355 2023-01-02 09:30:00  895.700012  903.349976  895.299988  903.349976   \n",
       "1356 2023-01-02 09:45:00  903.400024  903.950012  902.000000  902.900024   \n",
       "1357 2023-01-02 10:00:00  902.650024  905.000000  902.549988  903.299988   \n",
       "1358 2023-01-02 10:15:00  903.250000  904.000000  902.599976  902.700012   \n",
       "...                  ...         ...         ...         ...         ...   \n",
       "1475 2023-01-06 14:30:00  865.700012  866.000000  865.000000  865.450012   \n",
       "1476 2023-01-06 14:45:00  865.450012  868.349976  865.299988  867.650024   \n",
       "1477 2023-01-06 15:00:00  868.049988  872.000000  867.750000  871.250000   \n",
       "1478 2023-01-06 15:15:00  871.349976  871.950012  868.799988  870.500000   \n",
       "1479 2023-01-06 15:30:00  870.099976  870.099976  870.099976  870.099976   \n",
       "\n",
       "       Adj Close  Volume        5EMA  \n",
       "1354  895.650024  210251  893.667937  \n",
       "1355  903.349976  453679  896.895283  \n",
       "1356  902.900024  172059  898.896863  \n",
       "1357  903.299988  163028  900.364572  \n",
       "1358  902.700012  154544  901.143052  \n",
       "...          ...     ...         ...  \n",
       "1475  865.450012  451270  864.670670  \n",
       "1476  867.650024  683490  865.663788  \n",
       "1477  871.250000  914212  867.525859  \n",
       "1478  870.500000  854708  868.517239  \n",
       "1479  870.099976       0  869.044818  \n",
       "\n",
       "[126 rows x 8 columns]"
      ]
     },
     "execution_count": 42,
     "metadata": {},
     "output_type": "execute_result"
    }
   ],
   "source": [
    "data = data[data['Datetime'].dt.month==1]\n",
    "# data = data.iloc[25:]\n",
    "data"
   ]
  },
  {
   "cell_type": "code",
   "execution_count": 43,
   "id": "02636f1e",
   "metadata": {},
   "outputs": [],
   "source": [
    "def enter(data,j,sl,entry,target,arr,arrc,ana,count,sl_m):\n",
    "    k = j+2\n",
    "    while(k<len(data['Close'])):\n",
    "        \n",
    "        if data['Datetime'].dt.date.values[k] not in sl_m:\n",
    "            sl_m[data['Datetime'].dt.date.values[k]] = 0\n",
    "            \n",
    "        if(data['Datetime'].dt.day.values[k]>data['Datetime'].dt.day.values[j]):\n",
    "            return \n",
    "\n",
    "        if(data['Close'].values[k]<sl):\n",
    "            change = (sl-entry)/entry\n",
    "            arrc.append(data['Datetime'].values[k])\n",
    "            arr.append(change)\n",
    "            sl_m[data['Datetime'].dt.date.values[k]] += 1\n",
    "            ana[count] = \"-ve sl:{0} , entry:{1} , exit:{2} , target:{3} , Date:{6}, entry-time{4} , exit-time:{5}\".format(sl,entry,sl,target,data['Datetime'].dt.time.values[j+1],data['Datetime'].dt.time.values[k],data['Datetime'].dt.date.values[k])\n",
    "            return k \n",
    "\n",
    "        if(data['Close'].values[k]>target):\n",
    "            change = (target-entry)/entry\n",
    "            arrc.append(data['Datetime'].values[k])\n",
    "            arr.append(change)\n",
    "            ana[count] = \"+ve sl:{0} , entry:{1} , exit:{2} , target:{3} , Date:{6}, entry-time{4} , exit-time:{5}\".format(sl,entry,target,target,data['Datetime'].dt.time.values[j+1],data['Datetime'].dt.time.values[k],data['Datetime'].dt.date.values[k])\n",
    "            return k\n",
    "\n",
    "        if(data['5EMA'].values[k]-data['High'].values[k]>0.4):\n",
    "            change = (data['Close'].values[k]-entry)/entry\n",
    "            arrc.append(data['Datetime'].values[k])\n",
    "            arr.append(change)\n",
    "            ch_b = change>0\n",
    "            if(change<0):\n",
    "                sl_m[data['Datetime'].dt.date.values[k]] += 1\n",
    "            ana[count] = \"{6} sl:{0} , entry:{1} , exit:{2} , target:{3} , Date:{7}, entry-time{4} , exit-time:{5}\".format(sl,entry,data['Close'].values[k],target,data['Datetime'].dt.time.values[j+1],data['Datetime'].dt.time.values[k],ch_b,data['Datetime'].dt.date.values[k])\n",
    "            return k-2\n",
    "\n",
    "        k += 1"
   ]
  },
  {
   "cell_type": "code",
   "execution_count": 44,
   "id": "076a32d2",
   "metadata": {},
   "outputs": [],
   "source": [
    "def trade(data,i,arr,arrc,ana,count,sl_m):\n",
    "    sl = 0.0\n",
    "    sl_h = 0.0\n",
    "    entry = 0.0\n",
    "    target = 0.0\n",
    "    j = i+1\n",
    "    while(j<len(data['Close'])-1):\n",
    "        if(data['High'].values[j]>data['5EMA'].values[j] and data['Low'].values[j]<data['5EMA'].values[j]):\n",
    "            sl = data['Low'].values[j-1]\n",
    "            entry = data['Open'].values[j+1] + ((data['Close'].values[j+1]-data['Open'].values[j+1])/2)\n",
    "            target = entry + (3*(entry-sl))\n",
    "            if(entry<sl):\n",
    "                return j \n",
    "            return enter(data,j,sl,entry,target,arr,arrc,ana,count,sl_m)\n",
    "        j += 1"
   ]
  },
  {
   "cell_type": "code",
   "execution_count": 45,
   "id": "1fb2e928",
   "metadata": {},
   "outputs": [],
   "source": [
    "def EMA(amount,arr,data,arrc,ana,sl_m):\n",
    "    i = 0\n",
    "    count = 0\n",
    "    while(i<len(data['Close'])-1):\n",
    "        \n",
    "        if data['Datetime'].dt.date.values[i] not in sl_m:\n",
    "            sl_m[data['Datetime'].dt.date.values[i]] = 0\n",
    "            \n",
    "        if(sl_m[data['Datetime'].dt.date.values[i]]>3):\n",
    "            i += 1\n",
    "            continue\n",
    "            \n",
    "        if(data['High'].values[i]<data['5EMA'].values[i]):\n",
    "            count += 1\n",
    "            a = trade(data,i,arr,arrc,ana,count,sl_m)\n",
    "            try:\n",
    "                b = a-i+1\n",
    "                i += b\n",
    "                continue\n",
    "            except:\n",
    "                c = 1+1\n",
    "        i += 1"
   ]
  },
  {
   "cell_type": "code",
   "execution_count": 46,
   "id": "9c61e48f",
   "metadata": {},
   "outputs": [],
   "source": [
    "amount  = 4000\n",
    "arr = []\n",
    "arrc = []\n",
    "ana = {}\n",
    "sl_m = {}\n",
    "EMA(amount,arr,data,arrc,ana,sl_m)  "
   ]
  },
  {
   "cell_type": "code",
   "execution_count": 47,
   "id": "ae3b1328",
   "metadata": {},
   "outputs": [
    {
     "name": "stdout",
     "output_type": "stream",
     "text": [
      "10000\n",
      "10067.574658003812\n",
      "67.57465800381215\n",
      "0.6757465800381214\n"
     ]
    }
   ],
   "source": [
    "amount  = 10000\n",
    "ini = amount\n",
    "for i in arr:\n",
    "    amount = (1+i)*amount\n",
    "print(ini)\n",
    "print(amount)\n",
    "print(amount-ini)\n",
    "print(((amount-ini)/ini)*100)"
   ]
  },
  {
   "cell_type": "code",
   "execution_count": 48,
   "id": "5724773e",
   "metadata": {},
   "outputs": [
    {
     "data": {
      "text/plain": [
       "[0.004259326539294553,\n",
       " 0.004017001307808625,\n",
       " -0.0021278060228325274,\n",
       " 0.0006057568980852836]"
      ]
     },
     "execution_count": 48,
     "metadata": {},
     "output_type": "execute_result"
    }
   ],
   "source": [
    "arr"
   ]
  },
  {
   "cell_type": "code",
   "execution_count": 49,
   "id": "cf26c78e",
   "metadata": {
    "scrolled": true
   },
   "outputs": [
    {
     "data": {
      "text/plain": [
       "{datetime.date(2023, 1, 2): 0,\n",
       " datetime.date(2023, 1, 3): 0,\n",
       " datetime.date(2023, 1, 4): 0,\n",
       " datetime.date(2023, 1, 5): 1,\n",
       " datetime.date(2023, 1, 6): 0}"
      ]
     },
     "execution_count": 49,
     "metadata": {},
     "output_type": "execute_result"
    }
   ],
   "source": [
    "sl_m"
   ]
  },
  {
   "cell_type": "code",
   "execution_count": 50,
   "id": "b66df47b",
   "metadata": {
    "scrolled": true
   },
   "outputs": [
    {
     "data": {
      "text/plain": [
       "{2: '+ve sl:896.75 , entry:898.0249938964844 , exit:901.8499755859375 , target:901.8499755859375 , Date:2023-01-03, entry-time13:00:00 , exit-time:15:00:00',\n",
       " 3: '+ve sl:895.0 , entry:896.2000122070312 , exit:899.800048828125 , target:899.800048828125 , Date:2023-01-04, entry-time13:00:00 , exit-time:14:00:00',\n",
       " 4: '-ve sl:891.0499877929688 , entry:892.9500122070312 , exit:891.0499877929688 , target:898.6500854492188 , Date:2023-01-05, entry-time10:30:00 , exit-time:10:45:00',\n",
       " 8: '+ve sl:866.5999755859375 , entry:866.7749938964844 , exit:867.300048828125 , target:867.300048828125 , Date:2023-01-06, entry-time11:30:00 , exit-time:12:00:00'}"
      ]
     },
     "execution_count": 50,
     "metadata": {},
     "output_type": "execute_result"
    }
   ],
   "source": [
    "ana"
   ]
  },
  {
   "cell_type": "code",
   "execution_count": null,
   "id": "2ae01639",
   "metadata": {},
   "outputs": [],
   "source": []
  },
  {
   "cell_type": "code",
   "execution_count": null,
   "id": "d7cedc2e",
   "metadata": {},
   "outputs": [],
   "source": []
  },
  {
   "cell_type": "code",
   "execution_count": null,
   "id": "f88bb279",
   "metadata": {},
   "outputs": [],
   "source": []
  },
  {
   "cell_type": "code",
   "execution_count": null,
   "id": "e0d35071",
   "metadata": {},
   "outputs": [],
   "source": []
  },
  {
   "cell_type": "code",
   "execution_count": null,
   "id": "efde890b",
   "metadata": {},
   "outputs": [],
   "source": []
  },
  {
   "cell_type": "code",
   "execution_count": null,
   "id": "0f8345f6",
   "metadata": {},
   "outputs": [],
   "source": []
  },
  {
   "cell_type": "code",
   "execution_count": null,
   "id": "c3055ba6",
   "metadata": {},
   "outputs": [],
   "source": []
  },
  {
   "cell_type": "code",
   "execution_count": null,
   "id": "cb8bfdb4",
   "metadata": {},
   "outputs": [],
   "source": []
  },
  {
   "cell_type": "code",
   "execution_count": null,
   "id": "f1d57781",
   "metadata": {},
   "outputs": [],
   "source": []
  },
  {
   "cell_type": "code",
   "execution_count": null,
   "id": "c718c6d3",
   "metadata": {},
   "outputs": [],
   "source": []
  },
  {
   "cell_type": "code",
   "execution_count": null,
   "id": "0bf45f42",
   "metadata": {},
   "outputs": [],
   "source": []
  },
  {
   "cell_type": "code",
   "execution_count": null,
   "id": "9ecd1bb5",
   "metadata": {},
   "outputs": [],
   "source": []
  },
  {
   "cell_type": "code",
   "execution_count": null,
   "id": "c8c21a32",
   "metadata": {},
   "outputs": [],
   "source": []
  }
 ],
 "metadata": {
  "kernelspec": {
   "display_name": "base",
   "language": "python",
   "name": "python3"
  },
  "language_info": {
   "codemirror_mode": {
    "name": "ipython",
    "version": 3
   },
   "file_extension": ".py",
   "mimetype": "text/x-python",
   "name": "python",
   "nbconvert_exporter": "python",
   "pygments_lexer": "ipython3",
   "version": "3.9.13"
  },
  "vscode": {
   "interpreter": {
    "hash": "0a261f58379b12192df865933f1ca0eec23160da9b2c9d881d39c3ce35576bfa"
   }
  }
 },
 "nbformat": 4,
 "nbformat_minor": 5
}
