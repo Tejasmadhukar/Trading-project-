{
 "cells": [
  {
   "cell_type": "code",
   "execution_count": null,
   "id": "bc815fc6",
   "metadata": {},
   "outputs": [],
   "source": [
    "import numpy as np\n",
    "import pandas as pd\n",
    "import yfinance as yf\n",
    "import talib as ta\n",
    "import time\n",
    "from pushover import Pushover\n",
    "import logging\n",
    "from kiteconnect import KiteConnect"
   ]
  },
  {
   "cell_type": "code",
   "execution_count": null,
   "id": "4588372b",
   "metadata": {},
   "outputs": [],
   "source": [
    "po = Pushover(\"an3he6x85bwsh97t87goxwu462yru6\")\n",
    "po.user(\"uuev1ffw9cepf5iquv3wu8hk29xo3m\")"
   ]
  },
  {
   "cell_type": "code",
   "execution_count": null,
   "id": "593b1186",
   "metadata": {
    "scrolled": true
   },
   "outputs": [],
   "source": [
    "logging.basicConfig(level=logging.DEBUG)\n",
    "kite = KiteConnect(api_key=\"9qnpf0zzf6pa6cx1\") \n",
    "data = kite.generate_session(\"cIYC3fzPmesP0lFESaowP5lBzauUmNB9\", api_secret=\"dt58xuvzpq1mxkmvvak1zu2uftz6cl63\")\n",
    "kite.set_access_token(data[\"access_token\"])"
   ]
  },
  {
   "cell_type": "markdown",
   "id": "1f1bcf6e",
   "metadata": {},
   "source": [
    "<hr>\n",
    "<h3> Stop loss count is not implemented yet </h3>\n",
    "<hr>"
   ]
  },
  {
   "cell_type": "code",
   "execution_count": null,
   "id": "c8825cb7",
   "metadata": {},
   "outputs": [],
   "source": [
    "def Watch(t_order_id,sl_order_id):\n",
    "    while(True):\n",
    "        data = yf.download(tickers='ICICIBANK.NS', period='2d', interval='5m')\n",
    "        data['5EMA'] = ta.EMA(data['Close'],5)\n",
    "        print(data.tail())\n",
    "        if(data['Low'].values[-2]-data['5EMA'].values[-2]>0.4):\n",
    "            msg = po.msg(\"Possible trend reversal, buy back all short positions\")\n",
    "            msg.set(\"title\", \"Make a decision\")\n",
    "            po.send(msg)\n",
    "        for i in kite.orders():\n",
    "            if i['order_id'] == str(t_order_id):\n",
    "                if i['status'] == 'COMPLETE':\n",
    "                    msg = po.msg(\"Check P&L and manually restart the bot\")\n",
    "                    msg.set(\"title\", \"Target Hit\")\n",
    "                    po.send(msg)\n",
    "                    kite.cancel_order(kite.VARIETY_REGULAR,str(sl_order_id))\n",
    "                    return \n",
    "                \n",
    "            if i['order_id'] == str(sl_order_id):\n",
    "                if i['status'] == 'COMPLETE':\n",
    "                    msg = po.msg(\"Check P&L and manually restart the bot\")\n",
    "                    msg.set(\"title\", \"Stop Loss Hit\")\n",
    "                    po.send(msg)\n",
    "                    kite.cancel_order(kite.VARIETY_REGULAR,str(t_order_id))\n",
    "                    return \n",
    "        time.sleep(300)"
   ]
  },
  {
   "cell_type": "code",
   "execution_count": null,
   "id": "a473b4d2",
   "metadata": {},
   "outputs": [],
   "source": [
    "def Enter():\n",
    "    while(True):\n",
    "        data = yf.download(tickers='ICICIBANK.NS', period='2d', interval='5m')\n",
    "        data['5EMA'] = ta.EMA(data['Close'],5)\n",
    "        print(data.tail())\n",
    "        if(data['High'].values[-2]>data['5EMA'].values[-2] and data['Low'].values[-2]<data['5EMA'].values[-2]):\n",
    "            sl = data['High'].values[-3]\n",
    "            try:\n",
    "                s_order_id = kite.place_order(tradingsymbol=\"ICICIBANK\",\n",
    "                                exchange=kite.EXCHANGE_NSE,\n",
    "                                transaction_type=kite.TRANSACTION_TYPE_SELL,\n",
    "                                quantity=5,\n",
    "                                variety=kite.VARIETY_REGULAR,\n",
    "                                order_type=kite.ORDER_TYPE_MARKET,\n",
    "                                product=kite.PRODUCT_MIS,\n",
    "                                validity=kite.VALIDITY_DAY)\n",
    "                logging.info(\"Order placed. ID :{}\".format(s_order_id))\n",
    "                msg = po.msg(\"Sell order placed ID :{}\".format(s_order_id))\n",
    "                msg.set(\"title\", \"Sell Order Placed\")\n",
    "                po.send(msg)\n",
    "            except Exception as e:\n",
    "                msg = po.msg(\"Failed: \"+str(e))\n",
    "                logging.info(\"Order placement failed: \"+str(e))\n",
    "                msg.set(\"title\", \"Sell Order Failed\")\n",
    "                po.send(msg)\n",
    "                \n",
    "            try:\n",
    "                sl_order_id = kite.place_order(tradingsymbol=\"ICICIBANK\",\n",
    "                                            exchange=kite.EXCHANGE_NSE,\n",
    "                                            transaction_type=kite.TRANSACTION_TYPE_BUY,\n",
    "                                            quantity=5,\n",
    "                                            variety=kite.VARIETY_REGULAR,\n",
    "                                            order_type=kite.ORDER_TYPE_SLM,\n",
    "                                            product=kite.PRODUCT_MIS,\n",
    "                                            validity=kite.VALIDITY_DAY,\n",
    "                                            trigger_price = sl)\n",
    "                logging.info(\"Order placed. ID :{}\".format(sl_order_id))\n",
    "                msg = po.msg(\"sl order placed ID :{}\".format(sl_order_id))\n",
    "                msg.set(\"title\", \"Stop Loss Placed\")\n",
    "                po.send(msg)\n",
    "            except Exception as e:\n",
    "                msg = po.msg(\"Failed: \"+str(e))\n",
    "                logging.info(\"Order placement failed: \"+str(e))\n",
    "                msg.set(\"title\", \"Stop Loss Order Failed\")\n",
    "                po.send(msg)\n",
    "                \n",
    "            entry = 0.0\n",
    "            time.sleep(5)\n",
    "            for i in kite.orders():\n",
    "                if i['order_id'] == str(s_order_id):\n",
    "                    entry = i['average_price']\n",
    "            target = entry - (3*(sl-entry))\n",
    "            try:\n",
    "                t_order_id = kite.place_order(tradingsymbol=\"ICICIBANK\",\n",
    "                                            exchange=kite.EXCHANGE_NSE,\n",
    "                                            transaction_type=kite.TRANSACTION_TYPE_BUY,\n",
    "                                            quantity=5,\n",
    "                                            variety=kite.VARIETY_REGULAR,\n",
    "                                            order_type=kite.ORDER_TYPE_LIMIT,\n",
    "                                            product=kite.PRODUCT_MIS,\n",
    "                                            validity=kite.VALIDITY_DAY,\n",
    "                                            price = target)\n",
    "                logging.info(\"Order placed. ID is: {}\".format(t_order_id))\n",
    "                msg = po.msg(\"Target order placed. ID :{}\".format(t_order_id))\n",
    "                msg.set(\"title\", \"Target Order Placed\")\n",
    "                po.send(msg)\n",
    "            except Exception as e:\n",
    "                msg = po.msg(\"Failed: \"+str(e))\n",
    "                logging.info(\"Order placement failed: \"+str(e))\n",
    "                msg.set(\"title\", \"Target Order Failed\")\n",
    "                po.send(msg)\n",
    "            Watch(t_order_id,sl_order_id)\n",
    "            return \n",
    "        time.sleep(300)"
   ]
  },
  {
   "cell_type": "code",
   "execution_count": null,
   "id": "1443581f",
   "metadata": {},
   "outputs": [],
   "source": [
    "def Trade():\n",
    "    while(True):\n",
    "        data = yf.download(tickers='ICICIBANK.NS', period='2d', interval='5m')\n",
    "        data['5EMA'] = ta.EMA(data['Close'],5)\n",
    "        print(data.tail())\n",
    "        if(data['Low'].values[-2]>data['5EMA'].values[-2]):\n",
    "            msg = po.msg(\"About to place order\")\n",
    "            msg.set(\"title\", \"Selling Indicator hit\")\n",
    "            po.send(msg)\n",
    "            time.sleep(300)\n",
    "            Enter()\n",
    "            return \n",
    "        time.sleep(300)"
   ]
  },
  {
   "cell_type": "code",
   "execution_count": null,
   "id": "e287522a",
   "metadata": {
    "scrolled": true
   },
   "outputs": [],
   "source": [
    "Trade()"
   ]
  },
  {
   "cell_type": "code",
   "execution_count": null,
   "id": "4652b085",
   "metadata": {},
   "outputs": [],
   "source": []
  }
 ],
 "metadata": {
  "kernelspec": {
   "display_name": "Python 3 (ipykernel)",
   "language": "python",
   "name": "python3"
  },
  "language_info": {
   "codemirror_mode": {
    "name": "ipython",
    "version": 3
   },
   "file_extension": ".py",
   "mimetype": "text/x-python",
   "name": "python",
   "nbconvert_exporter": "python",
   "pygments_lexer": "ipython3",
   "version": "3.9.13"
  },
  "vscode": {
   "interpreter": {
    "hash": "0a261f58379b12192df865933f1ca0eec23160da9b2c9d881d39c3ce35576bfa"
   }
  }
 },
 "nbformat": 4,
 "nbformat_minor": 5
}
