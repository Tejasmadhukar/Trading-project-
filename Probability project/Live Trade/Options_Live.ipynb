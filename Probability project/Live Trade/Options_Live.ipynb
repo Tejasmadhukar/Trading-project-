{
 "cells": [
  {
   "cell_type": "markdown",
   "id": "914614f4",
   "metadata": {},
   "source": [
    "<h2>This bot trades 5EMA in Nifty by buying put options</h2>\n",
    "<hr>"
   ]
  },
  {
   "cell_type": "code",
   "execution_count": 1,
   "id": "f9892fb2",
   "metadata": {},
   "outputs": [],
   "source": [
    "import numpy as np\n",
    "import pandas as pd\n",
    "import yfinance as yf\n",
    "import talib as ta\n",
    "import time\n",
    "from pushover import Pushover\n",
    "import logging\n",
    "from kiteconnect import KiteConnect"
   ]
  },
  {
   "cell_type": "code",
   "execution_count": 2,
   "id": "2ba500cb",
   "metadata": {},
   "outputs": [],
   "source": [
    "po = Pushover(\"an3he6x85bwsh97t87goxwu462yru6\")\n",
    "po.user(\"uuev1ffw9cepf5iquv3wu8hk29xo3m\")"
   ]
  },
  {
   "cell_type": "code",
   "execution_count": 3,
   "id": "63aadc7b",
   "metadata": {
    "scrolled": false
   },
   "outputs": [
    {
     "name": "stderr",
     "output_type": "stream",
     "text": [
      "DEBUG:urllib3.connectionpool:Starting new HTTPS connection (1): api.kite.trade:443\n",
      "DEBUG:urllib3.connectionpool:https://api.kite.trade:443 \"POST /session/token HTTP/1.1\" 200 None\n"
     ]
    }
   ],
   "source": [
    "logging.basicConfig(level=logging.DEBUG)\n",
    "kite = KiteConnect(api_key=\"9qnpf0zzf6pa6cx1\")\n",
    "data = kite.generate_session(\"kDgBF1C8ZBYhiwbXsKiQjRpS5tUxLAXU\", api_secret=\"dt58xuvzpq1mxkmvvak1zu2uftz6cl63\")\n",
    "kite.set_access_token(data[\"access_token\"])"
   ]
  },
  {
   "cell_type": "markdown",
   "id": "027ec307",
   "metadata": {},
   "source": [
    "<hr>\n",
    "<h3>Auto target exit not Implemented yet, Watch market after order has been executed</h3>\n",
    "<hr>"
   ]
  },
  {
   "cell_type": "code",
   "execution_count": 3,
   "id": "0e85f277",
   "metadata": {},
   "outputs": [],
   "source": [
    "def myround(x):\n",
    "    return 50 * round(x/50)"
   ]
  },
  {
   "cell_type": "code",
   "execution_count": 4,
   "id": "ef10eb36",
   "metadata": {
    "scrolled": true
   },
   "outputs": [],
   "source": [
    "def Watch(target,sl,tsym,entry,n,d,en):\n",
    "    while(True):\n",
    "        data = yf.download(tickers='^NSEI', period='2d', interval='5m')\n",
    "        data['5EMA'] = ta.EMA(data['Close'],5)\n",
    "        print(data.tail())\n",
    "\n",
    "        # if(data['Low'].values[-2]-data['5EMA'].values[-2]>0.4):\n",
    "        #     msg = po.msg(\"Watch the market\")\n",
    "        #     msg.set(\"title\", \"Possible Reversal\")\n",
    "        #     po.send(msg)\n",
    "\n",
    "        if((data['Close'].values[-1]<target) or (data['Low'].values[-1]<target)):\n",
    "            msg = po.msg(\"Watch the market\")\n",
    "            msg.set(\"title\", \"Target Hit\")\n",
    "            po.send(msg)\n",
    "            sl = en - 5\n",
    "            en = target\n",
    "            n += 1\n",
    "            target = entry - (n*d)\n",
    "            Watch(target,sl,tsym,entry,n,d,en)\n",
    "\n",
    "        \n",
    "        if(data['Close'].values[-1]>sl):\n",
    "            try:\n",
    "                s_order_id = kite.place_order(tradingsymbol=tsym,\n",
    "                                exchange=kite.EXCHANGE_NSE,\n",
    "                                transaction_type=kite.TRANSACTION_TYPE_SELL,\n",
    "                                quantity=50,\n",
    "                                variety=kite.VARIETY_REGULAR,\n",
    "                                order_type=kite.ORDER_TYPE_MARKET,\n",
    "                                product=kite.PRODUCT_MIS)\n",
    "                logging.info(\"Order placed. ID :{}\".format(s_order_id))\n",
    "                msg = po.msg(\"Stop loss hit Check P&L ID :{}\".format(s_order_id))\n",
    "                msg.set(\"title\", \"Stop Loss hit\")\n",
    "                po.send(msg)\n",
    "            except Exception as e:\n",
    "                msg = po.msg(\"Failed: \"+str(e))\n",
    "                logging.info(\"Buy back manually \"+str(e))\n",
    "                msg.set(\"title\", \"Stop loss failed\")\n",
    "                po.send(msg)\n",
    "            msg = po.msg(\"Square off position and Watch the market\")\n",
    "            msg.set(\"title\", \"Stop loss Hit\")\n",
    "            po.send(msg)\n",
    "            return \n",
    "        \n",
    "        time.sleep(5)"
   ]
  },
  {
   "cell_type": "code",
   "execution_count": 5,
   "id": "d1a69c57",
   "metadata": {},
   "outputs": [],
   "source": [
    "def Enter():\n",
    "    while(True):\n",
    "        data = yf.download(tickers='^NSEI', period='2d', interval='5m')\n",
    "        data['5EMA'] = ta.EMA(data['Close'],5)\n",
    "        print(data.tail())\n",
    "        if(data['Low'].values[-1]<data['5EMA'].values[-2] or data['Close'].values[-1]<data['5EMA'].values[-2]):\n",
    "            sl = max(data['High'].values[-3],data['High'].values[-2],data['High'].values[-4])\n",
    "            tsym = \"NIFTY23302\"+str(myround(data['Close'][-1]))+\"PE\"\n",
    "            try:\n",
    "                b_order_id = kite.place_order(tradingsymbol=tsym,\n",
    "                                exchange=kite.EXCHANGE_NSE,\n",
    "                                transaction_type=kite.TRANSACTION_TYPE_BUY,\n",
    "                                quantity=50,\n",
    "                                variety=kite.VARIETY_REGULAR,\n",
    "                                order_type=kite.ORDER_TYPE_MARKET,\n",
    "                                product=kite.PRODUCT_MIS)\n",
    "                logging.info(\"Order placed. ID :{}\".format(b_order_id))\n",
    "                msg = po.msg(\"Buy order placed ID :{}\".format(b_order_id))\n",
    "                msg.set(\"title\", \"PE bought\")\n",
    "                po.send(msg)\n",
    "            except Exception as e:\n",
    "                msg = po.msg(\"Failed: \"+str(e))\n",
    "                logging.info(\"Order placement failed: \"+str(e))\n",
    "                msg.set(\"title\", \"Buy Order Failed\")\n",
    "                po.send(msg)\n",
    "            entry = data['Close'].values[-1]\n",
    "            target = entry - (sl - entry)\n",
    "            sle = ((sl-entry)*0.5)*50\n",
    "            msg = po.msg(\"Expected max loss :{}\".format(sle))\n",
    "            msg.set(\"title\", \"Sl set\")\n",
    "            po.send(msg)\n",
    "            n = 1\n",
    "            d = sl - entry\n",
    "            en = entry\n",
    "            Watch(target,sl,tsym,entry,n,d,en)\n",
    "            return \n",
    "        time.sleep(5)"
   ]
  },
  {
   "cell_type": "code",
   "execution_count": 6,
   "id": "e9724f69",
   "metadata": {},
   "outputs": [],
   "source": [
    "def Trade():\n",
    "    while(True):\n",
    "        data = yf.download(tickers='^NSEI', period='2d', interval='5m')\n",
    "        data['5EMA'] = ta.EMA(data['Close'],5)\n",
    "        print(data.tail())\n",
    "        if(data['Low'].values[-2]>data['5EMA'].values[-2]):\n",
    "            msg = po.msg(\"Watch market about to place order\")\n",
    "            msg.set(\"title\", \"Indicator hit\")\n",
    "            po.send(msg)\n",
    "            Enter()\n",
    "            msg = po.msg(\"Rerun the bot\")\n",
    "            msg.set(\"title\", \"Trade cycle complete\")\n",
    "            po.send(msg)\n",
    "            return \n",
    "        time.sleep(300)"
   ]
  },
  {
   "cell_type": "code",
   "execution_count": 8,
   "id": "64c13f18",
   "metadata": {
    "scrolled": true
   },
   "outputs": [
    {
     "name": "stdout",
     "output_type": "stream",
     "text": [
      "[*********************100%***********************]  1 of 1 completed\n",
      "                             Open          High           Low         Close  \\\n",
      "Datetime                                                                      \n",
      "2023-03-02 14:45:00  17323.650391  17332.250000  17322.449219  17328.000000   \n",
      "2023-03-02 14:50:00  17328.500000  17333.550781  17314.349609  17327.050781   \n",
      "2023-03-02 14:55:00  17326.800781  17329.099609  17324.000000  17327.900391   \n",
      "2023-03-02 15:00:00  17328.800781  17336.199219  17319.650391  17327.949219   \n",
      "2023-03-02 15:05:24  17330.849609  17330.849609  17330.849609  17330.849609   \n",
      "\n",
      "                        Adj Close  Volume          5EMA  \n",
      "Datetime                                                 \n",
      "2023-03-02 14:45:00  17328.000000       0  17329.196983  \n",
      "2023-03-02 14:50:00  17327.050781       0  17328.481582  \n",
      "2023-03-02 14:55:00  17327.900391       0  17328.287852  \n",
      "2023-03-02 15:00:00  17327.949219       0  17328.174974  \n",
      "2023-03-02 15:05:24  17330.849609       0  17329.066519  \n",
      "[*********************100%***********************]  1 of 1 completed\n",
      "\n",
      "1 Failed download:\n",
      "- ^NSEI: No data found for this date range, symbol may be delisted\n"
     ]
    },
    {
     "ename": "Exception",
     "evalue": "inputs are all NaN",
     "output_type": "error",
     "traceback": [
      "\u001b[0;31m---------------------------------------------------------------------------\u001b[0m",
      "\u001b[0;31mException\u001b[0m                                 Traceback (most recent call last)",
      "\u001b[1;32m/Users/tejasmadhukar/Documents/Vscode/Data_s/Probability project/Live Trade/Options_Live.ipynb Cell 10\u001b[0m in \u001b[0;36m<cell line: 1>\u001b[0;34m()\u001b[0m\n\u001b[0;32m----> <a href='vscode-notebook-cell:/Users/tejasmadhukar/Documents/Vscode/Data_s/Probability%20project/Live%20Trade/Options_Live.ipynb#X12sZmlsZQ%3D%3D?line=0'>1</a>\u001b[0m Trade()\n",
      "\u001b[1;32m/Users/tejasmadhukar/Documents/Vscode/Data_s/Probability project/Live Trade/Options_Live.ipynb Cell 10\u001b[0m in \u001b[0;36mTrade\u001b[0;34m()\u001b[0m\n\u001b[1;32m      <a href='vscode-notebook-cell:/Users/tejasmadhukar/Documents/Vscode/Data_s/Probability%20project/Live%20Trade/Options_Live.ipynb#X12sZmlsZQ%3D%3D?line=1'>2</a>\u001b[0m \u001b[39mwhile\u001b[39;00m(\u001b[39mTrue\u001b[39;00m):\n\u001b[1;32m      <a href='vscode-notebook-cell:/Users/tejasmadhukar/Documents/Vscode/Data_s/Probability%20project/Live%20Trade/Options_Live.ipynb#X12sZmlsZQ%3D%3D?line=2'>3</a>\u001b[0m     data \u001b[39m=\u001b[39m yf\u001b[39m.\u001b[39mdownload(tickers\u001b[39m=\u001b[39m\u001b[39m'\u001b[39m\u001b[39m^NSEI\u001b[39m\u001b[39m'\u001b[39m, period\u001b[39m=\u001b[39m\u001b[39m'\u001b[39m\u001b[39m2d\u001b[39m\u001b[39m'\u001b[39m, interval\u001b[39m=\u001b[39m\u001b[39m'\u001b[39m\u001b[39m5m\u001b[39m\u001b[39m'\u001b[39m)\n\u001b[0;32m----> <a href='vscode-notebook-cell:/Users/tejasmadhukar/Documents/Vscode/Data_s/Probability%20project/Live%20Trade/Options_Live.ipynb#X12sZmlsZQ%3D%3D?line=3'>4</a>\u001b[0m     data[\u001b[39m'\u001b[39m\u001b[39m5EMA\u001b[39m\u001b[39m'\u001b[39m] \u001b[39m=\u001b[39m ta\u001b[39m.\u001b[39;49mEMA(data[\u001b[39m'\u001b[39;49m\u001b[39mClose\u001b[39;49m\u001b[39m'\u001b[39;49m],\u001b[39m5\u001b[39;49m)\n\u001b[1;32m      <a href='vscode-notebook-cell:/Users/tejasmadhukar/Documents/Vscode/Data_s/Probability%20project/Live%20Trade/Options_Live.ipynb#X12sZmlsZQ%3D%3D?line=4'>5</a>\u001b[0m     \u001b[39mprint\u001b[39m(data\u001b[39m.\u001b[39mtail())\n\u001b[1;32m      <a href='vscode-notebook-cell:/Users/tejasmadhukar/Documents/Vscode/Data_s/Probability%20project/Live%20Trade/Options_Live.ipynb#X12sZmlsZQ%3D%3D?line=5'>6</a>\u001b[0m     \u001b[39mif\u001b[39;00m(data[\u001b[39m'\u001b[39m\u001b[39mLow\u001b[39m\u001b[39m'\u001b[39m]\u001b[39m.\u001b[39mvalues[\u001b[39m-\u001b[39m\u001b[39m2\u001b[39m]\u001b[39m>\u001b[39mdata[\u001b[39m'\u001b[39m\u001b[39m5EMA\u001b[39m\u001b[39m'\u001b[39m]\u001b[39m.\u001b[39mvalues[\u001b[39m-\u001b[39m\u001b[39m2\u001b[39m]):\n",
      "File \u001b[0;32m~/opt/anaconda3/lib/python3.9/site-packages/talib/__init__.py:64\u001b[0m, in \u001b[0;36m_wrapper.<locals>.wrapper\u001b[0;34m(*args, **kwds)\u001b[0m\n\u001b[1;32m     61\u001b[0m     _args \u001b[39m=\u001b[39m args\n\u001b[1;32m     62\u001b[0m     _kwds \u001b[39m=\u001b[39m kwds\n\u001b[0;32m---> 64\u001b[0m result \u001b[39m=\u001b[39m func(\u001b[39m*\u001b[39;49m_args, \u001b[39m*\u001b[39;49m\u001b[39m*\u001b[39;49m_kwds)\n\u001b[1;32m     66\u001b[0m \u001b[39m# check to see if we got a streaming result\u001b[39;00m\n\u001b[1;32m     67\u001b[0m first_result \u001b[39m=\u001b[39m result[\u001b[39m0\u001b[39m] \u001b[39mif\u001b[39;00m \u001b[39misinstance\u001b[39m(result, \u001b[39mtuple\u001b[39m) \u001b[39melse\u001b[39;00m result\n",
      "File \u001b[0;32mtalib/_func.pxi:2931\u001b[0m, in \u001b[0;36mtalib._ta_lib.EMA\u001b[0;34m()\u001b[0m\n",
      "File \u001b[0;32mtalib/_func.pxi:68\u001b[0m, in \u001b[0;36mtalib._ta_lib.check_begidx1\u001b[0;34m()\u001b[0m\n",
      "\u001b[0;31mException\u001b[0m: inputs are all NaN"
     ]
    }
   ],
   "source": [
    "Trade()"
   ]
  },
  {
   "cell_type": "code",
   "execution_count": null,
   "id": "3076dcd5",
   "metadata": {},
   "outputs": [],
   "source": []
  },
  {
   "cell_type": "code",
   "execution_count": null,
   "id": "8729079e",
   "metadata": {},
   "outputs": [],
   "source": []
  }
 ],
 "metadata": {
  "kernelspec": {
   "display_name": "Python 3 (ipykernel)",
   "language": "python",
   "name": "python3"
  },
  "language_info": {
   "codemirror_mode": {
    "name": "ipython",
    "version": 3
   },
   "file_extension": ".py",
   "mimetype": "text/x-python",
   "name": "python",
   "nbconvert_exporter": "python",
   "pygments_lexer": "ipython3",
   "version": "3.9.13"
  },
  "vscode": {
   "interpreter": {
    "hash": "0a261f58379b12192df865933f1ca0eec23160da9b2c9d881d39c3ce35576bfa"
   }
  }
 },
 "nbformat": 4,
 "nbformat_minor": 5
}
