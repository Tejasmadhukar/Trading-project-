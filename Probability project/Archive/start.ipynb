{
 "cells": [
  {
   "cell_type": "code",
   "execution_count": 3,
   "metadata": {},
   "outputs": [],
   "source": [
    "import matplotlib.pyplot as m\n",
    "from scipy.stats import bernoulli\n",
    "from scipy.stats import binom\n",
    "from scipy import stats\n",
    "import numpy as np\n",
    "import pandas as pd\n",
    "import seaborn as sns"
   ]
  },
  {
   "cell_type": "code",
   "execution_count": 4,
   "metadata": {},
   "outputs": [
    {
     "data": {
      "text/html": [
       "<div>\n",
       "<style scoped>\n",
       "    .dataframe tbody tr th:only-of-type {\n",
       "        vertical-align: middle;\n",
       "    }\n",
       "\n",
       "    .dataframe tbody tr th {\n",
       "        vertical-align: top;\n",
       "    }\n",
       "\n",
       "    .dataframe thead th {\n",
       "        text-align: right;\n",
       "    }\n",
       "</style>\n",
       "<table border=\"1\" class=\"dataframe\">\n",
       "  <thead>\n",
       "    <tr style=\"text-align: right;\">\n",
       "      <th></th>\n",
       "      <th>date</th>\n",
       "      <th>close</th>\n",
       "      <th>high</th>\n",
       "      <th>low</th>\n",
       "      <th>open</th>\n",
       "      <th>volume</th>\n",
       "    </tr>\n",
       "  </thead>\n",
       "  <tbody>\n",
       "    <tr>\n",
       "      <th>0</th>\n",
       "      <td>2015-01-09 09:15:00+05:30</td>\n",
       "      <td>8301.20</td>\n",
       "      <td>8301.30</td>\n",
       "      <td>8285.45</td>\n",
       "      <td>8285.45</td>\n",
       "      <td>0</td>\n",
       "    </tr>\n",
       "    <tr>\n",
       "      <th>1</th>\n",
       "      <td>2015-01-09 09:20:00+05:30</td>\n",
       "      <td>8301.00</td>\n",
       "      <td>8303.00</td>\n",
       "      <td>8293.25</td>\n",
       "      <td>8300.50</td>\n",
       "      <td>0</td>\n",
       "    </tr>\n",
       "    <tr>\n",
       "      <th>2</th>\n",
       "      <td>2015-01-09 09:25:00+05:30</td>\n",
       "      <td>8294.15</td>\n",
       "      <td>8302.55</td>\n",
       "      <td>8286.80</td>\n",
       "      <td>8301.65</td>\n",
       "      <td>0</td>\n",
       "    </tr>\n",
       "    <tr>\n",
       "      <th>3</th>\n",
       "      <td>2015-01-09 09:30:00+05:30</td>\n",
       "      <td>8288.50</td>\n",
       "      <td>8295.75</td>\n",
       "      <td>8280.65</td>\n",
       "      <td>8294.10</td>\n",
       "      <td>0</td>\n",
       "    </tr>\n",
       "    <tr>\n",
       "      <th>4</th>\n",
       "      <td>2015-01-09 09:35:00+05:30</td>\n",
       "      <td>8283.45</td>\n",
       "      <td>8290.45</td>\n",
       "      <td>8278.00</td>\n",
       "      <td>8289.10</td>\n",
       "      <td>0</td>\n",
       "    </tr>\n",
       "  </tbody>\n",
       "</table>\n",
       "</div>"
      ],
      "text/plain": [
       "                        date    close     high      low     open  volume\n",
       "0  2015-01-09 09:15:00+05:30  8301.20  8301.30  8285.45  8285.45       0\n",
       "1  2015-01-09 09:20:00+05:30  8301.00  8303.00  8293.25  8300.50       0\n",
       "2  2015-01-09 09:25:00+05:30  8294.15  8302.55  8286.80  8301.65       0\n",
       "3  2015-01-09 09:30:00+05:30  8288.50  8295.75  8280.65  8294.10       0\n",
       "4  2015-01-09 09:35:00+05:30  8283.45  8290.45  8278.00  8289.10       0"
      ]
     },
     "execution_count": 4,
     "metadata": {},
     "output_type": "execute_result"
    }
   ],
   "source": [
    "data = pd.read_csv('/Users/tejasmadhukar/Downloads/NIFTY 50.csv')\n",
    "data.head()"
   ]
  },
  {
   "cell_type": "code",
   "execution_count": 5,
   "metadata": {},
   "outputs": [],
   "source": [
    "import datetime as dt"
   ]
  },
  {
   "cell_type": "code",
   "execution_count": 6,
   "metadata": {},
   "outputs": [
    {
     "data": {
      "text/html": [
       "<div>\n",
       "<style scoped>\n",
       "    .dataframe tbody tr th:only-of-type {\n",
       "        vertical-align: middle;\n",
       "    }\n",
       "\n",
       "    .dataframe tbody tr th {\n",
       "        vertical-align: top;\n",
       "    }\n",
       "\n",
       "    .dataframe thead th {\n",
       "        text-align: right;\n",
       "    }\n",
       "</style>\n",
       "<table border=\"1\" class=\"dataframe\">\n",
       "  <thead>\n",
       "    <tr style=\"text-align: right;\">\n",
       "      <th></th>\n",
       "      <th>date</th>\n",
       "      <th>close</th>\n",
       "      <th>high</th>\n",
       "      <th>low</th>\n",
       "      <th>open</th>\n",
       "      <th>volume</th>\n",
       "      <th>date1</th>\n",
       "      <th>year</th>\n",
       "      <th>month</th>\n",
       "      <th>day</th>\n",
       "      <th>time</th>\n",
       "    </tr>\n",
       "  </thead>\n",
       "  <tbody>\n",
       "    <tr>\n",
       "      <th>0</th>\n",
       "      <td>2015-01-09 09:15:00+05:30</td>\n",
       "      <td>8301.20</td>\n",
       "      <td>8301.30</td>\n",
       "      <td>8285.45</td>\n",
       "      <td>8285.45</td>\n",
       "      <td>0</td>\n",
       "      <td>2015-01-09</td>\n",
       "      <td>2015</td>\n",
       "      <td>1</td>\n",
       "      <td>9</td>\n",
       "      <td>09:15:00</td>\n",
       "    </tr>\n",
       "    <tr>\n",
       "      <th>1</th>\n",
       "      <td>2015-01-09 09:20:00+05:30</td>\n",
       "      <td>8301.00</td>\n",
       "      <td>8303.00</td>\n",
       "      <td>8293.25</td>\n",
       "      <td>8300.50</td>\n",
       "      <td>0</td>\n",
       "      <td>2015-01-09</td>\n",
       "      <td>2015</td>\n",
       "      <td>1</td>\n",
       "      <td>9</td>\n",
       "      <td>09:20:00</td>\n",
       "    </tr>\n",
       "    <tr>\n",
       "      <th>2</th>\n",
       "      <td>2015-01-09 09:25:00+05:30</td>\n",
       "      <td>8294.15</td>\n",
       "      <td>8302.55</td>\n",
       "      <td>8286.80</td>\n",
       "      <td>8301.65</td>\n",
       "      <td>0</td>\n",
       "      <td>2015-01-09</td>\n",
       "      <td>2015</td>\n",
       "      <td>1</td>\n",
       "      <td>9</td>\n",
       "      <td>09:25:00</td>\n",
       "    </tr>\n",
       "    <tr>\n",
       "      <th>3</th>\n",
       "      <td>2015-01-09 09:30:00+05:30</td>\n",
       "      <td>8288.50</td>\n",
       "      <td>8295.75</td>\n",
       "      <td>8280.65</td>\n",
       "      <td>8294.10</td>\n",
       "      <td>0</td>\n",
       "      <td>2015-01-09</td>\n",
       "      <td>2015</td>\n",
       "      <td>1</td>\n",
       "      <td>9</td>\n",
       "      <td>09:30:00</td>\n",
       "    </tr>\n",
       "    <tr>\n",
       "      <th>4</th>\n",
       "      <td>2015-01-09 09:35:00+05:30</td>\n",
       "      <td>8283.45</td>\n",
       "      <td>8290.45</td>\n",
       "      <td>8278.00</td>\n",
       "      <td>8289.10</td>\n",
       "      <td>0</td>\n",
       "      <td>2015-01-09</td>\n",
       "      <td>2015</td>\n",
       "      <td>1</td>\n",
       "      <td>9</td>\n",
       "      <td>09:35:00</td>\n",
       "    </tr>\n",
       "  </tbody>\n",
       "</table>\n",
       "</div>"
      ],
      "text/plain": [
       "                       date    close     high      low     open  volume  \\\n",
       "0 2015-01-09 09:15:00+05:30  8301.20  8301.30  8285.45  8285.45       0   \n",
       "1 2015-01-09 09:20:00+05:30  8301.00  8303.00  8293.25  8300.50       0   \n",
       "2 2015-01-09 09:25:00+05:30  8294.15  8302.55  8286.80  8301.65       0   \n",
       "3 2015-01-09 09:30:00+05:30  8288.50  8295.75  8280.65  8294.10       0   \n",
       "4 2015-01-09 09:35:00+05:30  8283.45  8290.45  8278.00  8289.10       0   \n",
       "\n",
       "        date1  year  month  day      time  \n",
       "0  2015-01-09  2015      1    9  09:15:00  \n",
       "1  2015-01-09  2015      1    9  09:20:00  \n",
       "2  2015-01-09  2015      1    9  09:25:00  \n",
       "3  2015-01-09  2015      1    9  09:30:00  \n",
       "4  2015-01-09  2015      1    9  09:35:00  "
      ]
     },
     "execution_count": 6,
     "metadata": {},
     "output_type": "execute_result"
    }
   ],
   "source": [
    "data['date'] = pd.to_datetime(data['date'])\n",
    "data['date1'] = data['date'].dt.date\n",
    "data['year'] = data['date'].dt.year\n",
    "data['month'] = data['date'].dt.month\n",
    "data['day'] = data['date'].dt.day\n",
    "data['time'] = data['date'].dt.time\n",
    "data.head()"
   ]
  },
  {
   "cell_type": "code",
   "execution_count": 7,
   "metadata": {},
   "outputs": [
    {
     "data": {
      "text/html": [
       "<div>\n",
       "<style scoped>\n",
       "    .dataframe tbody tr th:only-of-type {\n",
       "        vertical-align: middle;\n",
       "    }\n",
       "\n",
       "    .dataframe tbody tr th {\n",
       "        vertical-align: top;\n",
       "    }\n",
       "\n",
       "    .dataframe thead th {\n",
       "        text-align: right;\n",
       "    }\n",
       "</style>\n",
       "<table border=\"1\" class=\"dataframe\">\n",
       "  <thead>\n",
       "    <tr style=\"text-align: right;\">\n",
       "      <th></th>\n",
       "      <th>date</th>\n",
       "      <th>close</th>\n",
       "      <th>high</th>\n",
       "      <th>low</th>\n",
       "      <th>open</th>\n",
       "      <th>volume</th>\n",
       "      <th>date1</th>\n",
       "      <th>year</th>\n",
       "      <th>month</th>\n",
       "      <th>day</th>\n",
       "      <th>time</th>\n",
       "    </tr>\n",
       "  </thead>\n",
       "  <tbody>\n",
       "    <tr>\n",
       "      <th>134177</th>\n",
       "      <td>2022-09-09 09:15:00+05:30</td>\n",
       "      <td>17900.70</td>\n",
       "      <td>17925.30</td>\n",
       "      <td>17889.35</td>\n",
       "      <td>17923.35</td>\n",
       "      <td>0</td>\n",
       "      <td>2022-09-09</td>\n",
       "      <td>2022</td>\n",
       "      <td>9</td>\n",
       "      <td>9</td>\n",
       "      <td>09:15:00</td>\n",
       "    </tr>\n",
       "    <tr>\n",
       "      <th>134178</th>\n",
       "      <td>2022-09-09 09:20:00+05:30</td>\n",
       "      <td>17891.15</td>\n",
       "      <td>17905.05</td>\n",
       "      <td>17881.90</td>\n",
       "      <td>17900.50</td>\n",
       "      <td>0</td>\n",
       "      <td>2022-09-09</td>\n",
       "      <td>2022</td>\n",
       "      <td>9</td>\n",
       "      <td>9</td>\n",
       "      <td>09:20:00</td>\n",
       "    </tr>\n",
       "    <tr>\n",
       "      <th>134179</th>\n",
       "      <td>2022-09-09 09:25:00+05:30</td>\n",
       "      <td>17891.95</td>\n",
       "      <td>17898.90</td>\n",
       "      <td>17884.20</td>\n",
       "      <td>17892.35</td>\n",
       "      <td>0</td>\n",
       "      <td>2022-09-09</td>\n",
       "      <td>2022</td>\n",
       "      <td>9</td>\n",
       "      <td>9</td>\n",
       "      <td>09:25:00</td>\n",
       "    </tr>\n",
       "    <tr>\n",
       "      <th>134180</th>\n",
       "      <td>2022-09-09 09:30:00+05:30</td>\n",
       "      <td>17875.20</td>\n",
       "      <td>17899.65</td>\n",
       "      <td>17871.95</td>\n",
       "      <td>17891.60</td>\n",
       "      <td>0</td>\n",
       "      <td>2022-09-09</td>\n",
       "      <td>2022</td>\n",
       "      <td>9</td>\n",
       "      <td>9</td>\n",
       "      <td>09:30:00</td>\n",
       "    </tr>\n",
       "    <tr>\n",
       "      <th>134181</th>\n",
       "      <td>2022-09-09 09:35:00+05:30</td>\n",
       "      <td>17876.25</td>\n",
       "      <td>17880.00</td>\n",
       "      <td>17868.75</td>\n",
       "      <td>17874.25</td>\n",
       "      <td>0</td>\n",
       "      <td>2022-09-09</td>\n",
       "      <td>2022</td>\n",
       "      <td>9</td>\n",
       "      <td>9</td>\n",
       "      <td>09:35:00</td>\n",
       "    </tr>\n",
       "    <tr>\n",
       "      <th>...</th>\n",
       "      <td>...</td>\n",
       "      <td>...</td>\n",
       "      <td>...</td>\n",
       "      <td>...</td>\n",
       "      <td>...</td>\n",
       "      <td>...</td>\n",
       "      <td>...</td>\n",
       "      <td>...</td>\n",
       "      <td>...</td>\n",
       "      <td>...</td>\n",
       "      <td>...</td>\n",
       "    </tr>\n",
       "    <tr>\n",
       "      <th>134247</th>\n",
       "      <td>2022-09-09 15:05:00+05:30</td>\n",
       "      <td>17851.15</td>\n",
       "      <td>17855.90</td>\n",
       "      <td>17849.10</td>\n",
       "      <td>17851.30</td>\n",
       "      <td>0</td>\n",
       "      <td>2022-09-09</td>\n",
       "      <td>2022</td>\n",
       "      <td>9</td>\n",
       "      <td>9</td>\n",
       "      <td>15:05:00</td>\n",
       "    </tr>\n",
       "    <tr>\n",
       "      <th>134248</th>\n",
       "      <td>2022-09-09 15:10:00+05:30</td>\n",
       "      <td>17838.85</td>\n",
       "      <td>17854.40</td>\n",
       "      <td>17837.45</td>\n",
       "      <td>17851.10</td>\n",
       "      <td>0</td>\n",
       "      <td>2022-09-09</td>\n",
       "      <td>2022</td>\n",
       "      <td>9</td>\n",
       "      <td>9</td>\n",
       "      <td>15:10:00</td>\n",
       "    </tr>\n",
       "    <tr>\n",
       "      <th>134249</th>\n",
       "      <td>2022-09-09 15:15:00+05:30</td>\n",
       "      <td>17823.45</td>\n",
       "      <td>17839.75</td>\n",
       "      <td>17820.05</td>\n",
       "      <td>17839.75</td>\n",
       "      <td>0</td>\n",
       "      <td>2022-09-09</td>\n",
       "      <td>2022</td>\n",
       "      <td>9</td>\n",
       "      <td>9</td>\n",
       "      <td>15:15:00</td>\n",
       "    </tr>\n",
       "    <tr>\n",
       "      <th>134250</th>\n",
       "      <td>2022-09-09 15:20:00+05:30</td>\n",
       "      <td>17814.25</td>\n",
       "      <td>17823.50</td>\n",
       "      <td>17809.70</td>\n",
       "      <td>17823.25</td>\n",
       "      <td>0</td>\n",
       "      <td>2022-09-09</td>\n",
       "      <td>2022</td>\n",
       "      <td>9</td>\n",
       "      <td>9</td>\n",
       "      <td>15:20:00</td>\n",
       "    </tr>\n",
       "    <tr>\n",
       "      <th>134251</th>\n",
       "      <td>2022-09-09 15:25:00+05:30</td>\n",
       "      <td>17829.30</td>\n",
       "      <td>17833.20</td>\n",
       "      <td>17810.40</td>\n",
       "      <td>17812.40</td>\n",
       "      <td>0</td>\n",
       "      <td>2022-09-09</td>\n",
       "      <td>2022</td>\n",
       "      <td>9</td>\n",
       "      <td>9</td>\n",
       "      <td>15:25:00</td>\n",
       "    </tr>\n",
       "  </tbody>\n",
       "</table>\n",
       "<p>75 rows × 11 columns</p>\n",
       "</div>"
      ],
      "text/plain": [
       "                            date     close      high       low      open  \\\n",
       "134177 2022-09-09 09:15:00+05:30  17900.70  17925.30  17889.35  17923.35   \n",
       "134178 2022-09-09 09:20:00+05:30  17891.15  17905.05  17881.90  17900.50   \n",
       "134179 2022-09-09 09:25:00+05:30  17891.95  17898.90  17884.20  17892.35   \n",
       "134180 2022-09-09 09:30:00+05:30  17875.20  17899.65  17871.95  17891.60   \n",
       "134181 2022-09-09 09:35:00+05:30  17876.25  17880.00  17868.75  17874.25   \n",
       "...                          ...       ...       ...       ...       ...   \n",
       "134247 2022-09-09 15:05:00+05:30  17851.15  17855.90  17849.10  17851.30   \n",
       "134248 2022-09-09 15:10:00+05:30  17838.85  17854.40  17837.45  17851.10   \n",
       "134249 2022-09-09 15:15:00+05:30  17823.45  17839.75  17820.05  17839.75   \n",
       "134250 2022-09-09 15:20:00+05:30  17814.25  17823.50  17809.70  17823.25   \n",
       "134251 2022-09-09 15:25:00+05:30  17829.30  17833.20  17810.40  17812.40   \n",
       "\n",
       "        volume       date1  year  month  day      time  \n",
       "134177       0  2022-09-09  2022      9    9  09:15:00  \n",
       "134178       0  2022-09-09  2022      9    9  09:20:00  \n",
       "134179       0  2022-09-09  2022      9    9  09:25:00  \n",
       "134180       0  2022-09-09  2022      9    9  09:30:00  \n",
       "134181       0  2022-09-09  2022      9    9  09:35:00  \n",
       "...        ...         ...   ...    ...  ...       ...  \n",
       "134247       0  2022-09-09  2022      9    9  15:05:00  \n",
       "134248       0  2022-09-09  2022      9    9  15:10:00  \n",
       "134249       0  2022-09-09  2022      9    9  15:15:00  \n",
       "134250       0  2022-09-09  2022      9    9  15:20:00  \n",
       "134251       0  2022-09-09  2022      9    9  15:25:00  \n",
       "\n",
       "[75 rows x 11 columns]"
      ]
     },
     "execution_count": 7,
     "metadata": {},
     "output_type": "execute_result"
    }
   ],
   "source": [
    "sept= data[(data['year'] == 2022) & (data['month'] == 9) & (data['day']== 9)]\n",
    "sept"
   ]
  },
  {
   "cell_type": "code",
   "execution_count": 8,
   "metadata": {},
   "outputs": [
    {
     "data": {
      "text/plain": [
       "(array([ 0,  1,  2,  3,  4,  5,  6,  7,  8,  9, 10, 11, 12, 13, 14, 15, 16,\n",
       "        17, 18, 19, 20, 21, 22, 23, 24, 25, 26, 27, 28, 29, 30, 31, 32, 33,\n",
       "        34, 35, 36, 37, 38, 39, 40, 41, 42, 43, 44, 45, 46, 47, 48, 49, 50,\n",
       "        51, 52, 53, 54, 55, 56, 57, 58, 59, 60, 61, 62, 63, 64, 65, 66, 67,\n",
       "        68, 69, 70, 71, 72, 73, 74]),\n",
       " [Text(0, 0, '09:15:00'),\n",
       "  Text(1, 0, '09:20:00'),\n",
       "  Text(2, 0, '09:25:00'),\n",
       "  Text(3, 0, '09:30:00'),\n",
       "  Text(4, 0, '09:35:00'),\n",
       "  Text(5, 0, '09:40:00'),\n",
       "  Text(6, 0, '09:45:00'),\n",
       "  Text(7, 0, '09:50:00'),\n",
       "  Text(8, 0, '09:55:00'),\n",
       "  Text(9, 0, '10:00:00'),\n",
       "  Text(10, 0, '10:05:00'),\n",
       "  Text(11, 0, '10:10:00'),\n",
       "  Text(12, 0, '10:15:00'),\n",
       "  Text(13, 0, '10:20:00'),\n",
       "  Text(14, 0, '10:25:00'),\n",
       "  Text(15, 0, '10:30:00'),\n",
       "  Text(16, 0, '10:35:00'),\n",
       "  Text(17, 0, '10:40:00'),\n",
       "  Text(18, 0, '10:45:00'),\n",
       "  Text(19, 0, '10:50:00'),\n",
       "  Text(20, 0, '10:55:00'),\n",
       "  Text(21, 0, '11:00:00'),\n",
       "  Text(22, 0, '11:05:00'),\n",
       "  Text(23, 0, '11:10:00'),\n",
       "  Text(24, 0, '11:15:00'),\n",
       "  Text(25, 0, '11:20:00'),\n",
       "  Text(26, 0, '11:25:00'),\n",
       "  Text(27, 0, '11:30:00'),\n",
       "  Text(28, 0, '11:35:00'),\n",
       "  Text(29, 0, '11:40:00'),\n",
       "  Text(30, 0, '11:45:00'),\n",
       "  Text(31, 0, '11:50:00'),\n",
       "  Text(32, 0, '11:55:00'),\n",
       "  Text(33, 0, '12:00:00'),\n",
       "  Text(34, 0, '12:05:00'),\n",
       "  Text(35, 0, '12:10:00'),\n",
       "  Text(36, 0, '12:15:00'),\n",
       "  Text(37, 0, '12:20:00'),\n",
       "  Text(38, 0, '12:25:00'),\n",
       "  Text(39, 0, '12:30:00'),\n",
       "  Text(40, 0, '12:35:00'),\n",
       "  Text(41, 0, '12:40:00'),\n",
       "  Text(42, 0, '12:45:00'),\n",
       "  Text(43, 0, '12:50:00'),\n",
       "  Text(44, 0, '12:55:00'),\n",
       "  Text(45, 0, '13:00:00'),\n",
       "  Text(46, 0, '13:05:00'),\n",
       "  Text(47, 0, '13:10:00'),\n",
       "  Text(48, 0, '13:15:00'),\n",
       "  Text(49, 0, '13:20:00'),\n",
       "  Text(50, 0, '13:25:00'),\n",
       "  Text(51, 0, '13:30:00'),\n",
       "  Text(52, 0, '13:35:00'),\n",
       "  Text(53, 0, '13:40:00'),\n",
       "  Text(54, 0, '13:45:00'),\n",
       "  Text(55, 0, '13:50:00'),\n",
       "  Text(56, 0, '13:55:00'),\n",
       "  Text(57, 0, '14:00:00'),\n",
       "  Text(58, 0, '14:05:00'),\n",
       "  Text(59, 0, '14:10:00'),\n",
       "  Text(60, 0, '14:15:00'),\n",
       "  Text(61, 0, '14:20:00'),\n",
       "  Text(62, 0, '14:25:00'),\n",
       "  Text(63, 0, '14:30:00'),\n",
       "  Text(64, 0, '14:35:00'),\n",
       "  Text(65, 0, '14:40:00'),\n",
       "  Text(66, 0, '14:45:00'),\n",
       "  Text(67, 0, '14:50:00'),\n",
       "  Text(68, 0, '14:55:00'),\n",
       "  Text(69, 0, '15:00:00'),\n",
       "  Text(70, 0, '15:05:00'),\n",
       "  Text(71, 0, '15:10:00'),\n",
       "  Text(72, 0, '15:15:00'),\n",
       "  Text(73, 0, '15:20:00'),\n",
       "  Text(74, 0, '15:25:00')])"
      ]
     },
     "execution_count": 8,
     "metadata": {},
     "output_type": "execute_result"
    },
    {
     "data": {
      "image/png": "[encoded data removed]",
      "text/plain": [
       "<Figure size 1600x900 with 1 Axes>"
      ]
     },
     "metadata": {},
     "output_type": "display_data"
    }
   ],
   "source": [
    "m.figure(figsize =(16,9))\n",
    "sns.boxplot(x = sept['time'], y=  sept['high'])\n",
    "m.xticks(rotation = 90)"
   ]
  },
  {
   "cell_type": "code",
   "execution_count": 9,
   "metadata": {},
   "outputs": [],
   "source": [
    "import plotly.express as px \n",
    "import seaborn as sns"
   ]
  },
  {
   "cell_type": "code",
   "execution_count": 10,
   "metadata": {},
   "outputs": [],
   "source": [
    "max_pt = max(sept['high'])\n",
    "min_pt = min(sept['low'])\n",
    "\n",
    "mean_point = (max_pt + min_pt)/2\n",
    "mean_point\n",
    "upper_bound = mean_point + 5\n",
    "lower_bound = mean_point - 5"
   ]
  },
  {
   "cell_type": "code",
   "execution_count": 11,
   "metadata": {},
   "outputs": [],
   "source": [
    "trial  = np.random.randint(low = min_pt, high = max_pt, size = 1000)\n",
    "trial\n",
    "thirty = np.percentile(trial, 0.382)\n",
    "sixty = np.percentile(trial, 0.618)"
   ]
  },
  {
   "cell_type": "code",
   "execution_count": 12,
   "metadata": {},
   "outputs": [
    {
     "data": {
      "application/vnd.plotly.v1+json": {
       "config": {
        "plotlyServerURL": "https://plot.ly"
       },
       "data": [
        {
         "line": {
          "color": "orange",
          "width": 1
         },
         "name": "Open 2022-09-09",
         "type": "scatter",
         "x": [
          "09:15:00",
          "09:20:00",
          "09:25:00",
          "09:30:00",
          "09:35:00",
          "09:40:00",
          "09:45:00",
          "09:50:00",
          "09:55:00",
          "10:00:00",
          "10:05:00",
          "10:10:00",
          "10:15:00",
          "10:20:00",
          "10:25:00",
          "10:30:00",
          "10:35:00",
          "10:40:00",
          "10:45:00",
          "10:50:00",
          "10:55:00",
          "11:00:00",
          "11:05:00",
          "11:10:00",
          "11:15:00",
          "11:20:00",
          "11:25:00",
          "11:30:00",
          "11:35:00",
          "11:40:00",
          "11:45:00",
          "11:50:00",
          "11:55:00",
          "12:00:00",
          "12:05:00",
          "12:10:00",
          "12:15:00",
          "12:20:00",
          "12:25:00",
          "12:30:00",
          "12:35:00",
          "12:40:00",
          "12:45:00",
          "12:50:00",
          "12:55:00",
          "13:00:00",
          "13:05:00",
          "13:10:00",
          "13:15:00",
          "13:20:00",
          "13:25:00",
          "13:30:00",
          "13:35:00",
          "13:40:00",
          "13:45:00",
          "13:50:00",
          "13:55:00",
          "14:00:00",
          "14:05:00",
          "14:10:00",
          "14:15:00",
          "14:20:00",
          "14:25:00",
          "14:30:00",
          "14:35:00",
          "14:40:00",
          "14:45:00",
          "14:50:00",
          "14:55:00",
          "15:00:00",
          "15:05:00",
          "15:10:00",
          "15:15:00",
          "15:20:00",
          "15:25:00"
         ],
         "y": [
          17923.35,
          17900.5,
          17892.35,
          17891.6,
          17874.25,
          17875.3,
          17893.1,
          17883.95,
          17890.5,
          17896.25,
          17901.6,
          17905.95,
          17891.6,
          17908.05,
          17909.65,
          17903.15,
          17912.5,
          17911.9,
          17894.35,
          17891.6,
          17890.8,
          17898.5,
          17889.05,
          17886.4,
          17883.65,
          17873.85,
          17866.95,
          17880.95,
          17871.95,
          17867.05,
          17858.85,
          17853.5,
          17863,
          17860.7,
          17840.25,
          17841.4,
          17824.8,
          17841.8,
          17834.5,
          17824.45,
          17837.5,
          17846.7,
          17858.85,
          17850.8,
          17845.2,
          17853.2,
          17834.8,
          17838.65,
          17829.9,
          17826.35,
          17800.3,
          17812.15,
          17817.1,
          17813.5,
          17818.6,
          17837.15,
          17841.95,
          17847.9,
          17844.9,
          17842.75,
          17846.3,
          17854.05,
          17859.65,
          17856.25,
          17842.05,
          17856.4,
          17858.8,
          17855.6,
          17857.4,
          17858.9,
          17851.3,
          17851.1,
          17839.75,
          17823.25,
          17812.4
         ]
        },
        {
         "line": {
          "color": "blue",
          "width": 1
         },
         "name": "Close 2022-09-09",
         "type": "scatter",
         "x": [
          "09:15:00",
          "09:20:00",
          "09:25:00",
          "09:30:00",
          "09:35:00",
          "09:40:00",
          "09:45:00",
          "09:50:00",
          "09:55:00",
          "10:00:00",
          "10:05:00",
          "10:10:00",
          "10:15:00",
          "10:20:00",
          "10:25:00",
          "10:30:00",
          "10:35:00",
          "10:40:00",
          "10:45:00",
          "10:50:00",
          "10:55:00",
          "11:00:00",
          "11:05:00",
          "11:10:00",
          "11:15:00",
          "11:20:00",
          "11:25:00",
          "11:30:00",
          "11:35:00",
          "11:40:00",
          "11:45:00",
          "11:50:00",
          "11:55:00",
          "12:00:00",
          "12:05:00",
          "12:10:00",
          "12:15:00",
          "12:20:00",
          "12:25:00",
          "12:30:00",
          "12:35:00",
          "12:40:00",
          "12:45:00",
          "12:50:00",
          "12:55:00",
          "13:00:00",
          "13:05:00",
          "13:10:00",
          "13:15:00",
          "13:20:00",
          "13:25:00",
          "13:30:00",
          "13:35:00",
          "13:40:00",
          "13:45:00",
          "13:50:00",
          "13:55:00",
          "14:00:00",
          "14:05:00",
          "14:10:00",
          "14:15:00",
          "14:20:00",
          "14:25:00",
          "14:30:00",
          "14:35:00",
          "14:40:00",
          "14:45:00",
          "14:50:00",
          "14:55:00",
          "15:00:00",
          "15:05:00",
          "15:10:00",
          "15:15:00",
          "15:20:00",
          "15:25:00"
         ],
         "y": [
          17900.7,
          17891.15,
          17891.95,
          17875.2,
          17876.25,
          17894.25,
          17883.45,
          17890.9,
          17896.1,
          17901.35,
          17905.6,
          17894.3,
          17907.9,
          17909.7,
          17903.6,
          17912.9,
          17911.65,
          17894.85,
          17890.8,
          17890.6,
          17899.5,
          17888.45,
          17886.2,
          17883.45,
          17873.6,
          17866.65,
          17880.6,
          17872.1,
          17866.75,
          17858.5,
          17853.9,
          17862.4,
          17860.9,
          17840.15,
          17841.95,
          17824.9,
          17841.95,
          17834.3,
          17825.05,
          17836.85,
          17846.6,
          17859.1,
          17850.55,
          17845,
          17852.8,
          17834.1,
          17838.05,
          17829.45,
          17826.4,
          17799.95,
          17812.2,
          17817.15,
          17813.75,
          17819.3,
          17837.25,
          17841.75,
          17848.65,
          17844.55,
          17842.1,
          17846.85,
          17853.5,
          17859.75,
          17855.95,
          17841.55,
          17856.1,
          17857.55,
          17856,
          17857.45,
          17856.85,
          17850.3,
          17851.15,
          17838.85,
          17823.45,
          17814.25,
          17829.3
         ]
        }
       ],
       "layout": {
        "shapes": [
         {
          "type": "line",
          "x0": 0,
          "x1": 1,
          "xref": "x domain",
          "y0": 17860.725,
          "y1": 17860.725,
          "yref": "y"
         },
         {
          "type": "line",
          "x0": 0,
          "x1": 1,
          "xref": "x domain",
          "y0": 17855.725,
          "y1": 17855.725,
          "yref": "y"
         },
         {
          "type": "line",
          "x0": 0,
          "x1": 1,
          "xref": "x domain",
          "y0": 17850.725,
          "y1": 17850.725,
          "yref": "y"
         }
        ],
        "template": {
         "data": {
          "bar": [
           {
            "error_x": {
             "color": "#2a3f5f"
            },
            "error_y": {
             "color": "#2a3f5f"
            },
            "marker": {
             "line": {
              "color": "#E5ECF6",
              "width": 0.5
             },
             "pattern": {
              "fillmode": "overlay",
              "size": 10,
              "solidity": 0.2
             }
            },
            "type": "bar"
           }
          ],
          "barpolar": [
           {
            "marker": {
             "line": {
              "color": "#E5ECF6",
              "width": 0.5
             },
             "pattern": {
              "fillmode": "overlay",
              "size": 10,
              "solidity": 0.2
             }
            },
            "type": "barpolar"
           }
          ],
          "carpet": [
           {
            "aaxis": {
             "endlinecolor": "#2a3f5f",
             "gridcolor": "white",
             "linecolor": "white",
             "minorgridcolor": "white",
             "startlinecolor": "#2a3f5f"
            },
            "baxis": {
             "endlinecolor": "#2a3f5f",
             "gridcolor": "white",
             "linecolor": "white",
             "minorgridcolor": "white",
             "startlinecolor": "#2a3f5f"
            },
            "type": "carpet"
           }
          ],
          "choropleth": [
           {
            "colorbar": {
             "outlinewidth": 0,
             "ticks": ""
            },
            "type": "choropleth"
           }
          ],
          "contour": [
           {
            "colorbar": {
             "outlinewidth": 0,
             "ticks": ""
            },
            "colorscale": [
             [
              0,
              "#0d0887"
             ],
             [
              0.1111111111111111,
              "#46039f"
             ],
             [
              0.2222222222222222,
              "#7201a8"
             ],
             [
              0.3333333333333333,
              "#9c179e"
             ],
             [
              0.4444444444444444,
              "#bd3786"
             ],
             [
              0.5555555555555556,
              "#d8576b"
             ],
             [
              0.6666666666666666,
              "#ed7953"
             ],
             [
              0.7777777777777778,
              "#fb9f3a"
             ],
             [
              0.8888888888888888,
              "#fdca26"
             ],
             [
              1,
              "#f0f921"
             ]
            ],
            "type": "contour"
           }
          ],
          "contourcarpet": [
           {
            "colorbar": {
             "outlinewidth": 0,
             "ticks": ""
            },
            "type": "contourcarpet"
           }
          ],
          "heatmap": [
           {
            "colorbar": {
             "outlinewidth": 0,
             "ticks": ""
            },
            "colorscale": [
             [
              0,
              "#0d0887"
             ],
             [
              0.1111111111111111,
              "#46039f"
             ],
             [
              0.2222222222222222,
              "#7201a8"
             ],
             [
              0.3333333333333333,
              "#9c179e"
             ],
             [
              0.4444444444444444,
              "#bd3786"
             ],
             [
              0.5555555555555556,
              "#d8576b"
             ],
             [
              0.6666666666666666,
              "#ed7953"
             ],
             [
              0.7777777777777778,
              "#fb9f3a"
             ],
             [
              0.8888888888888888,
              "#fdca26"
             ],
             [
              1,
              "#f0f921"
             ]
            ],
            "type": "heatmap"
           }
          ],
          "heatmapgl": [
           {
            "colorbar": {
             "outlinewidth": 0,
             "ticks": ""
            },
            "colorscale": [
             [
              0,
              "#0d0887"
             ],
             [
              0.1111111111111111,
              "#46039f"
             ],
             [
              0.2222222222222222,
              "#7201a8"
             ],
             [
              0.3333333333333333,
              "#9c179e"
             ],
             [
              0.4444444444444444,
              "#bd3786"
             ],
             [
              0.5555555555555556,
              "#d8576b"
             ],
             [
              0.6666666666666666,
              "#ed7953"
             ],
             [
              0.7777777777777778,
              "#fb9f3a"
             ],
             [
              0.8888888888888888,
              "#fdca26"
             ],
             [
              1,
              "#f0f921"
             ]
            ],
            "type": "heatmapgl"
           }
          ],
          "histogram": [
           {
            "marker": {
             "pattern": {
              "fillmode": "overlay",
              "size": 10,
              "solidity": 0.2
             }
            },
            "type": "histogram"
           }
          ],
          "histogram2d": [
           {
            "colorbar": {
             "outlinewidth": 0,
             "ticks": ""
            },
            "colorscale": [
             [
              0,
              "#0d0887"
             ],
             [
              0.1111111111111111,
              "#46039f"
             ],
             [
              0.2222222222222222,
              "#7201a8"
             ],
             [
              0.3333333333333333,
              "#9c179e"
             ],
             [
              0.4444444444444444,
              "#bd3786"
             ],
             [
              0.5555555555555556,
              "#d8576b"
             ],
             [
              0.6666666666666666,
              "#ed7953"
             ],
             [
              0.7777777777777778,
              "#fb9f3a"
             ],
             [
              0.8888888888888888,
              "#fdca26"
             ],
             [
              1,
              "#f0f921"
             ]
            ],
            "type": "histogram2d"
           }
          ],
          "histogram2dcontour": [
           {
            "colorbar": {
             "outlinewidth": 0,
             "ticks": ""
            },
            "colorscale": [
             [
              0,
              "#0d0887"
             ],
             [
              0.1111111111111111,
              "#46039f"
             ],
             [
              0.2222222222222222,
              "#7201a8"
             ],
             [
              0.3333333333333333,
              "#9c179e"
             ],
             [
              0.4444444444444444,
              "#bd3786"
             ],
             [
              0.5555555555555556,
              "#d8576b"
             ],
             [
              0.6666666666666666,
              "#ed7953"
             ],
             [
              0.7777777777777778,
              "#fb9f3a"
             ],
             [
              0.8888888888888888,
              "#fdca26"
             ],
             [
              1,
              "#f0f921"
             ]
            ],
            "type": "histogram2dcontour"
           }
          ],
          "mesh3d": [
           {
            "colorbar": {
             "outlinewidth": 0,
             "ticks": ""
            },
            "type": "mesh3d"
           }
          ],
          "parcoords": [
           {
            "line": {
             "colorbar": {
              "outlinewidth": 0,
              "ticks": ""
             }
            },
            "type": "parcoords"
           }
          ],
          "pie": [
           {
            "automargin": true,
            "type": "pie"
           }
          ],
          "scatter": [
           {
            "fillpattern": {
             "fillmode": "overlay",
             "size": 10,
             "solidity": 0.2
            },
            "type": "scatter"
           }
          ],
          "scatter3d": [
           {
            "line": {
             "colorbar": {
              "outlinewidth": 0,
              "ticks": ""
             }
            },
            "marker": {
             "colorbar": {
              "outlinewidth": 0,
              "ticks": ""
             }
            },
            "type": "scatter3d"
           }
          ],
          "scattercarpet": [
           {
            "marker": {
             "colorbar": {
              "outlinewidth": 0,
              "ticks": ""
             }
            },
            "type": "scattercarpet"
           }
          ],
          "scattergeo": [
           {
            "marker": {
             "colorbar": {
              "outlinewidth": 0,
              "ticks": ""
             }
            },
            "type": "scattergeo"
           }
          ],
          "scattergl": [
           {
            "marker": {
             "colorbar": {
              "outlinewidth": 0,
              "ticks": ""
             }
            },
            "type": "scattergl"
           }
          ],
          "scattermapbox": [
           {
            "marker": {
             "colorbar": {
              "outlinewidth": 0,
              "ticks": ""
             }
            },
            "type": "scattermapbox"
           }
          ],
          "scatterpolar": [
           {
            "marker": {
             "colorbar": {
              "outlinewidth": 0,
              "ticks": ""
             }
            },
            "type": "scatterpolar"
           }
          ],
          "scatterpolargl": [
           {
            "marker": {
             "colorbar": {
              "outlinewidth": 0,
              "ticks": ""
             }
            },
            "type": "scatterpolargl"
           }
          ],
          "scatterternary": [
           {
            "marker": {
             "colorbar": {
              "outlinewidth": 0,
              "ticks": ""
             }
            },
            "type": "scatterternary"
           }
          ],
          "surface": [
           {
            "colorbar": {
             "outlinewidth": 0,
             "ticks": ""
            },
            "colorscale": [
             [
              0,
              "#0d0887"
             ],
             [
              0.1111111111111111,
              "#46039f"
             ],
             [
              0.2222222222222222,
              "#7201a8"
             ],
             [
              0.3333333333333333,
              "#9c179e"
             ],
             [
              0.4444444444444444,
              "#bd3786"
             ],
             [
              0.5555555555555556,
              "#d8576b"
             ],
             [
              0.6666666666666666,
              "#ed7953"
             ],
             [
              0.7777777777777778,
              "#fb9f3a"
             ],
             [
              0.8888888888888888,
              "#fdca26"
             ],
             [
              1,
              "#f0f921"
             ]
            ],
            "type": "surface"
           }
          ],
          "table": [
           {
            "cells": {
             "fill": {
              "color": "#EBF0F8"
             },
             "line": {
              "color": "white"
             }
            },
            "header": {
             "fill": {
              "color": "#C8D4E3"
             },
             "line": {
              "color": "white"
             }
            },
            "type": "table"
           }
          ]
         },
         "layout": {
          "annotationdefaults": {
           "arrowcolor": "#2a3f5f",
           "arrowhead": 0,
           "arrowwidth": 1
          },
          "autotypenumbers": "strict",
          "coloraxis": {
           "colorbar": {
            "outlinewidth": 0,
            "ticks": ""
           }
          },
          "colorscale": {
           "diverging": [
            [
             0,
             "#8e0152"
            ],
            [
             0.1,
             "#c51b7d"
            ],
            [
             0.2,
             "#de77ae"
            ],
            [
             0.3,
             "#f1b6da"
            ],
            [
             0.4,
             "#fde0ef"
            ],
            [
             0.5,
             "#f7f7f7"
            ],
            [
             0.6,
             "#e6f5d0"
            ],
            [
             0.7,
             "#b8e186"
            ],
            [
             0.8,
             "#7fbc41"
            ],
            [
             0.9,
             "#4d9221"
            ],
            [
             1,
             "#276419"
            ]
           ],
           "sequential": [
            [
             0,
             "#0d0887"
            ],
            [
             0.1111111111111111,
             "#46039f"
            ],
            [
             0.2222222222222222,
             "#7201a8"
            ],
            [
             0.3333333333333333,
             "#9c179e"
            ],
            [
             0.4444444444444444,
             "#bd3786"
            ],
            [
             0.5555555555555556,
             "#d8576b"
            ],
            [
             0.6666666666666666,
             "#ed7953"
            ],
            [
             0.7777777777777778,
             "#fb9f3a"
            ],
            [
             0.8888888888888888,
             "#fdca26"
            ],
            [
             1,
             "#f0f921"
            ]
           ],
           "sequentialminus": [
            [
             0,
             "#0d0887"
            ],
            [
             0.1111111111111111,
             "#46039f"
            ],
            [
             0.2222222222222222,
             "#7201a8"
            ],
            [
             0.3333333333333333,
             "#9c179e"
            ],
            [
             0.4444444444444444,
             "#bd3786"
            ],
            [
             0.5555555555555556,
             "#d8576b"
            ],
            [
             0.6666666666666666,
             "#ed7953"
            ],
            [
             0.7777777777777778,
             "#fb9f3a"
            ],
            [
             0.8888888888888888,
             "#fdca26"
            ],
            [
             1,
             "#f0f921"
            ]
           ]
          },
          "colorway": [
           "#636efa",
           "#EF553B",
           "#00cc96",
           "#ab63fa",
           "#FFA15A",
           "#19d3f3",
           "#FF6692",
           "#B6E880",
           "#FF97FF",
           "#FECB52"
          ],
          "font": {
           "color": "#2a3f5f"
          },
          "geo": {
           "bgcolor": "white",
           "lakecolor": "white",
           "landcolor": "#E5ECF6",
           "showlakes": true,
           "showland": true,
           "subunitcolor": "white"
          },
          "hoverlabel": {
           "align": "left"
          },
          "hovermode": "closest",
          "mapbox": {
           "style": "light"
          },
          "paper_bgcolor": "white",
          "plot_bgcolor": "#E5ECF6",
          "polar": {
           "angularaxis": {
            "gridcolor": "white",
            "linecolor": "white",
            "ticks": ""
           },
           "bgcolor": "#E5ECF6",
           "radialaxis": {
            "gridcolor": "white",
            "linecolor": "white",
            "ticks": ""
           }
          },
          "scene": {
           "xaxis": {
            "backgroundcolor": "#E5ECF6",
            "gridcolor": "white",
            "gridwidth": 2,
            "linecolor": "white",
            "showbackground": true,
            "ticks": "",
            "zerolinecolor": "white"
           },
           "yaxis": {
            "backgroundcolor": "#E5ECF6",
            "gridcolor": "white",
            "gridwidth": 2,
            "linecolor": "white",
            "showbackground": true,
            "ticks": "",
            "zerolinecolor": "white"
           },
           "zaxis": {
            "backgroundcolor": "#E5ECF6",
            "gridcolor": "white",
            "gridwidth": 2,
            "linecolor": "white",
            "showbackground": true,
            "ticks": "",
            "zerolinecolor": "white"
           }
          },
          "shapedefaults": {
           "line": {
            "color": "#2a3f5f"
           }
          },
          "ternary": {
           "aaxis": {
            "gridcolor": "white",
            "linecolor": "white",
            "ticks": ""
           },
           "baxis": {
            "gridcolor": "white",
            "linecolor": "white",
            "ticks": ""
           },
           "bgcolor": "#E5ECF6",
           "caxis": {
            "gridcolor": "white",
            "linecolor": "white",
            "ticks": ""
           }
          },
          "title": {
           "x": 0.05
          },
          "xaxis": {
           "automargin": true,
           "gridcolor": "white",
           "linecolor": "white",
           "ticks": "",
           "title": {
            "standoff": 15
           },
           "zerolinecolor": "white",
           "zerolinewidth": 2
          },
          "yaxis": {
           "automargin": true,
           "gridcolor": "white",
           "linecolor": "white",
           "ticks": "",
           "title": {
            "standoff": 15
           },
           "zerolinecolor": "white",
           "zerolinewidth": 2
          }
         }
        }
       }
      }
     },
     "metadata": {},
     "output_type": "display_data"
    },
    {
     "data": {
      "text/plain": [
       "<Figure size 1600x900 with 0 Axes>"
      ]
     },
     "metadata": {},
     "output_type": "display_data"
    }
   ],
   "source": [
    "import plotly.graph_objects as go\n",
    "m.figure(figsize= (16,9))\n",
    "fig = go.Figure()\n",
    "fig.add_trace(go.Scatter(x=sept['time'], y=sept['open'], name='Open 2022-09-09',\n",
    "                         line=dict(color='orange', width=1)))\n",
    "fig.add_trace(go.Scatter(x=sept['time'], y=sept['close'], name='Close 2022-09-09',\n",
    "                         line=dict(color='blue', width=1)))\n",
    "fig.add_hline(y = upper_bound)\n",
    "fig.add_hline(mean_point)\n",
    "fig.add_hline(y = lower_bound)"
   ]
  },
  {
   "cell_type": "code",
   "execution_count": 13,
   "metadata": {},
   "outputs": [],
   "source": [
    "trial  = np.random.randint(low = min_pt, high = max_pt, size = 1000)\n",
    "trial\n",
    "thirty = np.percentile(trial, 0.382)\n",
    "sixty = np.percentile(trial, 0.618)"
   ]
  },
  {
   "cell_type": "code",
   "execution_count": 14,
   "metadata": {},
   "outputs": [
    {
     "data": {
      "text/plain": [
       "68"
      ]
     },
     "execution_count": 14,
     "metadata": {},
     "output_type": "execute_result"
    }
   ],
   "source": [
    "new = []\n",
    "t = 0\n",
    "close1 = list(sept['close'])\n",
    "for i in range(len(close1) -1):\n",
    "    if (close1[i] >= mean_point - 3) and (close1[i]<= mean_point +3):\n",
    "        temp = close1[t:i]\n",
    "        t=i\n",
    "        new.append(temp)\n",
    "\n",
    "\n",
    "\n",
    "tr = []\n",
    "for i in new:\n",
    "    for j in i:\n",
    "        tr.append(j)\n",
    "len(tr)"
   ]
  },
  {
   "cell_type": "code",
   "execution_count": 25,
   "metadata": {},
   "outputs": [
    {
     "name": "stdout",
     "output_type": "stream",
     "text": [
      "[17900.7, 17891.15, 17891.95, 17875.2, 17876.25, 17894.25, 17883.45, 17890.9, 17896.1, 17901.35, 17905.6, 17894.3, 17907.9, 17909.7, 17903.6, 17912.9, 17911.65, 17894.85, 17890.8, 17890.6, 17899.5, 17888.45, 17886.2, 17883.45, 17873.6, 17866.65, 17880.6, 17872.1, 17866.75]\n",
      "[17858.5]\n",
      "[17853.9, 17862.4, 17860.9, 17840.15, 17841.95, 17824.9, 17841.95, 17834.3, 17825.05, 17836.85, 17846.6, 17859.1, 17850.55, 17845.0]\n",
      "[17852.8, 17834.1, 17838.05, 17829.45, 17826.4, 17799.95, 17812.2, 17817.15, 17813.75, 17819.3, 17837.25, 17841.75, 17848.65, 17844.55, 17842.1, 17846.85]\n",
      "[17853.5, 17859.75]\n",
      "[17855.95, 17841.55]\n",
      "[17856.1]\n",
      "[17857.55]\n",
      "[17856.0]\n",
      "[17857.45]\n"
     ]
    }
   ],
   "source": [
    "for i in new:\n",
    "    print(i)"
   ]
  },
  {
   "cell_type": "code",
   "execution_count": 32,
   "metadata": {},
   "outputs": [
    {
     "data": {
      "text/plain": [
       "[[], [], [], [], [], [], [], [], [], []]"
      ]
     },
     "execution_count": 32,
     "metadata": {},
     "output_type": "execute_result"
    }
   ],
   "source": [
    "l1 = []\n",
    "for i in range(len(new)):\n",
    "    emp = []\n",
    "    l1.append(emp)\n",
    "\n",
    "l1"
   ]
  },
  {
   "cell_type": "code",
   "execution_count": 35,
   "metadata": {},
   "outputs": [
    {
     "name": "stdout",
     "output_type": "stream",
     "text": [
      "[-0.05334986899953227, 0.004471484504904785, -0.09361752072859582, 0.005874060150371869, 0.10069225928256766, -0.06035458317615588, 0.04165862850848537, 0.029065055419219207, 0.029336000581132206, 0.02374122622036886, -0.06310874810114865, 0.07600185533942196, 0.010051429815887246, -0.034059755328130464, 0.051944860251585775, -0.006978211233245314, -0.09379370409762869, -0.02263220982572792, -0.0011178929952865586, 0.04974679440600906, -0.06173356797675506, -0.012577948340968613, -0.015374981829566927, -0.05507885782666198, -0.03888416435411495, 0.07807843104329625, -0.047537554668187876, -0.029934926505550807, -0.05334986899953227, 0.004471484504904785, -0.09361752072859582, 0.005874060150371869, 0.10069225928256766, -0.06035458317615588, 0.04165862850848537, 0.029065055419219207, 0.029336000581132206, 0.02374122622036886, -0.06310874810114865, 0.07600185533942196, 0.010051429815887246, -0.034059755328130464, 0.051944860251585775, -0.006978211233245314, -0.09379370409762869, -0.02263220982572792, -0.0011178929952865586, 0.04974679440600906, -0.06173356797675506, -0.012577948340968613, -0.015374981829566927, -0.05507885782666198, -0.03888416435411495, 0.07807843104329625, -0.047537554668187876, -0.029934926505550807]\n",
      "[]\n",
      "[0.047608645730064576, -0.008397527767825153, -0.11617555666287813, 0.010089601264559279, -0.09556130355706227, 0.09565271053413635, -0.04287647930860391, -0.05186634743163455, 0.06619897279390112, 0.05466211803093036, 0.0700413524144655, -0.04787475292707512, -0.03109147897403314, 0.047608645730064576, -0.008397527767825153, -0.11617555666287813, 0.010089601264559279, -0.09556130355706227, 0.09565271053413635, -0.04287647930860391, -0.05186634743163455, 0.06619897279390112, 0.05466211803093036, 0.0700413524144655, -0.04787475292707512, -0.03109147897403314]\n",
      "[-0.10474547409930503, 0.022148580528317818, -0.04821154778688559, -0.01710652880486651, -0.1483754431629534, 0.06882041803488212, 0.027789941725338406, -0.01908273769935963, 0.031155708371338277, 0.10073347437890787, 0.025228104107976282, 0.03867333641599874, -0.02297092497192887, -0.01372968217187168, 0.026622426732279273, -0.10474547409930503, 0.022148580528317818, -0.04821154778688559, -0.01710652880486651, -0.1483754431629534, 0.06882041803488212, 0.027789941725338406, -0.01908273769935963, 0.031155708371338277, 0.10073347437890787, 0.025228104107976282, 0.03867333641599874, -0.02297092497192887, -0.01372968217187168, 0.026622426732279273]\n",
      "[0.035007141456857196, 0.035007141456857196]\n",
      "[-0.08064538711186721, -0.08064538711186721]\n",
      "[]\n",
      "[]\n",
      "[]\n",
      "[]\n"
     ]
    }
   ],
   "source": [
    "\n",
    "for i in new:\n",
    "    for j in range(len(i)-1):\n",
    "        if(len(i)==1):\n",
    "            continue\n",
    "        l1[new.index(i)].append(((i[j+1] - i[j])/i[j])*100)\n",
    "\n",
    "        \n",
    "for i in l1:\n",
    "    print(i)"
   ]
  },
  {
   "cell_type": "code",
   "execution_count": 16,
   "metadata": {},
   "outputs": [
    {
     "data": {
      "text/plain": [
       "[-0.05334986899953227,\n",
       " 0.004471484504904785,\n",
       " -0.09361752072859582,\n",
       " 0.005874060150371869,\n",
       " 0.10069225928256766,\n",
       " -0.06035458317615588,\n",
       " 0.04165862850848537,\n",
       " 0.029065055419219207,\n",
       " 0.029336000581132206,\n",
       " 0.02374122622036886,\n",
       " -0.06310874810114865,\n",
       " 0.07600185533942196,\n",
       " 0.010051429815887246,\n",
       " -0.034059755328130464,\n",
       " 0.051944860251585775,\n",
       " -0.006978211233245314,\n",
       " -0.09379370409762869,\n",
       " -0.02263220982572792,\n",
       " -0.0011178929952865586,\n",
       " 0.04974679440600906,\n",
       " -0.06173356797675506,\n",
       " -0.012577948340968613,\n",
       " -0.015374981829566927,\n",
       " -0.05507885782666198,\n",
       " -0.03888416435411495,\n",
       " 0.07807843104329625,\n",
       " -0.047537554668187876,\n",
       " -0.029934926505550807,\n",
       " 0.047608645730064576,\n",
       " -0.008397527767825153,\n",
       " -0.11617555666287813,\n",
       " 0.010089601264559279,\n",
       " -0.09556130355706227,\n",
       " 0.09565271053413635,\n",
       " -0.04287647930860391,\n",
       " -0.05186634743163455,\n",
       " 0.06619897279390112,\n",
       " 0.05466211803093036,\n",
       " 0.0700413524144655,\n",
       " -0.04787475292707512,\n",
       " -0.03109147897403314,\n",
       " -0.10474547409930503,\n",
       " 0.022148580528317818,\n",
       " -0.04821154778688559,\n",
       " -0.01710652880486651,\n",
       " -0.1483754431629534,\n",
       " 0.06882041803488212,\n",
       " 0.027789941725338406,\n",
       " -0.01908273769935963,\n",
       " 0.031155708371338277,\n",
       " 0.10073347437890787,\n",
       " 0.025228104107976282,\n",
       " 0.03867333641599874,\n",
       " -0.02297092497192887,\n",
       " -0.01372968217187168,\n",
       " 0.026622426732279273,\n",
       " 0.035007141456857196,\n",
       " -0.08064538711186721]"
      ]
     },
     "execution_count": 16,
     "metadata": {},
     "output_type": "execute_result"
    }
   ],
   "source": [
    "pct_change_new  =[]\n",
    "for i in new:\n",
    "    for j in range(len(i)-1):\n",
    "        change = ((i[j+1] - i[j])/i[j])*100\n",
    "        pct_change_new.append(change)\n",
    "        \n",
    "\n",
    "pct_change_new"
   ]
  },
  {
   "cell_type": "code",
   "execution_count": 17,
   "metadata": {},
   "outputs": [],
   "source": [
    "#entage. The percentage is how much of a prior move the price has retraced. The Fibonacci retracement levels are 23.6%, 38.2%, 61.8%, and 78.6%. While not officially a Fibonacci ratio, 50% is also used.\n",
    "#The indicator is useful because it can be drawn between any two significant price points, such as a high and a low. Th"
   ]
  },
  {
   "cell_type": "code",
   "execution_count": 18,
   "metadata": {},
   "outputs": [
    {
     "name": "stdout",
     "output_type": "stream",
     "text": [
      "[17900.7, 17891.15, 17891.95, 17875.2, 17876.25, 17894.25, 17883.45, 17890.9, 17896.1, 17901.35, 17905.6, 17894.3, 17907.9, 17909.7, 17903.6, 17912.9, 17911.65, 17894.85, 17890.8, 17890.6, 17899.5, 17888.45, 17886.2, 17883.45, 17873.6, 17866.65, 17880.6, 17872.1, 17866.75]\n",
      "[17858.5]\n",
      "[17853.9, 17862.4, 17860.9, 17840.15, 17841.95, 17824.9, 17841.95, 17834.3, 17825.05, 17836.85, 17846.6, 17859.1, 17850.55, 17845.0]\n",
      "[17852.8, 17834.1, 17838.05, 17829.45, 17826.4, 17799.95, 17812.2, 17817.15, 17813.75, 17819.3, 17837.25, 17841.75, 17848.65, 17844.55, 17842.1, 17846.85]\n",
      "[17853.5, 17859.75]\n",
      "[17855.95, 17841.55]\n",
      "[17856.1]\n",
      "[17857.55]\n",
      "[17856.0]\n",
      "[17857.45]\n"
     ]
    }
   ],
   "source": [
    "for i in new:\n",
    "    print(i)"
   ]
  },
  {
   "cell_type": "code",
   "execution_count": null,
   "metadata": {},
   "outputs": [],
   "source": []
  },
  {
   "cell_type": "code",
   "execution_count": null,
   "metadata": {},
   "outputs": [],
   "source": []
  },
  {
   "cell_type": "markdown",
   "metadata": {},
   "source": [
    "Vectors"
   ]
  },
  {
   "cell_type": "code",
   "execution_count": 1,
   "metadata": {},
   "outputs": [
    {
     "ename": "NameError",
     "evalue": "name 'sept' is not defined",
     "output_type": "error",
     "traceback": [
      "\u001b[0;31m---------------------------------------------------------------------------\u001b[0m",
      "\u001b[0;31mNameError\u001b[0m                                 Traceback (most recent call last)",
      "Cell \u001b[0;32mIn [1], line 1\u001b[0m\n\u001b[0;32m----> 1\u001b[0m sept\n\u001b[1;32m      2\u001b[0m l \u001b[39m=\u001b[39m []\n\u001b[1;32m      3\u001b[0m hi \u001b[39m=\u001b[39m np\u001b[39m.\u001b[39marray(sept[\u001b[39m'\u001b[39m\u001b[39mhigh\u001b[39m\u001b[39m'\u001b[39m])\n",
      "\u001b[0;31mNameError\u001b[0m: name 'sept' is not defined"
     ]
    }
   ],
   "source": [
    "sept\n",
    "l = []\n",
    "hi = np.array(sept['high'])\n",
    "hi\n",
    "sns.plot(hi)"
   ]
  },
  {
   "cell_type": "code",
   "execution_count": 20,
   "metadata": {},
   "outputs": [
    {
     "data": {
      "text/plain": [
       "[-0.11296882060551289,\n",
       " -0.03434785158375887,\n",
       " 0.004190201632502556,\n",
       " -0.10977868282341528,\n",
       " 0.0796979865771812,\n",
       " 0.01648574262682553,\n",
       " -0.02151174485395583,\n",
       " 0.019560339455719583,\n",
       " 0.03911302827033808,\n",
       " 0.024296450204856403,\n",
       " 0.0030712187712850668,\n",
       " -0.0022335450547997775,\n",
       " 0.03545831972237634,\n",
       " -0.024002634707805726,\n",
       " 0.016470877255656432,\n",
       " 0.03405281535839016,\n",
       " -0.03655246115254247,\n",
       " -0.09462454432281052,\n",
       " -0.022351425881274815,\n",
       " 0.04387447986384125,\n",
       " 0.0005586654599614676,\n",
       " -0.05642489622848274,\n",
       " -0.003074377578280766,\n",
       " -0.026272761574692778,\n",
       " -0.04473134632965325,\n",
       " 0.030486866873086407,\n",
       " -0.0011184431271710525,\n",
       " -0.04697513673118935,\n",
       " -0.033569438383295847,\n",
       " -0.01707019488007718,\n",
       " 0.004758079639069895,\n",
       " 0.013993686048854755,\n",
       " -0.031621305484205886,\n",
       " -0.08201746160153968,\n",
       " -0.015968712529568354,\n",
       " -0.005323754311544576,\n",
       " -0.004483400210715733,\n",
       " -0.04483601228506737,\n",
       " 0.016260344943601585,\n",
       " 0.0807278965337337,\n",
       " 0.043972417810802,\n",
       " 0.007278855763869845,\n",
       " -0.02967317516970689,\n",
       " -0.0008400561157566816,\n",
       " 0.023801789894600075,\n",
       " -0.11450135917872978,\n",
       " 0.0011211013699899527,\n",
       " -0.013172793416958402,\n",
       " -0.045410078234289,\n",
       " -0.09254403553690965,\n",
       " 0.030595890045673365,\n",
       " 0.04882620676495921,\n",
       " -0.03814438772647822,\n",
       " 0.10297303060570893,\n",
       " 0.06418683132878361,\n",
       " -0.004481792717082758,\n",
       " 0.03417520112945423,\n",
       " -0.03304341007990803,\n",
       " -0.010084372583968706,\n",
       " 0.06247338577736758,\n",
       " 0.017918387345143012,\n",
       " -0.0011196985771471065,\n",
       " -0.01819530561115232,\n",
       " -0.011199148864686283,\n",
       " 0.03584129028645846,\n",
       " -0.0019593682996724092,\n",
       " 0.032190252791454745,\n",
       " -0.037216746976476874,\n",
       " 0.03219187477080785,\n",
       " -0.06436302987563942,\n",
       " -0.008400584680693775,\n",
       " -0.08205260327987193,\n",
       " -0.09108872041368293,\n",
       " 0.054422532050387]"
      ]
     },
     "execution_count": 20,
     "metadata": {},
     "output_type": "execute_result"
    }
   ],
   "source": [
    "pct_change = []\n",
    "for i in range(len(hi)-1):\n",
    "    ch = ((hi[i+1] - hi[i])/hi[i])*100\n",
    "    pct_change.append(ch)\n",
    "pct_change"
   ]
  },
  {
   "cell_type": "code",
   "execution_count": 21,
   "metadata": {},
   "outputs": [],
   "source": [
    "arr = np.array(pct_change)\n",
    "arr\n",
    "arr1 = arr\n",
    "v1 = np.vectorize(arr)\n",
    "v2 = v1"
   ]
  },
  {
   "cell_type": "code",
   "execution_count": 22,
   "metadata": {},
   "outputs": [],
   "source": [
    "from numpy.linalg import norm\n",
    "cosine = np.dot(arr,arr1)/(norm(arr)*norm(arr1))"
   ]
  },
  {
   "cell_type": "code",
   "execution_count": 23,
   "metadata": {},
   "outputs": [
    {
     "data": {
      "text/plain": [
       "1.0000000000000002"
      ]
     },
     "execution_count": 23,
     "metadata": {},
     "output_type": "execute_result"
    }
   ],
   "source": [
    "cosine"
   ]
  },
  {
   "cell_type": "code",
   "execution_count": null,
   "metadata": {},
   "outputs": [],
   "source": []
  }
 ],
 "metadata": {
  "kernelspec": {
   "display_name": "Python 3.9.10 64-bit",
   "language": "python",
   "name": "python3"
  },
  "language_info": {
   "codemirror_mode": {
    "name": "ipython",
    "version": 3
   },
   "file_extension": ".py",
   "mimetype": "text/x-python",
   "name": "python",
   "nbconvert_exporter": "python",
   "pygments_lexer": "ipython3",
   "version": "3.9.10"
  },
  "orig_nbformat": 4,
  "vscode": {
   "interpreter": {
    "hash": "b0fa6594d8f4cbf19f97940f81e996739fb7646882a419484c72d19e05852a7e"
   }
  }
 },
 "nbformat": 4,
 "nbformat_minor": 2
}
