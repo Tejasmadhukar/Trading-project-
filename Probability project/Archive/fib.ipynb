{
 "cells": [
  {
   "cell_type": "markdown",
   "metadata": {},
   "source": [
    "<hr>\n",
    "<h1> Fibonacci Series trading </h1>"
   ]
  },
  {
   "cell_type": "code",
   "execution_count": 1,
   "metadata": {},
   "outputs": [],
   "source": [
    "import matplotlib.pyplot as m\n",
    "from scipy.stats import bernoulli\n",
    "from scipy.stats import binom\n",
    "from scipy import stats\n",
    "import numpy as np\n",
    "import pandas as pd\n",
    "import seaborn as sns\n",
    "import plotly.express as px \n",
    "import plotly.graph_objects as go"
   ]
  },
  {
   "cell_type": "code",
   "execution_count": 2,
   "metadata": {
    "scrolled": false
   },
   "outputs": [
    {
     "data": {
      "text/html": [
       "<div>\n",
       "<style scoped>\n",
       "    .dataframe tbody tr th:only-of-type {\n",
       "        vertical-align: middle;\n",
       "    }\n",
       "\n",
       "    .dataframe tbody tr th {\n",
       "        vertical-align: top;\n",
       "    }\n",
       "\n",
       "    .dataframe thead th {\n",
       "        text-align: right;\n",
       "    }\n",
       "</style>\n",
       "<table border=\"1\" class=\"dataframe\">\n",
       "  <thead>\n",
       "    <tr style=\"text-align: right;\">\n",
       "      <th></th>\n",
       "      <th>date</th>\n",
       "      <th>close</th>\n",
       "      <th>high</th>\n",
       "      <th>low</th>\n",
       "      <th>open</th>\n",
       "      <th>volume</th>\n",
       "    </tr>\n",
       "  </thead>\n",
       "  <tbody>\n",
       "    <tr>\n",
       "      <th>0</th>\n",
       "      <td>2015-01-09 09:15:00+05:30</td>\n",
       "      <td>8301.20</td>\n",
       "      <td>8301.30</td>\n",
       "      <td>8285.45</td>\n",
       "      <td>8285.45</td>\n",
       "      <td>0</td>\n",
       "    </tr>\n",
       "    <tr>\n",
       "      <th>1</th>\n",
       "      <td>2015-01-09 09:20:00+05:30</td>\n",
       "      <td>8301.00</td>\n",
       "      <td>8303.00</td>\n",
       "      <td>8293.25</td>\n",
       "      <td>8300.50</td>\n",
       "      <td>0</td>\n",
       "    </tr>\n",
       "    <tr>\n",
       "      <th>2</th>\n",
       "      <td>2015-01-09 09:25:00+05:30</td>\n",
       "      <td>8294.15</td>\n",
       "      <td>8302.55</td>\n",
       "      <td>8286.80</td>\n",
       "      <td>8301.65</td>\n",
       "      <td>0</td>\n",
       "    </tr>\n",
       "    <tr>\n",
       "      <th>3</th>\n",
       "      <td>2015-01-09 09:30:00+05:30</td>\n",
       "      <td>8288.50</td>\n",
       "      <td>8295.75</td>\n",
       "      <td>8280.65</td>\n",
       "      <td>8294.10</td>\n",
       "      <td>0</td>\n",
       "    </tr>\n",
       "    <tr>\n",
       "      <th>4</th>\n",
       "      <td>2015-01-09 09:35:00+05:30</td>\n",
       "      <td>8283.45</td>\n",
       "      <td>8290.45</td>\n",
       "      <td>8278.00</td>\n",
       "      <td>8289.10</td>\n",
       "      <td>0</td>\n",
       "    </tr>\n",
       "  </tbody>\n",
       "</table>\n",
       "</div>"
      ],
      "text/plain": [
       "                        date    close     high      low     open  volume\n",
       "0  2015-01-09 09:15:00+05:30  8301.20  8301.30  8285.45  8285.45       0\n",
       "1  2015-01-09 09:20:00+05:30  8301.00  8303.00  8293.25  8300.50       0\n",
       "2  2015-01-09 09:25:00+05:30  8294.15  8302.55  8286.80  8301.65       0\n",
       "3  2015-01-09 09:30:00+05:30  8288.50  8295.75  8280.65  8294.10       0\n",
       "4  2015-01-09 09:35:00+05:30  8283.45  8290.45  8278.00  8289.10       0"
      ]
     },
     "execution_count": 2,
     "metadata": {},
     "output_type": "execute_result"
    }
   ],
   "source": [
    "data = pd.read_csv('/Users/tejasmadhukar/Documents/Vscode/Data_s/Probability project/Data/NIFTY 50.csv')\n",
    "data.head()"
   ]
  },
  {
   "cell_type": "code",
   "execution_count": 3,
   "metadata": {},
   "outputs": [],
   "source": [
    "data['date'] = pd.to_datetime(data['date'])"
   ]
  },
  {
   "cell_type": "code",
   "execution_count": 4,
   "metadata": {},
   "outputs": [],
   "source": [
    "data = data[data['date'].dt.year==2021]"
   ]
  },
  {
   "cell_type": "code",
   "execution_count": 5,
   "metadata": {},
   "outputs": [],
   "source": [
    "data = data[data['date'].dt.month==3]"
   ]
  },
  {
   "cell_type": "code",
   "execution_count": 6,
   "metadata": {},
   "outputs": [
    {
     "data": {
      "text/html": [
       "<div>\n",
       "<style scoped>\n",
       "    .dataframe tbody tr th:only-of-type {\n",
       "        vertical-align: middle;\n",
       "    }\n",
       "\n",
       "    .dataframe tbody tr th {\n",
       "        vertical-align: top;\n",
       "    }\n",
       "\n",
       "    .dataframe thead th {\n",
       "        text-align: right;\n",
       "    }\n",
       "</style>\n",
       "<table border=\"1\" class=\"dataframe\">\n",
       "  <thead>\n",
       "    <tr style=\"text-align: right;\">\n",
       "      <th></th>\n",
       "      <th>date</th>\n",
       "      <th>close</th>\n",
       "      <th>high</th>\n",
       "      <th>low</th>\n",
       "      <th>open</th>\n",
       "      <th>volume</th>\n",
       "      <th>day</th>\n",
       "    </tr>\n",
       "  </thead>\n",
       "  <tbody>\n",
       "    <tr>\n",
       "      <th>107390</th>\n",
       "      <td>2021-03-01 09:15:00+05:30</td>\n",
       "      <td>14702.40</td>\n",
       "      <td>14708.75</td>\n",
       "      <td>14644.00</td>\n",
       "      <td>14702.50</td>\n",
       "      <td>0</td>\n",
       "      <td>1</td>\n",
       "    </tr>\n",
       "    <tr>\n",
       "      <th>107391</th>\n",
       "      <td>2021-03-01 09:20:00+05:30</td>\n",
       "      <td>14705.20</td>\n",
       "      <td>14730.15</td>\n",
       "      <td>14687.45</td>\n",
       "      <td>14703.55</td>\n",
       "      <td>0</td>\n",
       "      <td>1</td>\n",
       "    </tr>\n",
       "    <tr>\n",
       "      <th>107392</th>\n",
       "      <td>2021-03-01 09:25:00+05:30</td>\n",
       "      <td>14680.80</td>\n",
       "      <td>14713.60</td>\n",
       "      <td>14662.15</td>\n",
       "      <td>14705.25</td>\n",
       "      <td>0</td>\n",
       "      <td>1</td>\n",
       "    </tr>\n",
       "    <tr>\n",
       "      <th>107393</th>\n",
       "      <td>2021-03-01 09:30:00+05:30</td>\n",
       "      <td>14672.45</td>\n",
       "      <td>14683.40</td>\n",
       "      <td>14647.45</td>\n",
       "      <td>14679.85</td>\n",
       "      <td>0</td>\n",
       "      <td>1</td>\n",
       "    </tr>\n",
       "    <tr>\n",
       "      <th>107394</th>\n",
       "      <td>2021-03-01 09:35:00+05:30</td>\n",
       "      <td>14733.90</td>\n",
       "      <td>14734.95</td>\n",
       "      <td>14671.60</td>\n",
       "      <td>14672.10</td>\n",
       "      <td>0</td>\n",
       "      <td>1</td>\n",
       "    </tr>\n",
       "    <tr>\n",
       "      <th>...</th>\n",
       "      <td>...</td>\n",
       "      <td>...</td>\n",
       "      <td>...</td>\n",
       "      <td>...</td>\n",
       "      <td>...</td>\n",
       "      <td>...</td>\n",
       "      <td>...</td>\n",
       "    </tr>\n",
       "    <tr>\n",
       "      <th>108960</th>\n",
       "      <td>2021-03-31 15:05:00+05:30</td>\n",
       "      <td>14700.35</td>\n",
       "      <td>14703.95</td>\n",
       "      <td>14674.25</td>\n",
       "      <td>14681.70</td>\n",
       "      <td>0</td>\n",
       "      <td>31</td>\n",
       "    </tr>\n",
       "    <tr>\n",
       "      <th>108961</th>\n",
       "      <td>2021-03-31 15:10:00+05:30</td>\n",
       "      <td>14694.30</td>\n",
       "      <td>14706.15</td>\n",
       "      <td>14686.90</td>\n",
       "      <td>14700.05</td>\n",
       "      <td>0</td>\n",
       "      <td>31</td>\n",
       "    </tr>\n",
       "    <tr>\n",
       "      <th>108962</th>\n",
       "      <td>2021-03-31 15:15:00+05:30</td>\n",
       "      <td>14686.70</td>\n",
       "      <td>14696.95</td>\n",
       "      <td>14686.55</td>\n",
       "      <td>14693.40</td>\n",
       "      <td>0</td>\n",
       "      <td>31</td>\n",
       "    </tr>\n",
       "    <tr>\n",
       "      <th>108963</th>\n",
       "      <td>2021-03-31 15:20:00+05:30</td>\n",
       "      <td>14687.75</td>\n",
       "      <td>14699.90</td>\n",
       "      <td>14676.05</td>\n",
       "      <td>14686.90</td>\n",
       "      <td>0</td>\n",
       "      <td>31</td>\n",
       "    </tr>\n",
       "    <tr>\n",
       "      <th>108964</th>\n",
       "      <td>2021-03-31 15:25:00+05:30</td>\n",
       "      <td>14693.05</td>\n",
       "      <td>14697.15</td>\n",
       "      <td>14686.05</td>\n",
       "      <td>14687.25</td>\n",
       "      <td>0</td>\n",
       "      <td>31</td>\n",
       "    </tr>\n",
       "  </tbody>\n",
       "</table>\n",
       "<p>1575 rows × 7 columns</p>\n",
       "</div>"
      ],
      "text/plain": [
       "                            date     close      high       low      open  \\\n",
       "107390 2021-03-01 09:15:00+05:30  14702.40  14708.75  14644.00  14702.50   \n",
       "107391 2021-03-01 09:20:00+05:30  14705.20  14730.15  14687.45  14703.55   \n",
       "107392 2021-03-01 09:25:00+05:30  14680.80  14713.60  14662.15  14705.25   \n",
       "107393 2021-03-01 09:30:00+05:30  14672.45  14683.40  14647.45  14679.85   \n",
       "107394 2021-03-01 09:35:00+05:30  14733.90  14734.95  14671.60  14672.10   \n",
       "...                          ...       ...       ...       ...       ...   \n",
       "108960 2021-03-31 15:05:00+05:30  14700.35  14703.95  14674.25  14681.70   \n",
       "108961 2021-03-31 15:10:00+05:30  14694.30  14706.15  14686.90  14700.05   \n",
       "108962 2021-03-31 15:15:00+05:30  14686.70  14696.95  14686.55  14693.40   \n",
       "108963 2021-03-31 15:20:00+05:30  14687.75  14699.90  14676.05  14686.90   \n",
       "108964 2021-03-31 15:25:00+05:30  14693.05  14697.15  14686.05  14687.25   \n",
       "\n",
       "        volume  day  \n",
       "107390       0    1  \n",
       "107391       0    1  \n",
       "107392       0    1  \n",
       "107393       0    1  \n",
       "107394       0    1  \n",
       "...        ...  ...  \n",
       "108960       0   31  \n",
       "108961       0   31  \n",
       "108962       0   31  \n",
       "108963       0   31  \n",
       "108964       0   31  \n",
       "\n",
       "[1575 rows x 7 columns]"
      ]
     },
     "execution_count": 6,
     "metadata": {},
     "output_type": "execute_result"
    }
   ],
   "source": [
    "data['day'] = data['date'].dt.day\n",
    "data"
   ]
  },
  {
   "cell_type": "code",
   "execution_count": 7,
   "metadata": {},
   "outputs": [
    {
     "data": {
      "text/html": [
       "<div>\n",
       "<style scoped>\n",
       "    .dataframe tbody tr th:only-of-type {\n",
       "        vertical-align: middle;\n",
       "    }\n",
       "\n",
       "    .dataframe tbody tr th {\n",
       "        vertical-align: top;\n",
       "    }\n",
       "\n",
       "    .dataframe thead th {\n",
       "        text-align: right;\n",
       "    }\n",
       "</style>\n",
       "<table border=\"1\" class=\"dataframe\">\n",
       "  <thead>\n",
       "    <tr style=\"text-align: right;\">\n",
       "      <th></th>\n",
       "      <th>date</th>\n",
       "      <th>close</th>\n",
       "      <th>high</th>\n",
       "      <th>low</th>\n",
       "      <th>open</th>\n",
       "      <th>volume</th>\n",
       "      <th>day</th>\n",
       "    </tr>\n",
       "  </thead>\n",
       "  <tbody>\n",
       "    <tr>\n",
       "      <th>107390</th>\n",
       "      <td>2021-03-01 09:15:00+05:30</td>\n",
       "      <td>14702.40</td>\n",
       "      <td>14708.75</td>\n",
       "      <td>14644.00</td>\n",
       "      <td>14702.50</td>\n",
       "      <td>0</td>\n",
       "      <td>1</td>\n",
       "    </tr>\n",
       "    <tr>\n",
       "      <th>107391</th>\n",
       "      <td>2021-03-01 09:20:00+05:30</td>\n",
       "      <td>14705.20</td>\n",
       "      <td>14730.15</td>\n",
       "      <td>14687.45</td>\n",
       "      <td>14703.55</td>\n",
       "      <td>0</td>\n",
       "      <td>1</td>\n",
       "    </tr>\n",
       "    <tr>\n",
       "      <th>107392</th>\n",
       "      <td>2021-03-01 09:25:00+05:30</td>\n",
       "      <td>14680.80</td>\n",
       "      <td>14713.60</td>\n",
       "      <td>14662.15</td>\n",
       "      <td>14705.25</td>\n",
       "      <td>0</td>\n",
       "      <td>1</td>\n",
       "    </tr>\n",
       "    <tr>\n",
       "      <th>107393</th>\n",
       "      <td>2021-03-01 09:30:00+05:30</td>\n",
       "      <td>14672.45</td>\n",
       "      <td>14683.40</td>\n",
       "      <td>14647.45</td>\n",
       "      <td>14679.85</td>\n",
       "      <td>0</td>\n",
       "      <td>1</td>\n",
       "    </tr>\n",
       "    <tr>\n",
       "      <th>107394</th>\n",
       "      <td>2021-03-01 09:35:00+05:30</td>\n",
       "      <td>14733.90</td>\n",
       "      <td>14734.95</td>\n",
       "      <td>14671.60</td>\n",
       "      <td>14672.10</td>\n",
       "      <td>0</td>\n",
       "      <td>1</td>\n",
       "    </tr>\n",
       "  </tbody>\n",
       "</table>\n",
       "</div>"
      ],
      "text/plain": [
       "                            date     close      high       low      open  \\\n",
       "107390 2021-03-01 09:15:00+05:30  14702.40  14708.75  14644.00  14702.50   \n",
       "107391 2021-03-01 09:20:00+05:30  14705.20  14730.15  14687.45  14703.55   \n",
       "107392 2021-03-01 09:25:00+05:30  14680.80  14713.60  14662.15  14705.25   \n",
       "107393 2021-03-01 09:30:00+05:30  14672.45  14683.40  14647.45  14679.85   \n",
       "107394 2021-03-01 09:35:00+05:30  14733.90  14734.95  14671.60  14672.10   \n",
       "\n",
       "        volume  day  \n",
       "107390       0    1  \n",
       "107391       0    1  \n",
       "107392       0    1  \n",
       "107393       0    1  \n",
       "107394       0    1  "
      ]
     },
     "execution_count": 7,
     "metadata": {},
     "output_type": "execute_result"
    }
   ],
   "source": [
    "u1,u2,u3,d1,d2,d3 = 0,0,0,0,0,0\n",
    "\n",
    "for i in range(data['day'].count()-1):\n",
    "    if data['day'].values[i]!=data['day'].values[i+1]:\n",
    "        df1 = data.iloc[:i+1]\n",
    "        break\n",
    "        # df1 = data.iloc[(i+1)-12:i+1]\n",
    "        # if(i>20):\n",
    "        #     break\n",
    "        \n",
    "\n",
    "\n",
    "df1.head()"
   ]
  },
  {
   "cell_type": "code",
   "execution_count": 8,
   "metadata": {},
   "outputs": [
    {
     "data": {
      "text/html": [
       "<div>\n",
       "<style scoped>\n",
       "    .dataframe tbody tr th:only-of-type {\n",
       "        vertical-align: middle;\n",
       "    }\n",
       "\n",
       "    .dataframe tbody tr th {\n",
       "        vertical-align: top;\n",
       "    }\n",
       "\n",
       "    .dataframe thead th {\n",
       "        text-align: right;\n",
       "    }\n",
       "</style>\n",
       "<table border=\"1\" class=\"dataframe\">\n",
       "  <thead>\n",
       "    <tr style=\"text-align: right;\">\n",
       "      <th></th>\n",
       "      <th>date</th>\n",
       "      <th>close</th>\n",
       "      <th>high</th>\n",
       "      <th>low</th>\n",
       "      <th>open</th>\n",
       "      <th>volume</th>\n",
       "      <th>day</th>\n",
       "    </tr>\n",
       "  </thead>\n",
       "  <tbody>\n",
       "    <tr>\n",
       "      <th>107390</th>\n",
       "      <td>2021-03-01 09:15:00+05:30</td>\n",
       "      <td>14702.40</td>\n",
       "      <td>14708.75</td>\n",
       "      <td>14644.00</td>\n",
       "      <td>14702.50</td>\n",
       "      <td>0</td>\n",
       "      <td>1</td>\n",
       "    </tr>\n",
       "    <tr>\n",
       "      <th>107391</th>\n",
       "      <td>2021-03-01 09:20:00+05:30</td>\n",
       "      <td>14705.20</td>\n",
       "      <td>14730.15</td>\n",
       "      <td>14687.45</td>\n",
       "      <td>14703.55</td>\n",
       "      <td>0</td>\n",
       "      <td>1</td>\n",
       "    </tr>\n",
       "    <tr>\n",
       "      <th>107392</th>\n",
       "      <td>2021-03-01 09:25:00+05:30</td>\n",
       "      <td>14680.80</td>\n",
       "      <td>14713.60</td>\n",
       "      <td>14662.15</td>\n",
       "      <td>14705.25</td>\n",
       "      <td>0</td>\n",
       "      <td>1</td>\n",
       "    </tr>\n",
       "    <tr>\n",
       "      <th>107393</th>\n",
       "      <td>2021-03-01 09:30:00+05:30</td>\n",
       "      <td>14672.45</td>\n",
       "      <td>14683.40</td>\n",
       "      <td>14647.45</td>\n",
       "      <td>14679.85</td>\n",
       "      <td>0</td>\n",
       "      <td>1</td>\n",
       "    </tr>\n",
       "    <tr>\n",
       "      <th>107394</th>\n",
       "      <td>2021-03-01 09:35:00+05:30</td>\n",
       "      <td>14733.90</td>\n",
       "      <td>14734.95</td>\n",
       "      <td>14671.60</td>\n",
       "      <td>14672.10</td>\n",
       "      <td>0</td>\n",
       "      <td>1</td>\n",
       "    </tr>\n",
       "    <tr>\n",
       "      <th>...</th>\n",
       "      <td>...</td>\n",
       "      <td>...</td>\n",
       "      <td>...</td>\n",
       "      <td>...</td>\n",
       "      <td>...</td>\n",
       "      <td>...</td>\n",
       "      <td>...</td>\n",
       "    </tr>\n",
       "    <tr>\n",
       "      <th>107460</th>\n",
       "      <td>2021-03-01 15:05:00+05:30</td>\n",
       "      <td>14744.55</td>\n",
       "      <td>14749.55</td>\n",
       "      <td>14729.10</td>\n",
       "      <td>14734.05</td>\n",
       "      <td>0</td>\n",
       "      <td>1</td>\n",
       "    </tr>\n",
       "    <tr>\n",
       "      <th>107461</th>\n",
       "      <td>2021-03-01 15:10:00+05:30</td>\n",
       "      <td>14760.80</td>\n",
       "      <td>14765.50</td>\n",
       "      <td>14741.55</td>\n",
       "      <td>14744.55</td>\n",
       "      <td>0</td>\n",
       "      <td>1</td>\n",
       "    </tr>\n",
       "    <tr>\n",
       "      <th>107462</th>\n",
       "      <td>2021-03-01 15:15:00+05:30</td>\n",
       "      <td>14783.50</td>\n",
       "      <td>14783.50</td>\n",
       "      <td>14759.00</td>\n",
       "      <td>14761.25</td>\n",
       "      <td>0</td>\n",
       "      <td>1</td>\n",
       "    </tr>\n",
       "    <tr>\n",
       "      <th>107463</th>\n",
       "      <td>2021-03-01 15:20:00+05:30</td>\n",
       "      <td>14776.35</td>\n",
       "      <td>14786.00</td>\n",
       "      <td>14762.95</td>\n",
       "      <td>14784.55</td>\n",
       "      <td>0</td>\n",
       "      <td>1</td>\n",
       "    </tr>\n",
       "    <tr>\n",
       "      <th>107464</th>\n",
       "      <td>2021-03-01 15:25:00+05:30</td>\n",
       "      <td>14784.15</td>\n",
       "      <td>14789.10</td>\n",
       "      <td>14777.05</td>\n",
       "      <td>14777.05</td>\n",
       "      <td>0</td>\n",
       "      <td>1</td>\n",
       "    </tr>\n",
       "  </tbody>\n",
       "</table>\n",
       "<p>75 rows × 7 columns</p>\n",
       "</div>"
      ],
      "text/plain": [
       "                            date     close      high       low      open  \\\n",
       "107390 2021-03-01 09:15:00+05:30  14702.40  14708.75  14644.00  14702.50   \n",
       "107391 2021-03-01 09:20:00+05:30  14705.20  14730.15  14687.45  14703.55   \n",
       "107392 2021-03-01 09:25:00+05:30  14680.80  14713.60  14662.15  14705.25   \n",
       "107393 2021-03-01 09:30:00+05:30  14672.45  14683.40  14647.45  14679.85   \n",
       "107394 2021-03-01 09:35:00+05:30  14733.90  14734.95  14671.60  14672.10   \n",
       "...                          ...       ...       ...       ...       ...   \n",
       "107460 2021-03-01 15:05:00+05:30  14744.55  14749.55  14729.10  14734.05   \n",
       "107461 2021-03-01 15:10:00+05:30  14760.80  14765.50  14741.55  14744.55   \n",
       "107462 2021-03-01 15:15:00+05:30  14783.50  14783.50  14759.00  14761.25   \n",
       "107463 2021-03-01 15:20:00+05:30  14776.35  14786.00  14762.95  14784.55   \n",
       "107464 2021-03-01 15:25:00+05:30  14784.15  14789.10  14777.05  14777.05   \n",
       "\n",
       "        volume  day  \n",
       "107390       0    1  \n",
       "107391       0    1  \n",
       "107392       0    1  \n",
       "107393       0    1  \n",
       "107394       0    1  \n",
       "...        ...  ...  \n",
       "107460       0    1  \n",
       "107461       0    1  \n",
       "107462       0    1  \n",
       "107463       0    1  \n",
       "107464       0    1  \n",
       "\n",
       "[75 rows x 7 columns]"
      ]
     },
     "execution_count": 8,
     "metadata": {},
     "output_type": "execute_result"
    }
   ],
   "source": [
    "df1"
   ]
  },
  {
   "cell_type": "code",
   "execution_count": 9,
   "metadata": {},
   "outputs": [],
   "source": [
    "max_pt = max(df1['high'])\n",
    "min_pt = min(df1['low'])\n",
    "mean_point = (max_pt + min_pt)/2\n",
    "upper_bound = mean_point + 5\n",
    "lower_bound = mean_point - 5"
   ]
  },
  {
   "cell_type": "code",
   "execution_count": 10,
   "metadata": {},
   "outputs": [
    {
     "data": {
      "text/plain": [
       "14638.9"
      ]
     },
     "execution_count": 10,
     "metadata": {},
     "output_type": "execute_result"
    }
   ],
   "source": [
    "min_pt"
   ]
  },
  {
   "cell_type": "code",
   "execution_count": 11,
   "metadata": {},
   "outputs": [
    {
     "data": {
      "text/plain": [
       "14806.65"
      ]
     },
     "execution_count": 11,
     "metadata": {},
     "output_type": "execute_result"
    }
   ],
   "source": [
    "max_pt"
   ]
  },
  {
   "cell_type": "code",
   "execution_count": 12,
   "metadata": {},
   "outputs": [
    {
     "data": {
      "text/plain": [
       "[14702.4,\n",
       " 14705.2,\n",
       " 14680.8,\n",
       " 14672.45,\n",
       " 14733.9,\n",
       " 14740.45,\n",
       " 14757.8,\n",
       " 14755.35,\n",
       " 14739.15,\n",
       " 14746.5,\n",
       " 14734.5,\n",
       " 14736.55,\n",
       " 14752.25,\n",
       " 14770.2,\n",
       " 14785.0,\n",
       " 14787.85,\n",
       " 14794.45,\n",
       " 14799.95,\n",
       " 14786.45,\n",
       " 14780.65,\n",
       " 14792.85,\n",
       " 14786.5,\n",
       " 14788.45,\n",
       " 14786.75,\n",
       " 14777.2,\n",
       " 14748.05,\n",
       " 14741.15,\n",
       " 14735.95,\n",
       " 14730.95,\n",
       " 14694.2,\n",
       " 14697.3,\n",
       " 14701.45,\n",
       " 14690.15,\n",
       " 14683.7,\n",
       " 14691.4,\n",
       " 14708.65,\n",
       " 14695.2,\n",
       " 14662.55,\n",
       " 14644.3,\n",
       " 14647.2,\n",
       " 14650.5,\n",
       " 14659.85,\n",
       " 14688.15,\n",
       " 14695.95,\n",
       " 14693.15,\n",
       " 14718.6,\n",
       " 14731.3,\n",
       " 14727.65,\n",
       " 14716.75,\n",
       " 14720.75,\n",
       " 14736.05,\n",
       " 14751.95,\n",
       " 14763.75,\n",
       " 14758.85,\n",
       " 14747.65,\n",
       " 14748.6,\n",
       " 14723.05,\n",
       " 14758.8,\n",
       " 14756.2,\n",
       " 14750.45,\n",
       " 14749.0,\n",
       " 14734.4,\n",
       " 14728.65,\n",
       " 14750.6,\n",
       " 14761.4,\n",
       " 14760.35,\n",
       " 14736.0,\n",
       " 14705.8,\n",
       " 14726.0,\n",
       " 14733.25,\n",
       " 14744.55,\n",
       " 14760.8,\n",
       " 14783.5,\n",
       " 14776.35,\n",
       " 14784.15]"
      ]
     },
     "execution_count": 12,
     "metadata": {},
     "output_type": "execute_result"
    }
   ],
   "source": [
    "close1 = list(df1['close'])\n",
    "\n",
    "close1"
   ]
  },
  {
   "cell_type": "markdown",
   "metadata": {},
   "source": [
    "<h4> Upper cases</h4>"
   ]
  },
  {
   "cell_type": "code",
   "execution_count": 13,
   "metadata": {
    "scrolled": true
   },
   "outputs": [
    {
     "data": {
      "text/plain": [
       "14727.775"
      ]
     },
     "execution_count": 13,
     "metadata": {},
     "output_type": "execute_result"
    }
   ],
   "source": [
    "upper_bound"
   ]
  },
  {
   "cell_type": "code",
   "execution_count": 14,
   "metadata": {},
   "outputs": [
    {
     "data": {
      "text/plain": [
       "14717.775"
      ]
     },
     "execution_count": 14,
     "metadata": {},
     "output_type": "execute_result"
    }
   ],
   "source": [
    "lower_bound"
   ]
  },
  {
   "cell_type": "code",
   "execution_count": 15,
   "metadata": {},
   "outputs": [
    {
     "data": {
      "text/plain": [
       "[[14718.6, 14731.3, 14727.65],\n",
       " [14727.65, 14716.75, 14720.75],\n",
       " [14720.75, 14736.05, 14751.95],\n",
       " [14723.05, 14758.8, 14756.2],\n",
       " [14726.0, 14733.25, 14744.55]]"
      ]
     },
     "execution_count": 15,
     "metadata": {},
     "output_type": "execute_result"
    }
   ],
   "source": [
    "\n",
    "check = []\n",
    "for i in (range(len(close1)-2)):\n",
    "    if (close1[i] <= upper_bound) and (close1[i] >= lower_bound):\n",
    "        temp = [close1[i],close1[i+1],close1[i+2]]\n",
    "        check.append(temp)\n",
    "        \n",
    "check"
   ]
  },
  {
   "cell_type": "code",
   "execution_count": 16,
   "metadata": {},
   "outputs": [
    {
     "data": {
      "text/plain": [
       "5"
      ]
     },
     "execution_count": 16,
     "metadata": {},
     "output_type": "execute_result"
    }
   ],
   "source": [
    "len(check)\n"
   ]
  },
  {
   "cell_type": "code",
   "execution_count": 17,
   "metadata": {},
   "outputs": [],
   "source": [
    "for i in check:\n",
    "    for j in i:\n",
    "        if (check.index(i)==len(check)-1):\n",
    "            break\n",
    "        if j in check[check.index(i)+1]:\n",
    "            i += check[check.index(i)+1]\n",
    "            check.pop(check.index(i)+1)"
   ]
  },
  {
   "cell_type": "code",
   "execution_count": 18,
   "metadata": {},
   "outputs": [
    {
     "data": {
      "text/plain": [
       "[[14718.6,\n",
       "  14731.3,\n",
       "  14727.65,\n",
       "  14727.65,\n",
       "  14716.75,\n",
       "  14720.75,\n",
       "  14720.75,\n",
       "  14736.05,\n",
       "  14751.95],\n",
       " [14723.05, 14758.8, 14756.2],\n",
       " [14726.0, 14733.25, 14744.55]]"
      ]
     },
     "execution_count": 18,
     "metadata": {},
     "output_type": "execute_result"
    }
   ],
   "source": [
    "check"
   ]
  },
  {
   "cell_type": "code",
   "execution_count": 19,
   "metadata": {},
   "outputs": [
    {
     "data": {
      "text/plain": [
       "[[], [], []]"
      ]
     },
     "execution_count": 19,
     "metadata": {},
     "output_type": "execute_result"
    }
   ],
   "source": [
    "checkn = []\n",
    "outside = []\n",
    "for i in range(len(check)):\n",
    "    emp = []\n",
    "    checkn.append(emp)\n",
    "\n",
    "for i in range(len(check)):\n",
    "    emp = []\n",
    "    outside.append(emp)\n",
    "    \n",
    "checkn"
   ]
  },
  {
   "cell_type": "code",
   "execution_count": 20,
   "metadata": {},
   "outputs": [],
   "source": [
    "for i in range(len(check)):\n",
    "    for x in check[i]:\n",
    "        if x not in checkn[i]:\n",
    "            checkn[i].append(x)\n",
    "            "
   ]
  },
  {
   "cell_type": "code",
   "execution_count": 21,
   "metadata": {
    "scrolled": false
   },
   "outputs": [
    {
     "data": {
      "text/plain": [
       "[[14718.6, 14731.3, 14727.65, 14716.75, 14720.75, 14736.05, 14751.95],\n",
       " [14723.05, 14758.8, 14756.2],\n",
       " [14726.0, 14733.25, 14744.55]]"
      ]
     },
     "execution_count": 21,
     "metadata": {},
     "output_type": "execute_result"
    }
   ],
   "source": [
    "checkn"
   ]
  },
  {
   "cell_type": "code",
   "execution_count": 36,
   "metadata": {},
   "outputs": [
    {
     "data": {
      "text/plain": [
       "14751.95"
      ]
     },
     "execution_count": 36,
     "metadata": {},
     "output_type": "execute_result"
    }
   ],
   "source": [
    "checkn[0][-1]"
   ]
  },
  {
   "cell_type": "code",
   "execution_count": 22,
   "metadata": {},
   "outputs": [],
   "source": [
    "for i in range(len(checkn)):\n",
    "    for j in range(len(checkn[i])-2):\n",
    "        if(checkn[i][j]>upper_bound)or(checkn[i][j]<lower_bound):\n",
    "            outside[i].append(checkn[i][j])"
   ]
  },
  {
   "cell_type": "code",
   "execution_count": 23,
   "metadata": {},
   "outputs": [
    {
     "data": {
      "text/plain": [
       "[[14731.3, 14716.75], [], []]"
      ]
     },
     "execution_count": 23,
     "metadata": {},
     "output_type": "execute_result"
    }
   ],
   "source": [
    "outside"
   ]
  },
  {
   "cell_type": "code",
   "execution_count": 24,
   "metadata": {},
   "outputs": [
    {
     "data": {
      "text/plain": [
       "14727.775"
      ]
     },
     "execution_count": 24,
     "metadata": {},
     "output_type": "execute_result"
    }
   ],
   "source": [
    "upper_bound"
   ]
  },
  {
   "cell_type": "code",
   "execution_count": 25,
   "metadata": {
    "scrolled": true
   },
   "outputs": [
    {
     "data": {
      "text/plain": [
       "14717.775"
      ]
     },
     "execution_count": 25,
     "metadata": {},
     "output_type": "execute_result"
    }
   ],
   "source": [
    "lower_bound"
   ]
  },
  {
   "cell_type": "code",
   "execution_count": 26,
   "metadata": {},
   "outputs": [],
   "source": [
    "# u2 and d2\n",
    "#u3 and d3\n",
    "u3 = 0\n",
    "d3 = 0\n",
    "u2 =0\n",
    "d2 = 0\n",
    "s = 0\n",
    "\n",
    "for i in range(len(checkn)):\n",
    "    if(len(outside[i])==1)and(checkn[i][-1]>upper_bound):\n",
    "        u3 += 1\n",
    "    if(len(outside[i])==1)and(checkn[i][-1]<lower_bound):\n",
    "        d3 += 1\n",
    "    for j in checkn[i]:\n",
    "        if((j>upper_bound)and(len(checkn[i])==3)):\n",
    "            u2 += 1\n",
    "            break\n",
    "        if((j<lower_bound)and(len(checkn[i])==3)):\n",
    "            d2 += 1\n",
    "            break\n",
    "\n",
    "s = len(checkn)-(u2+d2+u3+d3)\n",
    "    \n",
    "            \n"
   ]
  },
  {
   "cell_type": "code",
   "execution_count": 27,
   "metadata": {},
   "outputs": [
    {
     "data": {
      "text/plain": [
       "3"
      ]
     },
     "execution_count": 27,
     "metadata": {},
     "output_type": "execute_result"
    }
   ],
   "source": [
    "len(checkn)"
   ]
  },
  {
   "cell_type": "code",
   "execution_count": 28,
   "metadata": {},
   "outputs": [
    {
     "data": {
      "text/plain": [
       "2"
      ]
     },
     "execution_count": 28,
     "metadata": {},
     "output_type": "execute_result"
    }
   ],
   "source": [
    "u2"
   ]
  },
  {
   "cell_type": "code",
   "execution_count": 29,
   "metadata": {},
   "outputs": [
    {
     "data": {
      "text/plain": [
       "0"
      ]
     },
     "execution_count": 29,
     "metadata": {},
     "output_type": "execute_result"
    }
   ],
   "source": [
    "d2"
   ]
  },
  {
   "cell_type": "code",
   "execution_count": 30,
   "metadata": {
    "scrolled": true
   },
   "outputs": [
    {
     "data": {
      "text/plain": [
       "1"
      ]
     },
     "execution_count": 30,
     "metadata": {},
     "output_type": "execute_result"
    }
   ],
   "source": [
    "s"
   ]
  },
  {
   "cell_type": "code",
   "execution_count": 31,
   "metadata": {},
   "outputs": [
    {
     "data": {
      "text/plain": [
       "0"
      ]
     },
     "execution_count": 31,
     "metadata": {},
     "output_type": "execute_result"
    }
   ],
   "source": [
    "u3"
   ]
  },
  {
   "cell_type": "code",
   "execution_count": 32,
   "metadata": {},
   "outputs": [
    {
     "data": {
      "text/plain": [
       "0"
      ]
     },
     "execution_count": 32,
     "metadata": {},
     "output_type": "execute_result"
    }
   ],
   "source": [
    "d3"
   ]
  },
  {
   "cell_type": "code",
   "execution_count": null,
   "metadata": {},
   "outputs": [],
   "source": []
  },
  {
   "cell_type": "code",
   "execution_count": null,
   "metadata": {},
   "outputs": [],
   "source": []
  }
 ],
 "metadata": {
  "kernelspec": {
   "display_name": "Python 3 (ipykernel)",
   "language": "python",
   "name": "python3"
  },
  "language_info": {
   "codemirror_mode": {
    "name": "ipython",
    "version": 3
   },
   "file_extension": ".py",
   "mimetype": "text/x-python",
   "name": "python",
   "nbconvert_exporter": "python",
   "pygments_lexer": "ipython3",
   "version": "3.9.13"
  },
  "vscode": {
   "interpreter": {
    "hash": "b0fa6594d8f4cbf19f97940f81e996739fb7646882a419484c72d19e05852a7e"
   }
  }
 },
 "nbformat": 4,
 "nbformat_minor": 2
}
