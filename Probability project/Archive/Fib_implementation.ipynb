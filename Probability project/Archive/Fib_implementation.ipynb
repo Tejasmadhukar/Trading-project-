{
 "cells": [
  {
   "cell_type": "code",
   "execution_count": 1,
   "id": "9a2becb8",
   "metadata": {},
   "outputs": [],
   "source": [
    "import matplotlib.pyplot as m\n",
    "from scipy.stats import bernoulli\n",
    "from scipy.stats import binom\n",
    "from scipy import stats\n",
    "import numpy as np\n",
    "import pandas as pd\n",
    "import seaborn as sns\n",
    "import plotly.express as px \n",
    "import plotly.graph_objects as go"
   ]
  },
  {
   "cell_type": "code",
   "execution_count": 2,
   "id": "c74fec1d",
   "metadata": {
    "scrolled": true
   },
   "outputs": [
    {
     "data": {
      "text/html": [
       "<div>\n",
       "<style scoped>\n",
       "    .dataframe tbody tr th:only-of-type {\n",
       "        vertical-align: middle;\n",
       "    }\n",
       "\n",
       "    .dataframe tbody tr th {\n",
       "        vertical-align: top;\n",
       "    }\n",
       "\n",
       "    .dataframe thead th {\n",
       "        text-align: right;\n",
       "    }\n",
       "</style>\n",
       "<table border=\"1\" class=\"dataframe\">\n",
       "  <thead>\n",
       "    <tr style=\"text-align: right;\">\n",
       "      <th></th>\n",
       "      <th>date</th>\n",
       "      <th>close</th>\n",
       "      <th>high</th>\n",
       "      <th>low</th>\n",
       "      <th>open</th>\n",
       "      <th>volume</th>\n",
       "      <th>day</th>\n",
       "    </tr>\n",
       "  </thead>\n",
       "  <tbody>\n",
       "    <tr>\n",
       "      <th>17514</th>\n",
       "      <td>2021-01-11 09:15:00+05:30</td>\n",
       "      <td>14460.90</td>\n",
       "      <td>14474.05</td>\n",
       "      <td>14404.90</td>\n",
       "      <td>14474.05</td>\n",
       "      <td>0</td>\n",
       "      <td>11</td>\n",
       "    </tr>\n",
       "    <tr>\n",
       "      <th>17515</th>\n",
       "      <td>2021-01-11 09:45:00+05:30</td>\n",
       "      <td>14444.40</td>\n",
       "      <td>14478.95</td>\n",
       "      <td>14435.95</td>\n",
       "      <td>14460.95</td>\n",
       "      <td>0</td>\n",
       "      <td>11</td>\n",
       "    </tr>\n",
       "    <tr>\n",
       "      <th>17516</th>\n",
       "      <td>2021-01-11 10:15:00+05:30</td>\n",
       "      <td>14426.55</td>\n",
       "      <td>14445.10</td>\n",
       "      <td>14384.10</td>\n",
       "      <td>14445.10</td>\n",
       "      <td>0</td>\n",
       "      <td>11</td>\n",
       "    </tr>\n",
       "    <tr>\n",
       "      <th>17517</th>\n",
       "      <td>2021-01-11 10:45:00+05:30</td>\n",
       "      <td>14443.00</td>\n",
       "      <td>14455.00</td>\n",
       "      <td>14419.50</td>\n",
       "      <td>14426.50</td>\n",
       "      <td>0</td>\n",
       "      <td>11</td>\n",
       "    </tr>\n",
       "    <tr>\n",
       "      <th>17518</th>\n",
       "      <td>2021-01-11 11:15:00+05:30</td>\n",
       "      <td>14411.60</td>\n",
       "      <td>14443.55</td>\n",
       "      <td>14406.85</td>\n",
       "      <td>14443.00</td>\n",
       "      <td>0</td>\n",
       "      <td>11</td>\n",
       "    </tr>\n",
       "    <tr>\n",
       "      <th>...</th>\n",
       "      <td>...</td>\n",
       "      <td>...</td>\n",
       "      <td>...</td>\n",
       "      <td>...</td>\n",
       "      <td>...</td>\n",
       "      <td>...</td>\n",
       "      <td>...</td>\n",
       "    </tr>\n",
       "    <tr>\n",
       "      <th>20454</th>\n",
       "      <td>2021-12-31 13:15:00+05:30</td>\n",
       "      <td>17376.95</td>\n",
       "      <td>17400.55</td>\n",
       "      <td>17375.75</td>\n",
       "      <td>17396.85</td>\n",
       "      <td>0</td>\n",
       "      <td>31</td>\n",
       "    </tr>\n",
       "    <tr>\n",
       "      <th>20455</th>\n",
       "      <td>2021-12-31 13:45:00+05:30</td>\n",
       "      <td>17353.95</td>\n",
       "      <td>17389.35</td>\n",
       "      <td>17342.85</td>\n",
       "      <td>17376.90</td>\n",
       "      <td>0</td>\n",
       "      <td>31</td>\n",
       "    </tr>\n",
       "    <tr>\n",
       "      <th>20456</th>\n",
       "      <td>2021-12-31 14:15:00+05:30</td>\n",
       "      <td>17368.90</td>\n",
       "      <td>17371.20</td>\n",
       "      <td>17343.30</td>\n",
       "      <td>17354.30</td>\n",
       "      <td>0</td>\n",
       "      <td>31</td>\n",
       "    </tr>\n",
       "    <tr>\n",
       "      <th>20457</th>\n",
       "      <td>2021-12-31 14:45:00+05:30</td>\n",
       "      <td>17351.45</td>\n",
       "      <td>17377.25</td>\n",
       "      <td>17341.85</td>\n",
       "      <td>17368.75</td>\n",
       "      <td>0</td>\n",
       "      <td>31</td>\n",
       "    </tr>\n",
       "    <tr>\n",
       "      <th>20458</th>\n",
       "      <td>2021-12-31 15:15:00+05:30</td>\n",
       "      <td>17364.25</td>\n",
       "      <td>17365.45</td>\n",
       "      <td>17350.10</td>\n",
       "      <td>17351.40</td>\n",
       "      <td>0</td>\n",
       "      <td>31</td>\n",
       "    </tr>\n",
       "  </tbody>\n",
       "</table>\n",
       "<p>2945 rows × 7 columns</p>\n",
       "</div>"
      ],
      "text/plain": [
       "                           date     close      high       low      open  \\\n",
       "17514 2021-01-11 09:15:00+05:30  14460.90  14474.05  14404.90  14474.05   \n",
       "17515 2021-01-11 09:45:00+05:30  14444.40  14478.95  14435.95  14460.95   \n",
       "17516 2021-01-11 10:15:00+05:30  14426.55  14445.10  14384.10  14445.10   \n",
       "17517 2021-01-11 10:45:00+05:30  14443.00  14455.00  14419.50  14426.50   \n",
       "17518 2021-01-11 11:15:00+05:30  14411.60  14443.55  14406.85  14443.00   \n",
       "...                         ...       ...       ...       ...       ...   \n",
       "20454 2021-12-31 13:15:00+05:30  17376.95  17400.55  17375.75  17396.85   \n",
       "20455 2021-12-31 13:45:00+05:30  17353.95  17389.35  17342.85  17376.90   \n",
       "20456 2021-12-31 14:15:00+05:30  17368.90  17371.20  17343.30  17354.30   \n",
       "20457 2021-12-31 14:45:00+05:30  17351.45  17377.25  17341.85  17368.75   \n",
       "20458 2021-12-31 15:15:00+05:30  17364.25  17365.45  17350.10  17351.40   \n",
       "\n",
       "       volume  day  \n",
       "17514       0   11  \n",
       "17515       0   11  \n",
       "17516       0   11  \n",
       "17517       0   11  \n",
       "17518       0   11  \n",
       "...       ...  ...  \n",
       "20454       0   31  \n",
       "20455       0   31  \n",
       "20456       0   31  \n",
       "20457       0   31  \n",
       "20458       0   31  \n",
       "\n",
       "[2945 rows x 7 columns]"
      ]
     },
     "execution_count": 2,
     "metadata": {},
     "output_type": "execute_result"
    }
   ],
   "source": [
    "data = pd.read_csv('/Users/tejasmadhukar/Documents/Vscode/Data_s/Probability project/Data/NIFTY 50_30min.csv')\n",
    "data['date'] = pd.to_datetime(data['date'])\n",
    "data = data[data['date'].dt.year==2021]\n",
    "data['day'] = data['date'].dt.day\n",
    "data"
   ]
  },
  {
   "cell_type": "code",
   "execution_count": 15,
   "id": "54db405b",
   "metadata": {},
   "outputs": [],
   "source": [
    "def modelp(df1,arr,arr_c):\n",
    "    max_pt = max(df1['high'])\n",
    "    min_pt = min(df1['low'])\n",
    "    mean_point = (max_pt + min_pt)/2\n",
    "    upper_bound = mean_point + 5\n",
    "    lower_bound = mean_point - 5\n",
    "    close1 = list(df1['close'])\n",
    "    check = []\n",
    "    \n",
    "    for i in (range(len(close1)-2)):\n",
    "        if (close1[i] <= upper_bound) and (close1[i] >= lower_bound):\n",
    "            temp = [close1[i],close1[i+1],close1[i+2]]\n",
    "            check.append(temp)\n",
    "            \n",
    "    for i in check:\n",
    "        for j in i:\n",
    "            if (check.index(i)==len(check)-1):\n",
    "                break\n",
    "            if j in check[check.index(i)+1]:\n",
    "                i += check[check.index(i)+1]\n",
    "                check.pop(check.index(i)+1)\n",
    "                \n",
    "    checkn = []\n",
    "    outside = []\n",
    "    \n",
    "    for i in range(len(check)):\n",
    "        emp = []\n",
    "        checkn.append(emp)\n",
    "        \n",
    "    for i in range(len(check)):\n",
    "        emp = []\n",
    "        outside.append(emp)\n",
    "        \n",
    "    for i in range(len(check)):\n",
    "        for x in check[i]:\n",
    "            if x not in checkn[i]:\n",
    "                checkn[i].append(x)\n",
    "                \n",
    "    for i in range(len(checkn)):\n",
    "        for j in range(len(checkn[i])-1):\n",
    "            if(checkn[i][j]>upper_bound)or(checkn[i][j]<lower_bound):\n",
    "                outside[i].append(checkn[i][j])\n",
    "                \n",
    "    for i in checkn:\n",
    "        change = (i[-1]-i[0])/i[0]\n",
    "        arr_c.append(change)\n",
    "        \n",
    "    u3 = 0\n",
    "    d3 = 0\n",
    "    u2 =0\n",
    "    d2 = 0\n",
    "    s = 0\n",
    "\n",
    "    for i in range(len(checkn)):\n",
    "        if(len(outside[i])==1)and(checkn[i][-1]>upper_bound):\n",
    "            u3 += 1\n",
    "        if(len(outside[i])==1)and(checkn[i][-1]<lower_bound):\n",
    "            d3 += 1\n",
    "        for j in checkn[i]:\n",
    "            if((j>upper_bound)and(len(checkn[i])==3)):\n",
    "                u2 += 1\n",
    "                break\n",
    "            if((j<lower_bound)and(len(checkn[i])==3)):\n",
    "                d2 += 1\n",
    "                break\n",
    "\n",
    "    s = len(checkn)-(u2+d2+u3+d3)\n",
    "    arr[0] += u2\n",
    "    arr[1] += u3\n",
    "    arr[2] += d2\n",
    "    arr[3] += d3 \n",
    "    arr[4] += s\n",
    "                \n",
    "    \n",
    "    \n",
    "    "
   ]
  },
  {
   "cell_type": "code",
   "execution_count": 16,
   "id": "bd54e188",
   "metadata": {},
   "outputs": [],
   "source": [
    "arr = [0,0,0,0,0] #u2,u3,d2,d3,s\n",
    "arr_c = []\n",
    "for i in range(data['day'].count()-1):\n",
    "    if data['day'].values[i]!=data['day'].values[i+1]:\n",
    "        if(i==12):\n",
    "            df1 = data.iloc[:i+1]\n",
    "            modelp(df1,arr,arr_c)\n",
    "        df1 = data.iloc[(i+1)-12:i+1]\n",
    "        modelp(df1,arr,arr_c)\n",
    "        "
   ]
  },
  {
   "cell_type": "code",
   "execution_count": 17,
   "id": "54080ee1",
   "metadata": {},
   "outputs": [
    {
     "data": {
      "text/plain": [
       "[66, 86, 62, 69, -105]"
      ]
     },
     "execution_count": 17,
     "metadata": {},
     "output_type": "execute_result"
    }
   ],
   "source": [
    "\n",
    "arr\n",
    "\n",
    "    "
   ]
  },
  {
   "cell_type": "code",
   "execution_count": 18,
   "id": "51ca85cf",
   "metadata": {},
   "outputs": [
    {
     "data": {
      "text/plain": [
       "0.8539325842696629"
      ]
     },
     "execution_count": 18,
     "metadata": {},
     "output_type": "execute_result"
    }
   ],
   "source": [
    "sum = 0\n",
    "for i in arr:\n",
    "    sum += i\n",
    "    \n",
    "(arr[0]+arr[1])/sum"
   ]
  },
  {
   "cell_type": "code",
   "execution_count": 19,
   "id": "f51a5e7d",
   "metadata": {},
   "outputs": [
    {
     "data": {
      "text/plain": [
       "[66, 86, 62, 69, 105]"
      ]
     },
     "execution_count": 19,
     "metadata": {},
     "output_type": "execute_result"
    }
   ],
   "source": [
    "arr[-1] *= -1\n",
    "arr"
   ]
  },
  {
   "cell_type": "code",
   "execution_count": 20,
   "id": "15c71a58",
   "metadata": {},
   "outputs": [
    {
     "data": {
      "text/plain": [
       "0.8539325842696629"
      ]
     },
     "execution_count": 20,
     "metadata": {},
     "output_type": "execute_result"
    }
   ],
   "source": [
    "(arr[0]+arr[1])/sum"
   ]
  },
  {
   "cell_type": "code",
   "execution_count": 9,
   "id": "6fc58124",
   "metadata": {},
   "outputs": [
    {
     "data": {
      "text/plain": [
       "1544"
      ]
     },
     "execution_count": 9,
     "metadata": {},
     "output_type": "execute_result"
    }
   ],
   "source": [
    "sum"
   ]
  },
  {
   "cell_type": "code",
   "execution_count": 22,
   "id": "d67ef807",
   "metadata": {},
   "outputs": [],
   "source": [
    "arr_cn = []\n",
    "for i in arr_c:\n",
    "    if i not in arr_cn:\n",
    "        arr_cn.append(i)"
   ]
  },
  {
   "cell_type": "code",
   "execution_count": 25,
   "id": "3470f66b",
   "metadata": {},
   "outputs": [],
   "source": [
    "dfc = pd.DataFrame(arr_cn)"
   ]
  },
  {
   "cell_type": "code",
   "execution_count": 26,
   "id": "6ae1ce28",
   "metadata": {},
   "outputs": [],
   "source": [
    "dfc.to_csv('Check_fib')"
   ]
  },
  {
   "cell_type": "code",
   "execution_count": null,
   "id": "5dbb47ff",
   "metadata": {},
   "outputs": [],
   "source": []
  }
 ],
 "metadata": {
  "kernelspec": {
   "display_name": "Python 3 (ipykernel)",
   "language": "python",
   "name": "python3"
  },
  "language_info": {
   "codemirror_mode": {
    "name": "ipython",
    "version": 3
   },
   "file_extension": ".py",
   "mimetype": "text/x-python",
   "name": "python",
   "nbconvert_exporter": "python",
   "pygments_lexer": "ipython3",
   "version": "3.9.13"
  },
  "vscode": {
   "interpreter": {
    "hash": "b0fa6594d8f4cbf19f97940f81e996739fb7646882a419484c72d19e05852a7e"
   }
  }
 },
 "nbformat": 4,
 "nbformat_minor": 5
}
