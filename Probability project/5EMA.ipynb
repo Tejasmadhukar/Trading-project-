{
 "cells": [
  {
   "cell_type": "markdown",
   "id": "827bb4d6",
   "metadata": {},
   "source": [
    "## 5 EMA Stratergy Implementation\n",
    "##### stratergy explained : <a href = \"https://www.youtube.com/watch?v=uu3zGIXaG8g&ab_channel=PushkarRajThakur%3ABusinessCoach\">link</a>\n",
    "<hr>"
   ]
  },
  {
   "cell_type": "code",
   "execution_count": 1,
   "id": "d3644447",
   "metadata": {},
   "outputs": [],
   "source": [
    "import numpy as np\n",
    "import pandas as pd\n",
    "import seaborn as sns\n",
    "import plotly.graph_objects as go\n",
    "import talib as ta\n",
    "import yfinance as yf\n",
    "import datetime"
   ]
  },
  {
   "cell_type": "code",
   "execution_count": 2,
   "id": "dfee7fa9",
   "metadata": {
    "scrolled": false
   },
   "outputs": [
    {
     "name": "stdout",
     "output_type": "stream",
     "text": [
      "[*********************100%***********************]  1 of 1 completed\n"
     ]
    }
   ],
   "source": [
    "data = yf.download(tickers='^NSEI', period='7d', interval='5m')\n",
    "data.to_csv(\"test.csv\")"
   ]
  },
  {
   "cell_type": "code",
   "execution_count": 3,
   "id": "42e686dc",
   "metadata": {
    "scrolled": false
   },
   "outputs": [],
   "source": [
    "data = pd.read_csv('/Users/tejasmadhukar/Documents/Vscode/Data_s/Probability project/test.csv')\n",
    "# data = pd.read_csv('/Users/tejasmadhukar/Documents/Vscode/Data_s/Probability project/Data/NIFTY 50_5min.csv')\n",
    "# data = data[data['Datetime'].dt.year==2021]\n",
    "data['Datetime'] = pd.to_datetime(data['Datetime'])\n",
    "data['5EMA'] = ta.EMA(data['Close'],5)"
   ]
  },
  {
   "cell_type": "code",
   "execution_count": 5,
   "id": "3415578e",
   "metadata": {
    "scrolled": false
   },
   "outputs": [
    {
     "data": {
      "text/html": [
       "<div>\n",
       "<style scoped>\n",
       "    .dataframe tbody tr th:only-of-type {\n",
       "        vertical-align: middle;\n",
       "    }\n",
       "\n",
       "    .dataframe tbody tr th {\n",
       "        vertical-align: top;\n",
       "    }\n",
       "\n",
       "    .dataframe thead th {\n",
       "        text-align: right;\n",
       "    }\n",
       "</style>\n",
       "<table border=\"1\" class=\"dataframe\">\n",
       "  <thead>\n",
       "    <tr style=\"text-align: right;\">\n",
       "      <th></th>\n",
       "      <th>Datetime</th>\n",
       "      <th>Open</th>\n",
       "      <th>High</th>\n",
       "      <th>Low</th>\n",
       "      <th>Close</th>\n",
       "      <th>Adj Close</th>\n",
       "      <th>Volume</th>\n",
       "      <th>5EMA</th>\n",
       "    </tr>\n",
       "  </thead>\n",
       "  <tbody>\n",
       "    <tr>\n",
       "      <th>0</th>\n",
       "      <td>2023-01-31 09:15:00</td>\n",
       "      <td>17731.449219</td>\n",
       "      <td>17731.449219</td>\n",
       "      <td>17611.250000</td>\n",
       "      <td>17612.800781</td>\n",
       "      <td>17612.800781</td>\n",
       "      <td>0</td>\n",
       "      <td>NaN</td>\n",
       "    </tr>\n",
       "    <tr>\n",
       "      <th>1</th>\n",
       "      <td>2023-01-31 09:20:00</td>\n",
       "      <td>17614.800781</td>\n",
       "      <td>17649.900391</td>\n",
       "      <td>17598.550781</td>\n",
       "      <td>17621.099609</td>\n",
       "      <td>17621.099609</td>\n",
       "      <td>0</td>\n",
       "      <td>NaN</td>\n",
       "    </tr>\n",
       "    <tr>\n",
       "      <th>2</th>\n",
       "      <td>2023-01-31 09:25:00</td>\n",
       "      <td>17618.900391</td>\n",
       "      <td>17632.849609</td>\n",
       "      <td>17592.199219</td>\n",
       "      <td>17614.099609</td>\n",
       "      <td>17614.099609</td>\n",
       "      <td>0</td>\n",
       "      <td>NaN</td>\n",
       "    </tr>\n",
       "    <tr>\n",
       "      <th>3</th>\n",
       "      <td>2023-01-31 09:30:00</td>\n",
       "      <td>17615.750000</td>\n",
       "      <td>17616.150391</td>\n",
       "      <td>17572.099609</td>\n",
       "      <td>17573.199219</td>\n",
       "      <td>17573.199219</td>\n",
       "      <td>0</td>\n",
       "      <td>NaN</td>\n",
       "    </tr>\n",
       "    <tr>\n",
       "      <th>4</th>\n",
       "      <td>2023-01-31 09:35:00</td>\n",
       "      <td>17572.400391</td>\n",
       "      <td>17616.150391</td>\n",
       "      <td>17572.400391</td>\n",
       "      <td>17597.449219</td>\n",
       "      <td>17597.449219</td>\n",
       "      <td>0</td>\n",
       "      <td>17603.729687</td>\n",
       "    </tr>\n",
       "    <tr>\n",
       "      <th>...</th>\n",
       "      <td>...</td>\n",
       "      <td>...</td>\n",
       "      <td>...</td>\n",
       "      <td>...</td>\n",
       "      <td>...</td>\n",
       "      <td>...</td>\n",
       "      <td>...</td>\n",
       "      <td>...</td>\n",
       "    </tr>\n",
       "    <tr>\n",
       "      <th>467</th>\n",
       "      <td>2023-02-08 10:40:00</td>\n",
       "      <td>17831.300781</td>\n",
       "      <td>17831.300781</td>\n",
       "      <td>17810.449219</td>\n",
       "      <td>17812.349609</td>\n",
       "      <td>17812.349609</td>\n",
       "      <td>0</td>\n",
       "      <td>17831.351002</td>\n",
       "    </tr>\n",
       "    <tr>\n",
       "      <th>468</th>\n",
       "      <td>2023-02-08 10:45:00</td>\n",
       "      <td>17812.050781</td>\n",
       "      <td>17822.099609</td>\n",
       "      <td>17799.949219</td>\n",
       "      <td>17801.550781</td>\n",
       "      <td>17801.550781</td>\n",
       "      <td>0</td>\n",
       "      <td>17821.417595</td>\n",
       "    </tr>\n",
       "    <tr>\n",
       "      <th>469</th>\n",
       "      <td>2023-02-08 10:50:00</td>\n",
       "      <td>17801.849609</td>\n",
       "      <td>17821.150391</td>\n",
       "      <td>17801.349609</td>\n",
       "      <td>17820.849609</td>\n",
       "      <td>17820.849609</td>\n",
       "      <td>0</td>\n",
       "      <td>17821.228267</td>\n",
       "    </tr>\n",
       "    <tr>\n",
       "      <th>470</th>\n",
       "      <td>2023-02-08 10:55:00</td>\n",
       "      <td>17820.500000</td>\n",
       "      <td>17831.250000</td>\n",
       "      <td>17819.900391</td>\n",
       "      <td>17825.900391</td>\n",
       "      <td>17825.900391</td>\n",
       "      <td>0</td>\n",
       "      <td>17822.785641</td>\n",
       "    </tr>\n",
       "    <tr>\n",
       "      <th>471</th>\n",
       "      <td>2023-02-08 10:58:26</td>\n",
       "      <td>17822.750000</td>\n",
       "      <td>17822.750000</td>\n",
       "      <td>17822.750000</td>\n",
       "      <td>17822.750000</td>\n",
       "      <td>17822.750000</td>\n",
       "      <td>0</td>\n",
       "      <td>17822.773761</td>\n",
       "    </tr>\n",
       "  </tbody>\n",
       "</table>\n",
       "<p>472 rows × 8 columns</p>\n",
       "</div>"
      ],
      "text/plain": [
       "               Datetime          Open          High           Low  \\\n",
       "0   2023-01-31 09:15:00  17731.449219  17731.449219  17611.250000   \n",
       "1   2023-01-31 09:20:00  17614.800781  17649.900391  17598.550781   \n",
       "2   2023-01-31 09:25:00  17618.900391  17632.849609  17592.199219   \n",
       "3   2023-01-31 09:30:00  17615.750000  17616.150391  17572.099609   \n",
       "4   2023-01-31 09:35:00  17572.400391  17616.150391  17572.400391   \n",
       "..                  ...           ...           ...           ...   \n",
       "467 2023-02-08 10:40:00  17831.300781  17831.300781  17810.449219   \n",
       "468 2023-02-08 10:45:00  17812.050781  17822.099609  17799.949219   \n",
       "469 2023-02-08 10:50:00  17801.849609  17821.150391  17801.349609   \n",
       "470 2023-02-08 10:55:00  17820.500000  17831.250000  17819.900391   \n",
       "471 2023-02-08 10:58:26  17822.750000  17822.750000  17822.750000   \n",
       "\n",
       "            Close     Adj Close  Volume          5EMA  \n",
       "0    17612.800781  17612.800781       0           NaN  \n",
       "1    17621.099609  17621.099609       0           NaN  \n",
       "2    17614.099609  17614.099609       0           NaN  \n",
       "3    17573.199219  17573.199219       0           NaN  \n",
       "4    17597.449219  17597.449219       0  17603.729687  \n",
       "..            ...           ...     ...           ...  \n",
       "467  17812.349609  17812.349609       0  17831.351002  \n",
       "468  17801.550781  17801.550781       0  17821.417595  \n",
       "469  17820.849609  17820.849609       0  17821.228267  \n",
       "470  17825.900391  17825.900391       0  17822.785641  \n",
       "471  17822.750000  17822.750000       0  17822.773761  \n",
       "\n",
       "[472 rows x 8 columns]"
      ]
     },
     "execution_count": 5,
     "metadata": {},
     "output_type": "execute_result"
    }
   ],
   "source": [
    "# data = data.iloc[75:]\n",
    "#data = data[data['Datetime'].dt.month==1]\n",
    "data"
   ]
  },
  {
   "cell_type": "code",
   "execution_count": 6,
   "id": "9c86a5f4",
   "metadata": {},
   "outputs": [],
   "source": [
    "def enter(data,j,sl,entry,target,arr,ana,count,sl_m,w_m):\n",
    "    k = j+2\n",
    "    while(k<len(data['Close'])):\n",
    "        \n",
    "        if data['Datetime'].dt.date.values[k] not in sl_m:\n",
    "            sl_m[data['Datetime'].dt.date.values[k]] = 0\n",
    "            \n",
    "        if data['Datetime'].dt.date.values[k] not in w_m:\n",
    "            w_m[data['Datetime'].dt.date.values[k]] = 0\n",
    "            \n",
    "        if(data['Datetime'].dt.day.values[k]>data['Datetime'].dt.day.values[j]):\n",
    "            change = (entry-(data['High'].values[k-1]))/entry\n",
    "            arr.append(change)\n",
    "            ch_b = change>0\n",
    "            if(change<0):\n",
    "                sl_m[data['Datetime'].dt.date.values[k]] += 1\n",
    "            else:\n",
    "                w_m[data['Datetime'].dt.date.values[k]] += 1\n",
    "            ana[count] = \"{6} sl:{0} , entry:{1} , exit:{2} , target:{3} , Date:{7}, entry-time{4} , exit-time:{5}\".format(sl,entry,data['Close'].values[k],target,data['Datetime'].dt.time.values[j+1],data['Datetime'].dt.time.values[k],ch_b,data['Datetime'].dt.date.values[k])\n",
    "            return k\n",
    "        \n",
    "        if(data['High'].values[k]>sl):\n",
    "            change = (entry-sl)/entry                                                                                  \n",
    "            arr.append(change)\n",
    "            sl_m[data['Datetime'].dt.date.values[k]] += 1\n",
    "            ana[count] = \"-ve sl:{0} , entry:{1} , exit:{2} , target:{3} , Date:{6}, entry-time:{4} , exit-time:{5}\".format(sl,entry,sl,target,data['Datetime'].dt.time.values[j+1],data['Datetime'].dt.time.values[k],data['Datetime'].dt.date.values[k])\n",
    "            return k \n",
    "        \n",
    "        if(data['Low'].values[k]<target):\n",
    "            change = (entry-target)/entry                                                                                                                   \n",
    "            arr.append(change)\n",
    "            w_m[data['Datetime'].dt.date.values[k]] += 1\n",
    "            ana[count] = \"+ve sl:{0} , entry:{1} , exit:{2} , target:{3} , Date:{6}, entry-time:{4} , exit-time:{5}\".format(sl,entry,target,target,data['Datetime'].dt.time.values[j+1],data['Datetime'].dt.time.values[k],data['Datetime'].dt.date.values[k])\n",
    "            return k\n",
    "        \n",
    "        # if(data['Close'].values[k]<target):\n",
    "        #     if(data['Close'].values[k+1]<target):\n",
    "        #         target = entry - (4*(sl-entry))\n",
    "                \n",
    "    \n",
    "        if(data['Low'].values[k]-data['5EMA'].values[k]>0.4):\n",
    "            change = (entry-data['Close'].values[k])/entry\n",
    "            arr.append(change)\n",
    "            ch_b = change>0\n",
    "            if(change<0):\n",
    "                sl_m[data['Datetime'].dt.date.values[k]] += 1\n",
    "            else:\n",
    "                w_m[data['Datetime'].dt.date.values[k]] += 1\n",
    "            ana[count] = \"{6} sl:{0} , entry:{1} , exit:{2} , target:{3} , Date:{7}, entry-time{4} , exit-time:{5}\".format(sl,entry,data['Close'].values[k],target,data['Datetime'].dt.time.values[j+1],data['Datetime'].dt.time.values[k],ch_b,data['Datetime'].dt.date.values[k])\n",
    "            return k-2\n",
    "        \n",
    "        k += 1"
   ]
  },
  {
   "cell_type": "code",
   "execution_count": 7,
   "id": "d6f6c36c",
   "metadata": {},
   "outputs": [],
   "source": [
    "def trade(data,i,arr,ana,count,sl_m,w_m):\n",
    "    sl = 0.0\n",
    "    sl_h = 0.0\n",
    "    entry = 0.0\n",
    "    target = 0.0\n",
    "    j = i+1\n",
    "    while(j<len(data['Close'])-1):\n",
    "        if(data['High'].values[j]>data['5EMA'].values[j] and data['Low'].values[j]<data['5EMA'].values[j]):\n",
    "            sl = data['High'].values[j-1]\n",
    "            entry = data['Open'].values[j+1] + ((data['Close'].values[j+1]-data['Open'].values[j+1])/2)\n",
    "            target = entry - (3*(sl-entry))\n",
    "            if(entry>sl):\n",
    "                return j \n",
    "            return enter(data,j,sl,entry,target,arr,ana,count,sl_m,w_m)\n",
    "        j += 1"
   ]
  },
  {
   "cell_type": "code",
   "execution_count": 8,
   "id": "b6c211e8",
   "metadata": {},
   "outputs": [],
   "source": [
    "def EMA(arr,data,ana,sl_m,w_m):\n",
    "    i = 0\n",
    "    count = 0\n",
    "    while(i<len(data['Close'])-1):\n",
    "        \n",
    "        if data['Datetime'].dt.date.values[i] not in sl_m:\n",
    "            sl_m[data['Datetime'].dt.date.values[i]] = 0\n",
    "            \n",
    "        if data['Datetime'].dt.date.values[i] not in w_m:\n",
    "            w_m[data['Datetime'].dt.date.values[i]] = 0\n",
    "            \n",
    "        if(sl_m[data['Datetime'].dt.date.values[i]]>1):\n",
    "            i += 1\n",
    "            continue\n",
    "            \n",
    "        if(data['Low'].values[i]>data['5EMA'].values[i]):\n",
    "            count += 1\n",
    "            a = trade(data,i,arr,ana,count,sl_m,w_m)\n",
    "            try:\n",
    "                b = a-i+1\n",
    "                i += b\n",
    "                continue\n",
    "            except:\n",
    "                c = 1+1\n",
    "        i += 1"
   ]
  },
  {
   "cell_type": "code",
   "execution_count": 9,
   "id": "34b96cd4",
   "metadata": {
    "scrolled": false
   },
   "outputs": [],
   "source": [
    "arr = []\n",
    "ana = {}\n",
    "sl_m = {}\n",
    "w_m = {}\n",
    "EMA(arr,data,ana,sl_m,w_m)                "
   ]
  },
  {
   "cell_type": "code",
   "execution_count": 10,
   "id": "8895e582",
   "metadata": {},
   "outputs": [
    {
     "name": "stdout",
     "output_type": "stream",
     "text": [
      "Initial: 100000\n",
      "P&L before brokerage: 684.4971460571687\n",
      "Percentage change: 0.6844971460571687\n"
     ]
    }
   ],
   "source": [
    "amount  = 100000\n",
    "ini = amount\n",
    "for i in arr:\n",
    "    amount = (1+i)*amount\n",
    "print(\"Initial: {}\".format(ini))\n",
    "print(\"P&L before brokerage: {}\".format(amount-ini))\n",
    "print(\"Percentage change: {}\".format(((amount-ini)/ini)*100))"
   ]
  },
  {
   "cell_type": "code",
   "execution_count": 11,
   "id": "c962ca1c",
   "metadata": {
    "scrolled": false
   },
   "outputs": [
    {
     "data": {
      "text/plain": [
       "{datetime.date(2023, 1, 31): 2,\n",
       " datetime.date(2023, 2, 1): 2,\n",
       " datetime.date(2023, 2, 2): 2,\n",
       " datetime.date(2023, 2, 3): 2,\n",
       " datetime.date(2023, 2, 6): 2,\n",
       " datetime.date(2023, 2, 7): 2,\n",
       " datetime.date(2023, 2, 8): 1}"
      ]
     },
     "execution_count": 11,
     "metadata": {},
     "output_type": "execute_result"
    }
   ],
   "source": [
    "sl_m"
   ]
  },
  {
   "cell_type": "code",
   "execution_count": 12,
   "id": "b94ab441",
   "metadata": {},
   "outputs": [
    {
     "data": {
      "text/plain": [
       "dict"
      ]
     },
     "execution_count": 12,
     "metadata": {},
     "output_type": "execute_result"
    }
   ],
   "source": [
    "type(ana)"
   ]
  },
  {
   "cell_type": "code",
   "execution_count": 13,
   "id": "3bd060a2",
   "metadata": {
    "scrolled": false
   },
   "outputs": [
    {
     "data": {
      "text/plain": [
       "{1: '-ve sl:17607.94921875 , entry:17602.5498046875 , exit:17607.94921875 , target:17586.3515625 , Date:2023-01-31, entry-time:10:40:00 , exit-time:10:45:00',\n",
       " 2: '-ve sl:17615.599609375 , entry:17591.875 , exit:17615.599609375 , target:17520.701171875 , Date:2023-01-31, entry-time:11:00:00 , exit-time:11:25:00',\n",
       " 3: 'False sl:17798.19921875 , entry:17749.275390625 , exit:17781.900390625 , target:17602.50390625 , Date:2023-02-01, entry-time09:35:00 , exit-time:10:05:00',\n",
       " 6: '-ve sl:17814.25 , entry:17801.400390625 , exit:17814.25 , target:17762.8515625 , Date:2023-02-01, entry-time:10:40:00 , exit-time:10:45:00',\n",
       " 7: '+ve sl:17650.30078125 , entry:17616.4248046875 , exit:17514.796875 , target:17514.796875 , Date:2023-02-02, entry-time:09:50:00 , exit-time:10:25:00',\n",
       " 8: '-ve sl:17624.25 , entry:17610.75 , exit:17624.25 , target:17570.25 , Date:2023-02-02, entry-time:11:20:00 , exit-time:11:50:00',\n",
       " 9: '+ve sl:17634.94921875 , entry:17610.9501953125 , exit:17538.953125 , target:17538.953125 , Date:2023-02-02, entry-time:12:15:00 , exit-time:13:00:00',\n",
       " 10: '-ve sl:17602.69921875 , entry:17579.1005859375 , exit:17602.69921875 , target:17508.3046875 , Date:2023-02-02, entry-time:14:35:00 , exit-time:14:40:00',\n",
       " 11: '+ve sl:17710.80078125 , entry:17682.8251953125 , exit:17598.8984375 , target:17598.8984375 , Date:2023-02-03, entry-time:09:30:00 , exit-time:10:40:00',\n",
       " 12: '-ve sl:17680.5 , entry:17664.2998046875 , exit:17680.5 , target:17615.69921875 , Date:2023-02-03, entry-time:12:05:00 , exit-time:12:15:00',\n",
       " 13: '-ve sl:17705.349609375 , entry:17682.2255859375 , exit:17705.349609375 , target:17612.853515625 , Date:2023-02-03, entry-time:12:30:00 , exit-time:12:40:00',\n",
       " 14: '-ve sl:17746.0 , entry:17729.7001953125 , exit:17746.0 , target:17680.80078125 , Date:2023-02-06, entry-time:11:35:00 , exit-time:11:55:00',\n",
       " 15: '-ve sl:17770.599609375 , entry:17757.599609375 , exit:17770.599609375 , target:17718.599609375 , Date:2023-02-06, entry-time:13:50:00 , exit-time:13:55:00',\n",
       " 16: 'True sl:17810.849609375 , entry:17769.4501953125 , exit:17758.25 , target:17645.251953125 , Date:2023-02-07, entry-time09:35:00 , exit-time:10:30:00',\n",
       " 18: '+ve sl:17787.05078125 , entry:17768.1748046875 , exit:17711.546875 , target:17711.546875 , Date:2023-02-07, entry-time:10:50:00 , exit-time:12:15:00',\n",
       " 19: '-ve sl:17721.80078125 , entry:17716.8251953125 , exit:17721.80078125 , target:17701.8984375 , Date:2023-02-07, entry-time:13:45:00 , exit-time:13:50:00',\n",
       " 20: '-ve sl:17735.80078125 , entry:17725.9501953125 , exit:17735.80078125 , target:17696.3984375 , Date:2023-02-07, entry-time:14:20:00 , exit-time:14:35:00',\n",
       " 21: '-ve sl:17853.349609375 , entry:17844.17578125 , exit:17853.349609375 , target:17816.654296875 , Date:2023-02-08, entry-time:09:55:00 , exit-time:10:00:00'}"
      ]
     },
     "execution_count": 13,
     "metadata": {},
     "output_type": "execute_result"
    }
   ],
   "source": [
    "ana"
   ]
  },
  {
   "cell_type": "code",
   "execution_count": 62,
   "id": "50272ba5",
   "metadata": {},
   "outputs": [],
   "source": [
    "a = []\n",
    "for key,item in ana.items():\n",
    "    temp = [i.strip() for i in item.split(',')]\n",
    "    a.append(temp)"
   ]
  },
  {
   "cell_type": "code",
   "execution_count": 63,
   "id": "5c50cf06",
   "metadata": {},
   "outputs": [
    {
     "name": "stdout",
     "output_type": "stream",
     "text": [
      "['+ve sl:18197.5', 'entry:18180.1494140625', 'exit:18128.09765625', 'target:18128.09765625', 'Date:2023-01-24', 'entry-time:09:50:00', 'exit-time:10:10:00']\n",
      "['-ve sl:18171.25', 'entry:18159.875', 'exit:18171.25', 'target:18125.75', 'Date:2023-01-24', 'entry-time:10:55:00', 'exit-time:11:05:00']\n",
      "['+ve sl:18143.55078125', 'entry:18133.150390625', 'exit:18101.94921875', 'target:18101.94921875', 'Date:2023-01-24', 'entry-time:13:10:00', 'exit-time:13:40:00']\n",
      "['-ve sl:18113.80078125', 'entry:18109.6005859375', 'exit:18113.80078125', 'target:18097.0', 'Date:2023-01-24', 'entry-time:14:15:00', 'exit-time:14:20:00']\n"
     ]
    }
   ],
   "source": [
    "for i in a:\n",
    "    if i[4]=='Date:2023-01-24':\n",
    "        print(i)"
   ]
  },
  {
   "cell_type": "markdown",
   "id": "6b80ca92",
   "metadata": {},
   "source": [
    "<hr>\n",
    "<H1>Options Backtest from here</h1>\n",
    "<hr>"
   ]
  },
  {
   "cell_type": "code",
   "execution_count": null,
   "id": "0261b765",
   "metadata": {},
   "outputs": [],
   "source": []
  },
  {
   "cell_type": "code",
   "execution_count": null,
   "id": "91688359",
   "metadata": {},
   "outputs": [],
   "source": []
  }
 ],
 "metadata": {
  "kernelspec": {
   "display_name": "Python 3 (ipykernel)",
   "language": "python",
   "name": "python3"
  },
  "language_info": {
   "codemirror_mode": {
    "name": "ipython",
    "version": 3
   },
   "file_extension": ".py",
   "mimetype": "text/x-python",
   "name": "python",
   "nbconvert_exporter": "python",
   "pygments_lexer": "ipython3",
   "version": "3.9.13"
  },
  "vscode": {
   "interpreter": {
    "hash": "b0fa6594d8f4cbf19f97940f81e996739fb7646882a419484c72d19e05852a7e"
   }
  }
 },
 "nbformat": 4,
 "nbformat_minor": 5
}
